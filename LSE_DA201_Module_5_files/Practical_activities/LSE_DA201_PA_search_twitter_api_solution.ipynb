{
 "cells": [
  {
   "cell_type": "markdown",
   "id": "d75a9832",
   "metadata": {},
   "source": [
    "### LSE Data Analytics Online Career Accelerator\n",
    "\n",
    "# DA201: Data Analytics using Python"
   ]
  },
  {
   "cell_type": "markdown",
   "id": "963426a8",
   "metadata": {},
   "source": [
    "## Practical activity: Search the Twitter API"
   ]
  },
  {
   "cell_type": "markdown",
   "id": "ef810d26",
   "metadata": {},
   "source": [
    "**Important**\n",
    "\n",
    "Please take note that you will work with the Twitter API. Keep in mind that the Twitter API is based on live and current events. Therefore, your output will differ from the outputs provided. For example, the colour of apples was trending yesterday, but today the aerodynamics of aeroplanes is trending."
   ]
  },
  {
   "cell_type": "markdown",
   "id": "8615e7ee",
   "metadata": {},
   "source": [
    "**This is the solution to the activity.**\n",
    "\n",
    "The story of Bitcoin and other cryptocurrencies has captured investors like few financial stories have. Many finance firms are looking to invest in the crypto market. As a data analyst at a financial institution, your manager has tasked you with investigating Bitcoin in a little more detail, particularly in terms of future growth of the currency and its use in the United States. \n",
    "\n",
    "Earlier, as a data analyst at a financial institution, your manager tasked you with investigating Bitcoin in terms of future growth and its use in the United States. Previously, you accessed Bitcoin data through the Coingecko API. Now, your manager asks you to turn your attention to Twitter, particularly tweets on Bitcoin and cryptocurrency in general. Your manager particularly wants you to check if Bitcoin is trending in `New York, Los Angeles, Sydney, Auckland, and Dubai`.\n",
    "\n",
    "She also wants to see a DataFrame of topics with over `200,000` tweets for each city. \n",
    "\n",
    "Your manager then wants you to cross-check trending topics between the `United States and the UK`, to see what people are talking about in both countries, and if Bitcoin forms part of the larger conversation. If Bitcoin is not a shared trending topic, then she asks that you search Twitter for `#Bitcoin` and two other cryptocurrency hashtags of your choice, and analyse the top two tweets you return for each hashtag, particularly in terms of their popularity."
   ]
  },
  {
   "cell_type": "markdown",
   "id": "eb962e25",
   "metadata": {},
   "source": [
    "## 1. Prepare your workstation"
   ]
  },
  {
   "cell_type": "code",
   "execution_count": null,
   "id": "fde628ad",
   "metadata": {},
   "outputs": [],
   "source": [
    "# Copy the YAML file and your Twitter keys over to this Jupyter Notebook before you start to work.\n",
    "import yaml\n",
    "from yaml.loader import SafeLoader\n",
    "from twitter import *\n",
    "\n",
    "# Import the YAML file - remember to specify the whole path.\n",
    "twitter_creds = yaml.safe_load(open('C:/Users/hamh/Dropbox/Coding et al/LSE/2_Python/LSE_DA201_Python/C3_LSE_DA201/Week 5/twitter.yaml', 'r').read())\n",
    "\n",
    "# Pass your Twitter credentials.\n",
    "twitter_api = Twitter(auth=OAuth(twitter_creds['access_token'],\n",
    "                                 twitter_creds['access_token_secret'], \n",
    "                                 twitter_creds['api_key'],\n",
    "                                 twitter_creds['api_secret_key'] ))"
   ]
  },
  {
   "cell_type": "code",
   "execution_count": null,
   "id": "abdc9de9",
   "metadata": {},
   "outputs": [],
   "source": [
    "# See if you are connected.\n",
    "print(twitter_api)"
   ]
  },
  {
   "cell_type": "code",
   "execution_count": null,
   "id": "74c8716e",
   "metadata": {},
   "outputs": [],
   "source": [
    "# Run a test with #python.\n",
    "python_tweets = twitter_api.search.tweets(q=\"#python\")\n",
    "\n",
    "# View the output.\n",
    "print(python_tweets)"
   ]
  },
  {
   "cell_type": "markdown",
   "id": "c4a538ea",
   "metadata": {},
   "source": [
    "## 2. Identify New York and London"
   ]
  },
  {
   "cell_type": "code",
   "execution_count": null,
   "id": "998dcb48",
   "metadata": {},
   "outputs": [],
   "source": [
    "# Determine worldwide trends.\n",
    "trends_worldwide = twitter_api.trends.available()\n",
    "\n",
    "# How many trends are available?\n",
    "print(len(trends_worldwide))\n",
    "\n",
    "# Example of trends_worldwide.\n",
    "trends_worldwide[0]"
   ]
  },
  {
   "cell_type": "markdown",
   "id": "7b187b02",
   "metadata": {},
   "source": [
    "## New York"
   ]
  },
  {
   "cell_type": "code",
   "execution_count": null,
   "id": "7e03f49d",
   "metadata": {},
   "outputs": [],
   "source": [
    "# Find New York.\n",
    "our_city = 'New York'\n",
    "\n",
    "# Create a variable.\n",
    "new_york = [_ for _ in trends_worldwide if _['name'] == our_city]\n",
    "\n",
    "# View the output.\n",
    "print(len(new_york))\n",
    "\n",
    "# Use index to find New York.\n",
    "new_york[0]\n",
    "\n",
    "# List of where on earth identifier (woeid).\n",
    "new_york[0]['woeid']"
   ]
  },
  {
   "cell_type": "markdown",
   "id": "c8e5e2de",
   "metadata": {},
   "source": [
    "## London"
   ]
  },
  {
   "cell_type": "code",
   "execution_count": null,
   "id": "b812b2cd",
   "metadata": {},
   "outputs": [],
   "source": [
    "# Find London.\n",
    "our_city_2 = 'London'\n",
    "\n",
    "# Create a variable.\n",
    "london = [_ for _ in trends_worldwide if _['name'] == our_city_2]\n",
    "\n",
    "# View the output.\n",
    "print(len(london))\n",
    "\n",
    "# Use index to find London.\n",
    "london[0]\n",
    "\n",
    "# List of where on earth identifier (woeid).\n",
    "london[0]['woeid']"
   ]
  },
  {
   "cell_type": "markdown",
   "id": "53503590",
   "metadata": {},
   "source": [
    "## 3. Common trends"
   ]
  },
  {
   "cell_type": "markdown",
   "id": "94b62597",
   "metadata": {},
   "source": [
    "## New York"
   ]
  },
  {
   "cell_type": "code",
   "execution_count": null,
   "id": "de2a1667",
   "metadata": {},
   "outputs": [],
   "source": [
    "# Look at trends in New York.\n",
    "new_york_trends = twitter_api.trends.place(_id = new_york[0]['woeid'])\n",
    "\n",
    "# View the output.\n",
    "new_york_trends"
   ]
  },
  {
   "cell_type": "code",
   "execution_count": null,
   "id": "fdc25975",
   "metadata": {},
   "outputs": [],
   "source": [
    "# Look at the output as a DataFrame.\n",
    "# Import Pandas.\n",
    "import pandas as pd\n",
    "\n",
    "# Create a DataFrame.\n",
    "new_york_trends_pd = pd.DataFrame(new_york_trends[0]['trends'])\n",
    "\n",
    "# View a DataFrame.\n",
    "new_york_trends_pd"
   ]
  },
  {
   "cell_type": "code",
   "execution_count": null,
   "id": "97d6a9d4",
   "metadata": {},
   "outputs": [],
   "source": [
    "# Narrow list down to 50,000 tweets.\n",
    "new_york_trends_over50k_pd = new_york_trends_pd[new_york_trends_pd['tweet_volume'] > 50000]\\\n",
    ".sort_values('tweet_volume', ascending=False)\n",
    "\n",
    "# View the output.\n",
    "print(new_york_trends_over50k_pd.shape)\n",
    "new_york_trends_over50k_pd"
   ]
  },
  {
   "cell_type": "code",
   "execution_count": null,
   "id": "75f7f04c",
   "metadata": {},
   "outputs": [],
   "source": [
    "# Save output as a CSV file.\n",
    "new_york_trends_over50k_pd.to_csv('new_york_trends_over50k.csv', index=False)"
   ]
  },
  {
   "cell_type": "markdown",
   "id": "5023d317",
   "metadata": {},
   "source": [
    "## London"
   ]
  },
  {
   "cell_type": "code",
   "execution_count": null,
   "id": "a173185a",
   "metadata": {},
   "outputs": [],
   "source": [
    "# Look at trends in London.\n",
    "london = twitter_api.trends.place(_id = london[0]['woeid'])\n",
    "\n",
    "# View the output.\n",
    "london"
   ]
  },
  {
   "cell_type": "code",
   "execution_count": null,
   "id": "052928e8",
   "metadata": {},
   "outputs": [],
   "source": [
    "# Look at the output as a DataFrame.\n",
    "\n",
    "# Create a DataFrame.\n",
    "london_trends_pd = pd.DataFrame(london[0]['trends'])\n",
    "\n",
    "# View the DataFrame.\n",
    "london_trends_pd"
   ]
  },
  {
   "cell_type": "code",
   "execution_count": null,
   "id": "02262511",
   "metadata": {},
   "outputs": [],
   "source": [
    "# Narrow list down to 50,000 tweets.\n",
    "london_trends_over50k_pd = london_trends_pd[london_trends_pd['tweet_volume'] > 50000]\\\n",
    ".sort_values('tweet_volume', ascending=False)\n",
    "\n",
    "# View the output.\n",
    "print(london_trends_over50k_pd.shape)\n",
    "london_trends_over50k_pd"
   ]
  },
  {
   "cell_type": "code",
   "execution_count": null,
   "id": "106f5751",
   "metadata": {},
   "outputs": [],
   "source": [
    "# Save output as a CSV file.\n",
    "london_trends_over50k_pd.to_csv('london_trends_over50k.csv', index=False)"
   ]
  },
  {
   "cell_type": "markdown",
   "id": "50b40505",
   "metadata": {},
   "source": [
    "# Common trends"
   ]
  },
  {
   "cell_type": "code",
   "execution_count": null,
   "id": "67e27f92",
   "metadata": {},
   "outputs": [],
   "source": [
    "# Find New York.\n",
    "our_city = 'New York'\n",
    "\n",
    "# Create a variable.\n",
    "new_york = [_ for _ in trends_worldwide if _['name'] == our_city]\n",
    "\n",
    "# View the output.\n",
    "new_york[0]['woeid']"
   ]
  },
  {
   "cell_type": "code",
   "execution_count": null,
   "id": "69c4e836",
   "metadata": {},
   "outputs": [],
   "source": [
    "# Find London.\n",
    "our_city_2 = 'London'\n",
    "\n",
    "# Create a variable.\n",
    "london = [_ for _ in trends_worldwide if _['name'] == our_city_2]\n",
    "\n",
    "# View the output.\n",
    "london[0]['woeid']"
   ]
  },
  {
   "cell_type": "code",
   "execution_count": null,
   "id": "2928e06a",
   "metadata": {},
   "outputs": [],
   "source": [
    "# Search for each city.\n",
    "# Import JSON.\n",
    "import json\n",
    "\n",
    "# Search for New York.\n",
    "new_york_trends = twitter_api.trends.place(_id=2459115)\n",
    "\n",
    "# View JSON output.\n",
    "print (json.dumps(new_york_trends, indent=4))"
   ]
  },
  {
   "cell_type": "code",
   "execution_count": null,
   "id": "02c12c07",
   "metadata": {},
   "outputs": [],
   "source": [
    "# Search for London.\n",
    "london_trends = twitter_api.trends.place(_id=44418)\n",
    "\n",
    "# View JSON output.\n",
    "print (json.dumps(london_trends, indent=4))"
   ]
  },
  {
   "cell_type": "code",
   "execution_count": null,
   "id": "ea6ff27b",
   "metadata": {},
   "outputs": [],
   "source": [
    "# Find common topics.\n",
    "new_york_trends_list = [trend['name'] for trend in new_york_trends[0]['trends']]\n",
    "\n",
    "# View output.\n",
    "print(new_york_trends_list)"
   ]
  },
  {
   "cell_type": "code",
   "execution_count": null,
   "id": "baa09b62",
   "metadata": {},
   "outputs": [],
   "source": [
    "# Find common topics.\n",
    "london_trends_list = [trend['name'] for trend in london_trends[0]['trends']]\n",
    "\n",
    "# View output.\n",
    "print(london_trends_list)"
   ]
  },
  {
   "cell_type": "code",
   "execution_count": null,
   "id": "626ed5d9",
   "metadata": {},
   "outputs": [],
   "source": [
    "# Find trends between cities.\n",
    "new_york_trends_set = set(new_york_trends_list)\n",
    "london_trends_set = set(london_trends_list)\n",
    "\n",
    "# Set variable.\n",
    "common_trends = new_york_trends_set.intersection(london_trends_set)\n",
    "\n",
    "# View output.\n",
    "print(common_trends)"
   ]
  },
  {
   "cell_type": "markdown",
   "id": "bb9f0d33",
   "metadata": {},
   "source": [
    "## Search for #Bitcoin"
   ]
  },
  {
   "cell_type": "code",
   "execution_count": null,
   "id": "898d5bdc",
   "metadata": {},
   "outputs": [],
   "source": [
    "# Run a test with #Bitcoin.\n",
    "bitcoin_tweets = twitter_api.search.tweets(q=\"#Bitcoin\")\n",
    "\n",
    "# View JSON output.\n",
    "print(json.dumps(bitcoin_tweets, indent=4))"
   ]
  },
  {
   "cell_type": "code",
   "execution_count": null,
   "id": "9ab12b93",
   "metadata": {},
   "outputs": [],
   "source": []
  }
 ],
 "metadata": {
  "kernelspec": {
   "display_name": "Python 3 (ipykernel)",
   "language": "python",
   "name": "python3"
  },
  "language_info": {
   "codemirror_mode": {
    "name": "ipython",
    "version": 3
   },
   "file_extension": ".py",
   "mimetype": "text/x-python",
   "name": "python",
   "nbconvert_exporter": "python",
   "pygments_lexer": "ipython3",
   "version": "3.9.12"
  }
 },
 "nbformat": 4,
 "nbformat_minor": 5
}
