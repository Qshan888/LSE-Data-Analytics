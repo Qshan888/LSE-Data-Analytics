{
 "cells": [
  {
   "cell_type": "code",
   "execution_count": 1,
   "id": "332e1a6e",
   "metadata": {},
   "outputs": [
    {
     "name": "stdout",
     "output_type": "stream",
     "text": [
      "200\n",
      "{'name': 'Luke Skywalker', 'height': '172', 'mass': '77', 'hair_color': 'blond', 'skin_color': 'fair', 'eye_color': 'blue', 'birth_year': '19BBY', 'gender': 'male', 'homeworld': 'https://swapi.dev/api/planets/1/', 'films': ['https://swapi.dev/api/films/1/', 'https://swapi.dev/api/films/2/', 'https://swapi.dev/api/films/3/', 'https://swapi.dev/api/films/6/'], 'species': [], 'vehicles': ['https://swapi.dev/api/vehicles/14/', 'https://swapi.dev/api/vehicles/30/'], 'starships': ['https://swapi.dev/api/starships/12/', 'https://swapi.dev/api/starships/22/'], 'created': '2014-12-09T13:50:51.644000Z', 'edited': '2014-12-20T21:17:56.891000Z', 'url': 'https://swapi.dev/api/people/1/'}\n"
     ]
    }
   ],
   "source": [
    "# Import the necessary libraries.\n",
    "import requests\n",
    "import json\n",
    "\n",
    "# Create a variable.\n",
    "response = requests.get('https://swapi.dev/api/people/1/')\n",
    "\n",
    "# Print the status_code.\n",
    "print(response.status_code)\n",
    "\n",
    "# Print the JSON response.\n",
    "print(response.json())\n"
   ]
  },
  {
   "cell_type": "code",
   "execution_count": 4,
   "id": "4cb4f862",
   "metadata": {},
   "outputs": [
    {
     "name": "stdout",
     "output_type": "stream",
     "text": [
      "{\n",
      "    \"birth_year\": \"19BBY\",\n",
      "    \"created\": \"2014-12-09T13:50:51.644000Z\",\n",
      "    \"edited\": \"2014-12-20T21:17:56.891000Z\",\n",
      "    \"eye_color\": \"blue\",\n",
      "    \"films\": [\n",
      "        \"https://swapi.dev/api/films/1/\",\n",
      "        \"https://swapi.dev/api/films/2/\",\n",
      "        \"https://swapi.dev/api/films/3/\",\n",
      "        \"https://swapi.dev/api/films/6/\"\n",
      "    ],\n",
      "    \"gender\": \"male\",\n",
      "    \"hair_color\": \"blond\",\n",
      "    \"height\": \"172\",\n",
      "    \"homeworld\": \"https://swapi.dev/api/planets/1/\",\n",
      "    \"mass\": \"77\",\n",
      "    \"name\": \"Luke Skywalker\",\n",
      "    \"skin_color\": \"fair\",\n",
      "    \"species\": [],\n",
      "    \"starships\": [\n",
      "        \"https://swapi.dev/api/starships/12/\",\n",
      "        \"https://swapi.dev/api/starships/22/\"\n",
      "    ],\n",
      "    \"url\": \"https://swapi.dev/api/people/1/\",\n",
      "    \"vehicles\": [\n",
      "        \"https://swapi.dev/api/vehicles/14/\",\n",
      "        \"https://swapi.dev/api/vehicles/30/\"\n",
      "    ]\n",
      "}\n"
     ]
    }
   ],
   "source": [
    "# Create a function.\n",
    "def jprint(obj):\n",
    "    # Create a formatted string of the Python JSON object.\n",
    "    text = json.dumps(obj, sort_keys=True, indent=4)\n",
    "    print(text)\n",
    "\n",
    "# View the output.\n",
    "jprint(response.json())"
   ]
  },
  {
   "cell_type": "code",
   "execution_count": 8,
   "id": "a718ecde",
   "metadata": {},
   "outputs": [
    {
     "name": "stdout",
     "output_type": "stream",
     "text": [
      "{'Server': 'nginx/1.16.1', 'Date': 'Sat, 18 Feb 2023 20:17:18 GMT', 'Content-Type': 'application/json', 'Connection': 'keep-alive', 'Vary': 'Accept, Cookie', 'X-Frame-Options': 'SAMEORIGIN', 'ETag': '\"ee398610435c328f4d0a4e1b0d2f7bbc\"', 'Allow': 'GET, HEAD, OPTIONS', 'Strict-Transport-Security': 'max-age=15768000'}\n"
     ]
    }
   ],
   "source": [
    "# HTTP headers.\n",
    "info = requests.head('https://swapi.dev/api/people/1/')\n",
    "\n",
    "print(info.headers)\n"
   ]
  },
  {
   "cell_type": "code",
   "execution_count": null,
   "id": "b1079625",
   "metadata": {},
   "outputs": [],
   "source": []
  }
 ],
 "metadata": {
  "kernelspec": {
   "display_name": "Python 3 (ipykernel)",
   "language": "python",
   "name": "python3"
  },
  "language_info": {
   "codemirror_mode": {
    "name": "ipython",
    "version": 3
   },
   "file_extension": ".py",
   "mimetype": "text/x-python",
   "name": "python",
   "nbconvert_exporter": "python",
   "pygments_lexer": "ipython3",
   "version": "3.9.13"
  }
 },
 "nbformat": 4,
 "nbformat_minor": 5
}
