{
 "cells": [
  {
   "cell_type": "code",
   "execution_count": 1,
   "id": "9aafe8fd",
   "metadata": {},
   "outputs": [
    {
     "ename": "IndentationError",
     "evalue": "unexpected indent (229782586.py, line 35)",
     "output_type": "error",
     "traceback": [
      "\u001b[0;36m  File \u001b[0;32m\"/var/folders/2y/jw_fvb1s0nncctnyn9dc159w0000gn/T/ipykernel_27759/229782586.py\"\u001b[0;36m, line \u001b[0;32m35\u001b[0m\n\u001b[0;31m    if CHOICE == '1': #naming convention not aligned for CHOICE\u001b[0m\n\u001b[0m    ^\u001b[0m\n\u001b[0;31mIndentationError\u001b[0m\u001b[0;31m:\u001b[0m unexpected indent\n"
     ]
    }
   ],
   "source": [
    "# Program To Make Simple Calculator\n",
    "# This function adds 2numbers\n",
    "def add( x, y ): # uneccsary additional whitespaces\n",
    "    return x + y\n",
    "\n",
    "#This function subtracts  2numbers\n",
    "def subtract(x, y):\n",
    "    return x - y\n",
    "\n",
    "#! Too many blank spaces\n",
    "\n",
    "       #This function multipliers 2numbers\n",
    "def multiply(x, y):\n",
    "   return x * y # inconsistent indentation\n",
    "\n",
    "##This function divides  2numbers #\n",
    "def divide(x, y):\n",
    "   return x / y # inconsistent indentation\n",
    "\n",
    "print ( \"Select operation.\") # inconsistent indentation, too many white spaces\n",
    "print ( \"1.Add\") # inconsistent indentation, too many white spaces\n",
    "print ( \"2.Subtract\") # inconsistent indentation, too many white spaces\n",
    "print ( \"3.Multiply\") # inconsistent indentation, too many white spaces\n",
    "print ( \"4.Divide\") # inconsistent indentation, too many white spaces\n",
    "\n",
    "while True:\n",
    "   \n",
    "   choice = input  (\"Enter choice(1/2/3/4): \")# Take input from the  user # too many white spaces\n",
    "\n",
    "   # Check if choice is 1 of the four options by completing the following code in the IDE of your choice or notebook\n",
    "   if choice in ('1', '2', '3', '4'):\n",
    "      Num1   = float(input(\"Enter first number: \")) # too many white spaces, naming convention not aligned, indentation wrong\n",
    "      Num2   = float(input(\"Enter second number: \")) # too many white spaces, naming convention not aligned, indentation wrong\n",
    "#indentation is off and not correct\n",
    "       if CHOICE == '1': #naming convention not aligned for CHOICE\n",
    "           print(Num1, \"+\", Num2, \"=\", add( Num1, Num2 )) #naming convention not aligned, wrong white spaces\n",
    "        \n",
    "       elif CHOICE == '2': #naming convention not aligned\n",
    "           print (Num1, \"-\", Num2, \"=\", subtract( Num1, Num2 )) #naming convention not aligned, wrong white spaces\n",
    "\n",
    "       elif CHOICE == '3': #naming convention not aligned\n",
    "           print (Num1, \"*\", Num2, \"=\", multiply( Num1, Num2 )) #naming convention not aligned, wrong white spaces\n",
    "\n",
    "       elif CHOICE == '4': #naming convention not aligned\n",
    "           print (Num1, \"/\", Num2, \"=\", divide( Num1, Num2 )) #naming convention not aligned, wrong white spaces\n",
    "       break #is this necessary?\n",
    "   else: #indentation is off and not correct\n",
    "\n",
    "       Print( \"Invalid Input\" )#this prints the invalid input.... #whitespaces too many and will only print the string not the invalid input\n",
    "\n",
    "\n"
   ]
  },
  {
   "cell_type": "code",
   "execution_count": 21,
   "id": "7242171c",
   "metadata": {},
   "outputs": [
    {
     "name": "stdout",
     "output_type": "stream",
     "text": [
      "Select operation.\n",
      "1.Add\n",
      "2.Subtract\n",
      "3.Multiply\n",
      "4.Divide\n",
      "Enter choice(1/2/3/4): 2\n",
      "Enter first number: 2\n",
      "Enter second number: 1\n",
      "2.0 - 1.0 = 1.0\n"
     ]
    }
   ],
   "source": [
    "# Program To Make Simple Calculator\n",
    "# This function adds 2numbers\n",
    "def add(x, y): \n",
    "    return x + y\n",
    "\n",
    "#This function subtracts  2numbers\n",
    "def subtract(x, y):\n",
    "    return x - y\n",
    "\n",
    "#This function multipliers 2numbers\n",
    "def multiply(x, y):\n",
    "    return x * y \n",
    "\n",
    "##This function divides  2numbers #\n",
    "def divide(x, y):\n",
    "    return x / y \n",
    "\n",
    "print(\"Select operation.\") \n",
    "print(\"1.Add\") \n",
    "print(\"2.Subtract\") \n",
    "print(\"3.Multiply\")\n",
    "print(\"4.Divide\") \n",
    "\n",
    "while True:\n",
    "    \n",
    "    choice = input(\"Enter choice(1/2/3/4): \")\n",
    "\n",
    "   # Check if choice is 1 of the four options by completing the following code in the IDE of your choice or notebook\n",
    "    if choice in ('1', '2', '3', '4'):\n",
    "        Num_1 = float(input(\"Enter first number: \")) \n",
    "        Num_2 = float(input(\"Enter second number: \"))\n",
    "    if choice == '1': \n",
    "        print(Num_1, \"+\", Num_2, \"=\", add(Num_1, Num_2)) \n",
    "        \n",
    "    elif choice == '2': \n",
    "        print (Num_1, \"-\", Num_2, \"=\", subtract(Num_1, Num_2)) \n",
    "\n",
    "    elif choice == '3': \n",
    "        print (Num_1, \"*\", Num_2, \"=\", multiply(Num_1, Num_2)) \n",
    "\n",
    "    elif choice == '4':\n",
    "        print (Num_1, \"/\", Num_2, \"=\", divide(Num_1, Num_2)) \n",
    "        \n",
    "    else: #indentation is off and not correct\n",
    "        Print(\"Invalid Input\")#this prints the invalid input.... #whitespaces too many and will only print the string not the invalid input\n",
    "        \n",
    "    break\n",
    "\n"
   ]
  },
  {
   "cell_type": "code",
   "execution_count": null,
   "id": "e1e81f57",
   "metadata": {},
   "outputs": [],
   "source": []
  },
  {
   "cell_type": "code",
   "execution_count": null,
   "id": "b8cc3391",
   "metadata": {},
   "outputs": [],
   "source": []
  }
 ],
 "metadata": {
  "kernelspec": {
   "display_name": "Python 3 (ipykernel)",
   "language": "python",
   "name": "python3"
  },
  "language_info": {
   "codemirror_mode": {
    "name": "ipython",
    "version": 3
   },
   "file_extension": ".py",
   "mimetype": "text/x-python",
   "name": "python",
   "nbconvert_exporter": "python",
   "pygments_lexer": "ipython3",
   "version": "3.9.13"
  }
 },
 "nbformat": 4,
 "nbformat_minor": 5
}
