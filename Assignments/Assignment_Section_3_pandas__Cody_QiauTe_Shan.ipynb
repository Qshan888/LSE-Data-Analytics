{
 "cells": [
  {
   "cell_type": "code",
   "execution_count": 173,
   "id": "41b247cc",
   "metadata": {},
   "outputs": [
    {
     "name": "stdout",
     "output_type": "stream",
     "text": [
      "(3945, 2)\n"
     ]
    }
   ],
   "source": [
    "# import pandas library to use pandas functions\n",
    "import pandas as pd\n",
    "\n",
    "# load the csv files products\n",
    "products = pd.read_csv('products.csv')\n",
    "\n",
    "# view how many columns and rows\n",
    "print(products.shape)"
   ]
  },
  {
   "cell_type": "code",
   "execution_count": 174,
   "id": "040b9718",
   "metadata": {},
   "outputs": [
    {
     "name": "stdout",
     "output_type": "stream",
     "text": [
      "<class 'pandas.core.frame.DataFrame'>\n",
      "RangeIndex: 3945 entries, 0 to 3944\n",
      "Data columns (total 2 columns):\n",
      " #   Column       Non-Null Count  Dtype \n",
      "---  ------       --------------  ----- \n",
      " 0   StockCode    3945 non-null   object\n",
      " 1   Description  3945 non-null   object\n",
      "dtypes: object(2)\n",
      "memory usage: 61.8+ KB\n"
     ]
    }
   ],
   "source": [
    "# get additional details around type, count etc...\n",
    "products.info()"
   ]
  },
  {
   "cell_type": "code",
   "execution_count": 177,
   "id": "54555faa",
   "metadata": {},
   "outputs": [
    {
     "data": {
      "text/html": [
       "<div>\n",
       "<style scoped>\n",
       "    .dataframe tbody tr th:only-of-type {\n",
       "        vertical-align: middle;\n",
       "    }\n",
       "\n",
       "    .dataframe tbody tr th {\n",
       "        vertical-align: top;\n",
       "    }\n",
       "\n",
       "    .dataframe thead th {\n",
       "        text-align: right;\n",
       "    }\n",
       "</style>\n",
       "<table border=\"1\" class=\"dataframe\">\n",
       "  <thead>\n",
       "    <tr style=\"text-align: right;\">\n",
       "      <th></th>\n",
       "      <th>StockCode</th>\n",
       "      <th>Description</th>\n",
       "    </tr>\n",
       "  </thead>\n",
       "  <tbody>\n",
       "    <tr>\n",
       "      <th>0</th>\n",
       "      <td>10002</td>\n",
       "      <td>INFLATABLE POLITICAL GLOBE</td>\n",
       "    </tr>\n",
       "    <tr>\n",
       "      <th>1</th>\n",
       "      <td>10080</td>\n",
       "      <td>GROOVY CACTUS INFLATABLE</td>\n",
       "    </tr>\n",
       "    <tr>\n",
       "      <th>2</th>\n",
       "      <td>10120</td>\n",
       "      <td>DOGGY RUBBER</td>\n",
       "    </tr>\n",
       "    <tr>\n",
       "      <th>3</th>\n",
       "      <td>10123C</td>\n",
       "      <td>HEARTS WRAPPING TAPE</td>\n",
       "    </tr>\n",
       "    <tr>\n",
       "      <th>4</th>\n",
       "      <td>10124A</td>\n",
       "      <td>SPOTS ON RED BOOKCOVER TAPE</td>\n",
       "    </tr>\n",
       "  </tbody>\n",
       "</table>\n",
       "</div>"
      ],
      "text/plain": [
       "  StockCode                  Description\n",
       "0     10002   INFLATABLE POLITICAL GLOBE\n",
       "1     10080     GROOVY CACTUS INFLATABLE\n",
       "2     10120                 DOGGY RUBBER\n",
       "3    10123C         HEARTS WRAPPING TAPE\n",
       "4    10124A  SPOTS ON RED BOOKCOVER TAPE"
      ]
     },
     "execution_count": 177,
     "metadata": {},
     "output_type": "execute_result"
    }
   ],
   "source": [
    "# view the top rows of the dataframe\n",
    "products.head()"
   ]
  },
  {
   "cell_type": "code",
   "execution_count": 178,
   "id": "b3bcf1fe",
   "metadata": {},
   "outputs": [
    {
     "data": {
      "text/plain": [
       "9"
      ]
     },
     "execution_count": 178,
     "metadata": {},
     "output_type": "execute_result"
    }
   ],
   "source": [
    "# How many products contain the word fire in their description?\n",
    "products['Description'].str.lower().str.contains('fire').sum()"
   ]
  },
  {
   "cell_type": "code",
   "execution_count": 179,
   "id": "919787e6",
   "metadata": {},
   "outputs": [
    {
     "data": {
      "text/html": [
       "<div>\n",
       "<style scoped>\n",
       "    .dataframe tbody tr th:only-of-type {\n",
       "        vertical-align: middle;\n",
       "    }\n",
       "\n",
       "    .dataframe tbody tr th {\n",
       "        vertical-align: top;\n",
       "    }\n",
       "\n",
       "    .dataframe thead th {\n",
       "        text-align: right;\n",
       "    }\n",
       "</style>\n",
       "<table border=\"1\" class=\"dataframe\">\n",
       "  <thead>\n",
       "    <tr style=\"text-align: right;\">\n",
       "      <th></th>\n",
       "      <th>StockCode</th>\n",
       "      <th>Description</th>\n",
       "    </tr>\n",
       "  </thead>\n",
       "  <tbody>\n",
       "    <tr>\n",
       "      <th>1318</th>\n",
       "      <td>22428</td>\n",
       "      <td>ENAMEL FIRE BUCKET CREAM</td>\n",
       "    </tr>\n",
       "    <tr>\n",
       "      <th>3033</th>\n",
       "      <td>84569B</td>\n",
       "      <td>PACK 3 FIRE ENGINE/CAR PATCHES</td>\n",
       "    </tr>\n",
       "    <tr>\n",
       "      <th>3626</th>\n",
       "      <td>90039A</td>\n",
       "      <td>FIRE POLISHED GLASS BRACELET RED</td>\n",
       "    </tr>\n",
       "    <tr>\n",
       "      <th>3627</th>\n",
       "      <td>90039B</td>\n",
       "      <td>FIRE POLISHED GLASS BRACELET MONTAN</td>\n",
       "    </tr>\n",
       "    <tr>\n",
       "      <th>3628</th>\n",
       "      <td>90039C</td>\n",
       "      <td>FIRE POLISHED GLASS BRACELET BLACK</td>\n",
       "    </tr>\n",
       "    <tr>\n",
       "      <th>3629</th>\n",
       "      <td>90039D</td>\n",
       "      <td>FIRE POLISHED GLASS BRACELET GREEN</td>\n",
       "    </tr>\n",
       "    <tr>\n",
       "      <th>3656</th>\n",
       "      <td>90060B</td>\n",
       "      <td>FIRE POLISHED GLASS NECKL GOLD</td>\n",
       "    </tr>\n",
       "    <tr>\n",
       "      <th>3657</th>\n",
       "      <td>90060D</td>\n",
       "      <td>FIRE POLISHED GLASS NECKL BRONZE</td>\n",
       "    </tr>\n",
       "    <tr>\n",
       "      <th>3658</th>\n",
       "      <td>90060F</td>\n",
       "      <td>FIRE POLISHED GLASS NECKL GREEN</td>\n",
       "    </tr>\n",
       "  </tbody>\n",
       "</table>\n",
       "</div>"
      ],
      "text/plain": [
       "     StockCode                          Description\n",
       "1318     22428             ENAMEL FIRE BUCKET CREAM\n",
       "3033    84569B       PACK 3 FIRE ENGINE/CAR PATCHES\n",
       "3626    90039A     FIRE POLISHED GLASS BRACELET RED\n",
       "3627    90039B  FIRE POLISHED GLASS BRACELET MONTAN\n",
       "3628    90039C   FIRE POLISHED GLASS BRACELET BLACK\n",
       "3629    90039D   FIRE POLISHED GLASS BRACELET GREEN\n",
       "3656    90060B       FIRE POLISHED GLASS NECKL GOLD\n",
       "3657    90060D     FIRE POLISHED GLASS NECKL BRONZE\n",
       "3658    90060F      FIRE POLISHED GLASS NECKL GREEN"
      ]
     },
     "execution_count": 179,
     "metadata": {},
     "output_type": "execute_result"
    }
   ],
   "source": [
    "# display descriptions containing fire\n",
    "products[products['Description'].str.lower().str.contains('fire')]\n"
   ]
  },
  {
   "cell_type": "code",
   "execution_count": 180,
   "id": "e63ebb9e",
   "metadata": {},
   "outputs": [
    {
     "data": {
      "text/plain": [
       "178"
      ]
     },
     "execution_count": 180,
     "metadata": {},
     "output_type": "execute_result"
    }
   ],
   "source": [
    "# How many products contain the word candle in their description?\n",
    "products['Description'].str.lower().str.contains('candle').sum()"
   ]
  },
  {
   "cell_type": "code",
   "execution_count": 181,
   "id": "048b9237",
   "metadata": {},
   "outputs": [
    {
     "data": {
      "text/html": [
       "<div>\n",
       "<style scoped>\n",
       "    .dataframe tbody tr th:only-of-type {\n",
       "        vertical-align: middle;\n",
       "    }\n",
       "\n",
       "    .dataframe tbody tr th {\n",
       "        vertical-align: top;\n",
       "    }\n",
       "\n",
       "    .dataframe thead th {\n",
       "        text-align: right;\n",
       "    }\n",
       "</style>\n",
       "<table border=\"1\" class=\"dataframe\">\n",
       "  <thead>\n",
       "    <tr style=\"text-align: right;\">\n",
       "      <th></th>\n",
       "      <th>StockCode</th>\n",
       "      <th>Description</th>\n",
       "    </tr>\n",
       "  </thead>\n",
       "  <tbody>\n",
       "    <tr>\n",
       "      <th>83</th>\n",
       "      <td>17012A</td>\n",
       "      <td>ORIGAMI VANILLA INCENSE/CANDLE SET</td>\n",
       "    </tr>\n",
       "    <tr>\n",
       "      <th>84</th>\n",
       "      <td>17012B</td>\n",
       "      <td>ORIGAMI JASMINE INCENSE/CANDLE SET</td>\n",
       "    </tr>\n",
       "    <tr>\n",
       "      <th>86</th>\n",
       "      <td>17012D</td>\n",
       "      <td>ORIGAMI ROSE INCENSE/CANDLE SET</td>\n",
       "    </tr>\n",
       "    <tr>\n",
       "      <th>87</th>\n",
       "      <td>17012E</td>\n",
       "      <td>ORIGAMI OPIUM INCENSE/CANDLE SET</td>\n",
       "    </tr>\n",
       "    <tr>\n",
       "      <th>107</th>\n",
       "      <td>17136A</td>\n",
       "      <td>BLUE STONES ON WIRE FOR CANDLE</td>\n",
       "    </tr>\n",
       "    <tr>\n",
       "      <th>...</th>\n",
       "      <td>...</td>\n",
       "      <td>...</td>\n",
       "    </tr>\n",
       "    <tr>\n",
       "      <th>3530</th>\n",
       "      <td>85230A</td>\n",
       "      <td>OPIUM SCENTED VOTIVE CANDLE</td>\n",
       "    </tr>\n",
       "    <tr>\n",
       "      <th>3531</th>\n",
       "      <td>85230B</td>\n",
       "      <td>CINNAMON SCENTED VOTIVE CANDLE</td>\n",
       "    </tr>\n",
       "    <tr>\n",
       "      <th>3532</th>\n",
       "      <td>85230E</td>\n",
       "      <td>STRAWBRY SCENTED VOTIVE CANDLE</td>\n",
       "    </tr>\n",
       "    <tr>\n",
       "      <th>3533</th>\n",
       "      <td>85230F</td>\n",
       "      <td>JASMINE VOTIVE CANDLE</td>\n",
       "    </tr>\n",
       "    <tr>\n",
       "      <th>3534</th>\n",
       "      <td>85230G</td>\n",
       "      <td>ORANGE VOTIVE CANDLE</td>\n",
       "    </tr>\n",
       "  </tbody>\n",
       "</table>\n",
       "<p>178 rows × 2 columns</p>\n",
       "</div>"
      ],
      "text/plain": [
       "     StockCode                         Description\n",
       "83      17012A  ORIGAMI VANILLA INCENSE/CANDLE SET\n",
       "84      17012B  ORIGAMI JASMINE INCENSE/CANDLE SET\n",
       "86      17012D     ORIGAMI ROSE INCENSE/CANDLE SET\n",
       "87      17012E    ORIGAMI OPIUM INCENSE/CANDLE SET\n",
       "107     17136A      BLUE STONES ON WIRE FOR CANDLE\n",
       "...        ...                                 ...\n",
       "3530    85230A         OPIUM SCENTED VOTIVE CANDLE\n",
       "3531    85230B      CINNAMON SCENTED VOTIVE CANDLE\n",
       "3532    85230E      STRAWBRY SCENTED VOTIVE CANDLE\n",
       "3533    85230F               JASMINE VOTIVE CANDLE\n",
       "3534    85230G                ORANGE VOTIVE CANDLE\n",
       "\n",
       "[178 rows x 2 columns]"
      ]
     },
     "execution_count": 181,
     "metadata": {},
     "output_type": "execute_result"
    }
   ],
   "source": [
    "# display descriptions containing candle\n",
    "products[products['Description'].str.lower().str.contains('candle')]\n"
   ]
  },
  {
   "cell_type": "code",
   "execution_count": 182,
   "id": "1e384eee",
   "metadata": {},
   "outputs": [
    {
     "data": {
      "text/plain": [
       "StockCode      178\n",
       "Description    178\n",
       "dtype: int64"
      ]
     },
     "execution_count": 182,
     "metadata": {},
     "output_type": "execute_result"
    }
   ],
   "source": [
    "# check how many rows there are\n",
    "products[products['Description'].str.lower().str.contains('candle')].count()"
   ]
  },
  {
   "cell_type": "code",
   "execution_count": 183,
   "id": "d8e62eb3",
   "metadata": {},
   "outputs": [
    {
     "data": {
      "text/plain": [
       "6"
      ]
     },
     "execution_count": 183,
     "metadata": {},
     "output_type": "execute_result"
    }
   ],
   "source": [
    "# How many products contain the word matches in their description?\n",
    "products['Description'].str.lower().str.contains('matches').sum()"
   ]
  },
  {
   "cell_type": "code",
   "execution_count": 184,
   "id": "36254f07",
   "metadata": {},
   "outputs": [
    {
     "data": {
      "text/html": [
       "<div>\n",
       "<style scoped>\n",
       "    .dataframe tbody tr th:only-of-type {\n",
       "        vertical-align: middle;\n",
       "    }\n",
       "\n",
       "    .dataframe tbody tr th {\n",
       "        vertical-align: top;\n",
       "    }\n",
       "\n",
       "    .dataframe thead th {\n",
       "        text-align: right;\n",
       "    }\n",
       "</style>\n",
       "<table border=\"1\" class=\"dataframe\">\n",
       "  <thead>\n",
       "    <tr style=\"text-align: right;\">\n",
       "      <th></th>\n",
       "      <th>StockCode</th>\n",
       "      <th>Description</th>\n",
       "    </tr>\n",
       "  </thead>\n",
       "  <tbody>\n",
       "    <tr>\n",
       "      <th>669</th>\n",
       "      <td>21584</td>\n",
       "      <td>RETROSPOT SMALL TUBE MATCHES</td>\n",
       "    </tr>\n",
       "    <tr>\n",
       "      <th>670</th>\n",
       "      <td>21586</td>\n",
       "      <td>KINGS CHOICE GIANT TUBE MATCHES</td>\n",
       "    </tr>\n",
       "    <tr>\n",
       "      <th>671</th>\n",
       "      <td>21587</td>\n",
       "      <td>COSY HOUR GIANT TUBE MATCHES</td>\n",
       "    </tr>\n",
       "    <tr>\n",
       "      <th>672</th>\n",
       "      <td>21588</td>\n",
       "      <td>RETROSPOT GIANT TUBE MATCHES</td>\n",
       "    </tr>\n",
       "    <tr>\n",
       "      <th>673</th>\n",
       "      <td>21591</td>\n",
       "      <td>COSY HOUR CIGAR BOX MATCHES</td>\n",
       "    </tr>\n",
       "    <tr>\n",
       "      <th>674</th>\n",
       "      <td>21592</td>\n",
       "      <td>RETROSPOT CIGAR BOX MATCHES</td>\n",
       "    </tr>\n",
       "  </tbody>\n",
       "</table>\n",
       "</div>"
      ],
      "text/plain": [
       "    StockCode                      Description\n",
       "669     21584     RETROSPOT SMALL TUBE MATCHES\n",
       "670     21586  KINGS CHOICE GIANT TUBE MATCHES\n",
       "671     21587     COSY HOUR GIANT TUBE MATCHES\n",
       "672     21588     RETROSPOT GIANT TUBE MATCHES\n",
       "673     21591      COSY HOUR CIGAR BOX MATCHES\n",
       "674     21592      RETROSPOT CIGAR BOX MATCHES"
      ]
     },
     "execution_count": 184,
     "metadata": {},
     "output_type": "execute_result"
    }
   ],
   "source": [
    "# display descriptions containing matches\n",
    "products[products['Description'].str.lower().str.contains('matches')]"
   ]
  },
  {
   "cell_type": "code",
   "execution_count": null,
   "id": "90628646",
   "metadata": {},
   "outputs": [],
   "source": []
  }
 ],
 "metadata": {
  "kernelspec": {
   "display_name": "Python 3 (ipykernel)",
   "language": "python",
   "name": "python3"
  },
  "language_info": {
   "codemirror_mode": {
    "name": "ipython",
    "version": 3
   },
   "file_extension": ".py",
   "mimetype": "text/x-python",
   "name": "python",
   "nbconvert_exporter": "python",
   "pygments_lexer": "ipython3",
   "version": "3.9.13"
  }
 },
 "nbformat": 4,
 "nbformat_minor": 5
}
