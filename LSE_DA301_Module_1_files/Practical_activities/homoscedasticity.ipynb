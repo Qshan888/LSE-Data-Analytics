{
 "cells": [
  {
   "cell_type": "code",
   "execution_count": 2,
   "id": "0bae7713",
   "metadata": {},
   "outputs": [
    {
     "name": "stdout",
     "output_type": "stream",
     "text": [
      "   Engine size  Selling price\n",
      "0           77      79.775152\n",
      "1           21      23.177279\n",
      "2           22      25.609262\n",
      "3           20      17.857388\n",
      "4           36      41.849864\n",
      "<class 'pandas.core.frame.DataFrame'>\n",
      "RangeIndex: 300 entries, 0 to 299\n",
      "Data columns (total 2 columns):\n",
      " #   Column         Non-Null Count  Dtype  \n",
      "---  ------         --------------  -----  \n",
      " 0   Engine size    300 non-null    int64  \n",
      " 1   Selling price  300 non-null    float64\n",
      "dtypes: float64(1), int64(1)\n",
      "memory usage: 4.8 KB\n",
      "None\n"
     ]
    },
    {
     "data": {
      "text/html": [
       "<div>\n",
       "<style scoped>\n",
       "    .dataframe tbody tr th:only-of-type {\n",
       "        vertical-align: middle;\n",
       "    }\n",
       "\n",
       "    .dataframe tbody tr th {\n",
       "        vertical-align: top;\n",
       "    }\n",
       "\n",
       "    .dataframe thead th {\n",
       "        text-align: right;\n",
       "    }\n",
       "</style>\n",
       "<table border=\"1\" class=\"dataframe\">\n",
       "  <thead>\n",
       "    <tr style=\"text-align: right;\">\n",
       "      <th></th>\n",
       "      <th>Engine size</th>\n",
       "      <th>Selling price</th>\n",
       "    </tr>\n",
       "  </thead>\n",
       "  <tbody>\n",
       "    <tr>\n",
       "      <th>count</th>\n",
       "      <td>300.000000</td>\n",
       "      <td>300.000000</td>\n",
       "    </tr>\n",
       "    <tr>\n",
       "      <th>mean</th>\n",
       "      <td>50.936667</td>\n",
       "      <td>51.205051</td>\n",
       "    </tr>\n",
       "    <tr>\n",
       "      <th>std</th>\n",
       "      <td>28.504286</td>\n",
       "      <td>29.071481</td>\n",
       "    </tr>\n",
       "    <tr>\n",
       "      <th>min</th>\n",
       "      <td>0.000000</td>\n",
       "      <td>-3.467884</td>\n",
       "    </tr>\n",
       "    <tr>\n",
       "      <th>25%</th>\n",
       "      <td>27.000000</td>\n",
       "      <td>25.676502</td>\n",
       "    </tr>\n",
       "    <tr>\n",
       "      <th>50%</th>\n",
       "      <td>53.000000</td>\n",
       "      <td>52.170557</td>\n",
       "    </tr>\n",
       "    <tr>\n",
       "      <th>75%</th>\n",
       "      <td>73.000000</td>\n",
       "      <td>74.303007</td>\n",
       "    </tr>\n",
       "    <tr>\n",
       "      <th>max</th>\n",
       "      <td>100.000000</td>\n",
       "      <td>105.591837</td>\n",
       "    </tr>\n",
       "  </tbody>\n",
       "</table>\n",
       "</div>"
      ],
      "text/plain": [
       "       Engine size  Selling price\n",
       "count   300.000000     300.000000\n",
       "mean     50.936667      51.205051\n",
       "std      28.504286      29.071481\n",
       "min       0.000000      -3.467884\n",
       "25%      27.000000      25.676502\n",
       "50%      53.000000      52.170557\n",
       "75%      73.000000      74.303007\n",
       "max     100.000000     105.591837"
      ]
     },
     "execution_count": 2,
     "metadata": {},
     "output_type": "execute_result"
    }
   ],
   "source": [
    "# Import the necessary libraries.\n",
    "import pandas as pd\n",
    "import statsmodels.api as sm\n",
    "from statsmodels.formula.api import ols\n",
    "\n",
    "import matplotlib.pyplot as plt\n",
    "import seaborn as sns\n",
    "\n",
    "# Import the car4u.csv data set, and run the OLS on the data.\n",
    "cars = pd.read_csv('../data/car4u.csv')\n",
    "\n",
    "# View the DataFrame.\n",
    "print(cars.head())\n",
    "print(cars.info())\n",
    "cars.describe()"
   ]
  },
  {
   "cell_type": "code",
   "execution_count": 3,
   "id": "1169bf68",
   "metadata": {},
   "outputs": [
    {
     "data": {
      "text/plain": [
       "<matplotlib.collections.PathCollection at 0x7fb558588a60>"
      ]
     },
     "execution_count": 3,
     "metadata": {},
     "output_type": "execute_result"
    },
    {
     "data": {
      "image/png": "[encoded data removed]",
      "text/plain": [
       "<Figure size 640x480 with 1 Axes>"
      ]
     },
     "metadata": {},
     "output_type": "display_data"
    }
   ],
   "source": [
    "# Define the dependent variable.\n",
    "y = cars['Selling price'] \n",
    "\n",
    "# Define the independent variable.\n",
    "x = cars['Engine size'] \n",
    "\n",
    "# Check for homoscedasticity with Matplotlib.\n",
    "plt.scatter(x, y)"
   ]
  },
  {
   "cell_type": "code",
   "execution_count": 4,
   "id": "24ff756d",
   "metadata": {},
   "outputs": [],
   "source": [
    "# Run the OLS model on the data.\n",
    "f = 'y ~ x'\n",
    "\n",
    "test = ols(f, data = cars).fit()"
   ]
  },
  {
   "cell_type": "code",
   "execution_count": 5,
   "id": "5f4376bf",
   "metadata": {},
   "outputs": [
    {
     "name": "stdout",
     "output_type": "stream",
     "text": [
      "{'LM stat': 1.127927731684597, 'LM Test p-value': 0.2882177894391313, 'F-stat': 1.1246365760808064, 'F-test p-value': 0.2897810117091818}\n"
     ]
    }
   ],
   "source": [
    "# Import the necessary library.\n",
    "import statsmodels.stats.api as sms\n",
    "\n",
    "# Run the Breusch-Pagan test function on the model residuals and x-variables.\n",
    "test = sms.het_breuschpagan(test.resid, test.model.exog)\n",
    "\n",
    "# Print the results of the Breusch-Pagan test.\n",
    "terms = ['LM stat', 'LM Test p-value', 'F-stat', 'F-test p-value']\n",
    "print(dict(zip(terms, test)))"
   ]
  },
  {
   "cell_type": "code",
   "execution_count": null,
   "id": "8dea85eb",
   "metadata": {},
   "outputs": [],
   "source": []
  }
 ],
 "metadata": {
  "kernelspec": {
   "display_name": "Python 3 (ipykernel)",
   "language": "python",
   "name": "python3"
  },
  "language_info": {
   "codemirror_mode": {
    "name": "ipython",
    "version": 3
   },
   "file_extension": ".py",
   "mimetype": "text/x-python",
   "name": "python",
   "nbconvert_exporter": "python",
   "pygments_lexer": "ipython3",
   "version": "3.9.13"
  }
 },
 "nbformat": 4,
 "nbformat_minor": 5
}
