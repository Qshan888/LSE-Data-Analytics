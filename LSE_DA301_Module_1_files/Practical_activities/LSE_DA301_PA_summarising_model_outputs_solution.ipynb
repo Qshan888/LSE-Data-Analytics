{
 "cells": [
  {
   "cell_type": "markdown",
   "id": "94199fa3",
   "metadata": {},
   "source": [
    "### LSE Data Analytics Online Career Accelerator \n",
    "# Course 301: Advanced Analytics for Organisational Impact"
   ]
  },
  {
   "cell_type": "markdown",
   "id": "46fcc342",
   "metadata": {},
   "source": [
    "## Practical activity: Summarising model outputs"
   ]
  },
  {
   "cell_type": "markdown",
   "id": "26969258",
   "metadata": {},
   "source": [
    "**This is the solution to the activity.**\n",
    "\n",
    "Your client, age 45, wants to retire when their wealth exceeds £500,000. The current salary is £35,000, the cost of living is 6%, the savings rate is 6%, an interest rate of 2%, and they recieve promotions every year at a promotion raise of 6%. Create and test a model that will allow us to calculate how many years until the client's preferred level of savings is reached. \n",
    "\n",
    "Will your client be able to retire at age 65? To prepare your findings for presentation, you now need to summarise your results and visualise the change in wealth over time for the client. \n",
    "\n",
    "Create and test a model that will allow you to calculate how many years until the client's preferred level of savings is reached. Will 20 years be enough time? "
   ]
  },
  {
   "cell_type": "markdown",
   "id": "e0ec3ed0",
   "metadata": {},
   "source": [
    "## 1. Prepare your workstation"
   ]
  },
  {
   "cell_type": "code",
   "execution_count": 1,
   "id": "19b7bc2c",
   "metadata": {},
   "outputs": [],
   "source": [
    "# Import the necessary libraries.\n",
    "import pandas as pd\n",
    "import random\n",
    "import matplotlib.pyplot as plt\n",
    "# Optional\n",
    "%matplotlib inline\n",
    "\n",
    "from dataclasses import dataclass\n",
    "from sensitivity import SensitivityAnalyzer"
   ]
  },
  {
   "cell_type": "markdown",
   "id": "8a657692",
   "metadata": {},
   "source": [
    "## 2. Specify the model inputs"
   ]
  },
  {
   "cell_type": "code",
   "execution_count": 2,
   "id": "78df595c",
   "metadata": {},
   "outputs": [
    {
     "data": {
      "text/plain": [
       "ModelInputs(starting_salary=35000, promos_every_n_years=1, cost_of_living_raise=0.06, promo_raise=0.06, savings_rate=0.06, interest_rate=0.02, desired_cash=500000)"
      ]
     },
     "execution_count": 2,
     "metadata": {},
     "output_type": "execute_result"
    }
   ],
   "source": [
    "# Create a class and instance.\n",
    "@dataclass\n",
    "class ModelInputs:\n",
    "    starting_salary: int = 35000\n",
    "    promos_every_n_years: int = 1\n",
    "    cost_of_living_raise: float = 0.06\n",
    "    promo_raise: float = 0.06\n",
    "    savings_rate: float = 0.06\n",
    "    interest_rate: float = 0.02\n",
    "    desired_cash: int = 500000\n",
    "        \n",
    "model_data = ModelInputs()\n",
    "\n",
    "model_data"
   ]
  },
  {
   "cell_type": "markdown",
   "id": "3d7fb98e",
   "metadata": {},
   "source": [
    "## 3. Perform calculations"
   ]
  },
  {
   "cell_type": "code",
   "execution_count": 3,
   "id": "834eddaa",
   "metadata": {},
   "outputs": [
    {
     "name": "stdout",
     "output_type": "stream",
     "text": [
      "The wage at year 1 is £39,326.\n",
      "The wage at year 2 is £44,187.\n",
      "The wage at year 3 is £49,648.\n",
      "The wage at year 4 is £55,785.\n"
     ]
    }
   ],
   "source": [
    "# Calculate wage at a given year from start of the model based on cost of living, \n",
    "# raises, and regular promotion.\n",
    "def wages_year(data: ModelInputs, year)->float:\n",
    "    \"\"\"\n",
    "    Gets the wage at a given year from the start of the model based \n",
    "    on cost of living raises and regular promotions.\n",
    "    \"\"\"\n",
    "    # Every n years we have a promotion, so dividing the years and taking \n",
    "    # out the decimals gets the number of promotions.\n",
    "    num_promos = int(year / data.promos_every_n_years)\n",
    "    \n",
    "    # This is the formula above implemented in Python.\n",
    "    salary_t = data.starting_salary * (1 + data.cost_of_living_raise)\\\n",
    "    ** year * (1 + data.promo_raise) ** num_promos\n",
    "    return salary_t\n",
    "\n",
    "for i in range(4):\n",
    "    year = i + 1\n",
    "    salary = wages_year(model_data, year)\n",
    "    print(f\"The wage at year {year} is £{salary:,.0f}.\")"
   ]
  },
  {
   "cell_type": "code",
   "execution_count": 4,
   "id": "c76cbb3f",
   "metadata": {},
   "outputs": [],
   "source": [
    "def cash_saved_during_year(data: ModelInputs, year):\n",
    "    \"\"\"\n",
    "    Calculated the cash saved within a given year, by first \n",
    "    calculating the salary at that year then applying the \n",
    "    savings rate.\n",
    "    \"\"\"\n",
    "    salary = wages_year(data, year)\n",
    "    cash_saved = salary * data.savings_rate\n",
    "    return cash_saved"
   ]
  },
  {
   "cell_type": "code",
   "execution_count": 5,
   "id": "3564c169",
   "metadata": {},
   "outputs": [],
   "source": [
    "def wealth_year(data: ModelInputs, year, prior_wealth):\n",
    "    \"\"\"\n",
    "    Calculate the accumulated wealth for a given year, \n",
    "    based on previous wealth, the investment rate,\n",
    "    and cash saved during the year.\n",
    "    \"\"\"\n",
    "    cash_saved = cash_saved_during_year(data, year)\n",
    "    wealth = prior_wealth * (1 + data.interest_rate) + cash_saved\n",
    "    return wealth"
   ]
  },
  {
   "cell_type": "code",
   "execution_count": 6,
   "id": "752aca71",
   "metadata": {},
   "outputs": [
    {
     "name": "stdout",
     "output_type": "stream",
     "text": [
      "The wealth at year 1 is £2,360.\n",
      "The wealth at year 2 is £5,058.\n",
      "The wealth at year 3 is £8,138.\n",
      "The wealth at year 4 is £11,648.\n"
     ]
    }
   ],
   "source": [
    "# Starting with no cash saved.\n",
    "prior_wealth = 0  \n",
    "for i in range(4):\n",
    "    year = i + 1\n",
    "    wealth = wealth_year(model_data, year, prior_wealth)\n",
    "    print(f\"The wealth at year {year} is £{wealth:,.0f}.\")\n",
    "    \n",
    "    # Set next year's prior wealth to this year's wealth.\n",
    "    prior_wealth = wealth"
   ]
  },
  {
   "cell_type": "code",
   "execution_count": 7,
   "id": "7f557e07",
   "metadata": {},
   "outputs": [],
   "source": [
    "# Runs the retirement model; collects salary and wealth information year by year\n",
    "# and stores it in a DataFrame for further analysis.\n",
    "def get_salaries_wealths_df(data):\n",
    "    # Start with no cash saved.\n",
    "    prior_wealth = 0   \n",
    "    wealth = 0\n",
    "    # The ‘year’ becomes ‘1’ on the first loop.\n",
    "    year = 0  \n",
    "    \n",
    "    df_data_tups = []\n",
    "    while wealth < data.desired_cash:\n",
    "        year = year + 1\n",
    "        salary = wages_year(data, year)\n",
    "        wealth = wealth_year(data, year, prior_wealth)\n",
    "\n",
    "        # Set next year's prior wealth to this year's wealth.\n",
    "        prior_wealth = wealth \n",
    "\n",
    "        # Save the results in a tuple for later building the DataFrame.\n",
    "        df_data_tups.append((year, salary, wealth))\n",
    "        \n",
    "    # Now we have run the while loop, so wealth must be >= desired_cash. \n",
    "    # Create the DataFrame.\n",
    "    df = pd.DataFrame(df_data_tups, columns=['Year', 'Salary', 'Wealth'])\n",
    "    \n",
    "    return df"
   ]
  },
  {
   "cell_type": "code",
   "execution_count": 8,
   "id": "dff035e4",
   "metadata": {},
   "outputs": [
    {
     "data": {
      "text/html": [
       "<div>\n",
       "<style scoped>\n",
       "    .dataframe tbody tr th:only-of-type {\n",
       "        vertical-align: middle;\n",
       "    }\n",
       "\n",
       "    .dataframe tbody tr th {\n",
       "        vertical-align: top;\n",
       "    }\n",
       "\n",
       "    .dataframe thead th {\n",
       "        text-align: right;\n",
       "    }\n",
       "</style>\n",
       "<table border=\"1\" class=\"dataframe\">\n",
       "  <thead>\n",
       "    <tr style=\"text-align: right;\">\n",
       "      <th></th>\n",
       "      <th>Year</th>\n",
       "      <th>Salary</th>\n",
       "      <th>Wealth</th>\n",
       "    </tr>\n",
       "  </thead>\n",
       "  <tbody>\n",
       "    <tr>\n",
       "      <th>0</th>\n",
       "      <td>1</td>\n",
       "      <td>39326.000000</td>\n",
       "      <td>2359.560000</td>\n",
       "    </tr>\n",
       "    <tr>\n",
       "      <th>1</th>\n",
       "      <td>2</td>\n",
       "      <td>44186.693600</td>\n",
       "      <td>5057.952816</td>\n",
       "    </tr>\n",
       "    <tr>\n",
       "      <th>2</th>\n",
       "      <td>3</td>\n",
       "      <td>49648.168929</td>\n",
       "      <td>8138.002008</td>\n",
       "    </tr>\n",
       "    <tr>\n",
       "      <th>3</th>\n",
       "      <td>4</td>\n",
       "      <td>55784.682609</td>\n",
       "      <td>11647.843005</td>\n",
       "    </tr>\n",
       "    <tr>\n",
       "      <th>4</th>\n",
       "      <td>5</td>\n",
       "      <td>62679.669379</td>\n",
       "      <td>15641.580028</td>\n",
       "    </tr>\n",
       "    <tr>\n",
       "      <th>5</th>\n",
       "      <td>6</td>\n",
       "      <td>70426.876514</td>\n",
       "      <td>20180.024219</td>\n",
       "    </tr>\n",
       "    <tr>\n",
       "      <th>6</th>\n",
       "      <td>7</td>\n",
       "      <td>79131.638451</td>\n",
       "      <td>25331.523010</td>\n",
       "    </tr>\n",
       "    <tr>\n",
       "      <th>7</th>\n",
       "      <td>8</td>\n",
       "      <td>88912.308964</td>\n",
       "      <td>31172.892008</td>\n",
       "    </tr>\n",
       "    <tr>\n",
       "      <th>8</th>\n",
       "      <td>9</td>\n",
       "      <td>99901.870352</td>\n",
       "      <td>37790.462070</td>\n",
       "    </tr>\n",
       "    <tr>\n",
       "      <th>9</th>\n",
       "      <td>10</td>\n",
       "      <td>112249.741527</td>\n",
       "      <td>45281.255803</td>\n",
       "    </tr>\n",
       "  </tbody>\n",
       "</table>\n",
       "</div>"
      ],
      "text/plain": [
       "   Year         Salary        Wealth\n",
       "0     1   39326.000000   2359.560000\n",
       "1     2   44186.693600   5057.952816\n",
       "2     3   49648.168929   8138.002008\n",
       "3     4   55784.682609  11647.843005\n",
       "4     5   62679.669379  15641.580028\n",
       "5     6   70426.876514  20180.024219\n",
       "6     7   79131.638451  25331.523010\n",
       "7     8   88912.308964  31172.892008\n",
       "8     9   99901.870352  37790.462070\n",
       "9    10  112249.741527  45281.255803"
      ]
     },
     "execution_count": 8,
     "metadata": {},
     "output_type": "execute_result"
    }
   ],
   "source": [
    "# Save the function results into the DataFrame.\n",
    "results_df = get_salaries_wealths_df(model_data)\n",
    "\n",
    "# View the DataFrame.\n",
    "results_df.head(10)"
   ]
  },
  {
   "cell_type": "markdown",
   "id": "60f15937",
   "metadata": {},
   "source": [
    "## 4. Create visualisation"
   ]
  },
  {
   "cell_type": "code",
   "execution_count": 9,
   "id": "455c51f9",
   "metadata": {},
   "outputs": [
    {
     "data": {
      "text/plain": [
       "<AxesSubplot:xlabel='Year'>"
      ]
     },
     "execution_count": 9,
     "metadata": {},
     "output_type": "execute_result"
    },
    {
     "data": {
      "image/png": "[encoded data removed]",
      "text/plain": [
       "<Figure size 640x480 with 1 Axes>"
      ]
     },
     "metadata": {},
     "output_type": "display_data"
    }
   ],
   "source": [
    "# Visualise wage or salary change over time.\n",
    "results_df.plot('Year', 'Salary')"
   ]
  },
  {
   "cell_type": "code",
   "execution_count": 10,
   "id": "169820a6",
   "metadata": {},
   "outputs": [
    {
     "data": {
      "text/plain": [
       "<AxesSubplot:xlabel='Year'>"
      ]
     },
     "execution_count": 10,
     "metadata": {},
     "output_type": "execute_result"
    },
    {
     "data": {
      "image/png": "[encoded data removed]",
      "text/plain": [
       "<Figure size 640x480 with 1 Axes>"
      ]
     },
     "metadata": {},
     "output_type": "display_data"
    }
   ],
   "source": [
    "# Visualise wealth change over time.\n",
    "results_df.plot('Year', 'Wealth')"
   ]
  },
  {
   "cell_type": "markdown",
   "id": "ab8256a2",
   "metadata": {},
   "source": [
    "## Alternative: Years until retirement"
   ]
  },
  {
   "cell_type": "code",
   "execution_count": 11,
   "id": "1e589e56",
   "metadata": {},
   "outputs": [],
   "source": [
    "def years_to_retirement(data: ModelInputs, print_output=True):\n",
    "    # Start with no cash saved.\n",
    "    prior_wealth = 0  \n",
    "    wealth = 0\n",
    "    # The ‘year’ becomes ‘1’ on the first loop.\n",
    "    year = 0  \n",
    "   \n",
    "    if print_output:\n",
    "        print('Wealths over time:')\n",
    "    while wealth < data.desired_cash:\n",
    "        year = year + 1\n",
    "        wealth = wealth_year(data, year, prior_wealth)\n",
    "        if print_output:\n",
    "            print(f'The accumulated wealth at year {year} is £{wealth:,.0f}.')\n",
    "            # Set next year's prior wealth to this year's wealth.\n",
    "        prior_wealth = wealth  \n",
    "       \n",
    "    # Now we have run the while loop, the wealth must be >= desired_cash \n",
    "    # (whatever last year was set is the years to retirement), which we can print.\n",
    "    if print_output:\n",
    "        # \\n makes a blank line in the output.\n",
    "        print(f'\\nRetirement:\\nIt will take {year} years to retire.')  \n",
    "    return year"
   ]
  },
  {
   "cell_type": "code",
   "execution_count": 12,
   "id": "2976e6bf",
   "metadata": {},
   "outputs": [
    {
     "name": "stdout",
     "output_type": "stream",
     "text": [
      "Wealths over time:\n",
      "The accumulated wealth at year 1 is £2,360.\n",
      "The accumulated wealth at year 2 is £5,058.\n",
      "The accumulated wealth at year 3 is £8,138.\n",
      "The accumulated wealth at year 4 is £11,648.\n",
      "The accumulated wealth at year 5 is £15,642.\n",
      "The accumulated wealth at year 6 is £20,180.\n",
      "The accumulated wealth at year 7 is £25,332.\n",
      "The accumulated wealth at year 8 is £31,173.\n",
      "The accumulated wealth at year 9 is £37,790.\n",
      "The accumulated wealth at year 10 is £45,281.\n",
      "The accumulated wealth at year 11 is £53,754.\n",
      "The accumulated wealth at year 12 is £63,332.\n",
      "The accumulated wealth at year 13 is £74,153.\n",
      "The accumulated wealth at year 14 is £86,370.\n",
      "The accumulated wealth at year 15 is £100,159.\n",
      "The accumulated wealth at year 16 is £115,714.\n",
      "The accumulated wealth at year 17 is £133,256.\n",
      "The accumulated wealth at year 18 is £153,030.\n",
      "The accumulated wealth at year 19 is £175,314.\n",
      "The accumulated wealth at year 20 is £200,421.\n",
      "The accumulated wealth at year 21 is £228,699.\n",
      "The accumulated wealth at year 22 is £260,542.\n",
      "The accumulated wealth at year 23 is £296,393.\n",
      "The accumulated wealth at year 24 is £336,748.\n",
      "The accumulated wealth at year 25 is £382,166.\n",
      "The accumulated wealth at year 26 is £433,272.\n",
      "The accumulated wealth at year 27 is £490,773.\n",
      "The accumulated wealth at year 28 is £555,460.\n",
      "\n",
      "Retirement:\n",
      "It will take 28 years to retire.\n"
     ]
    }
   ],
   "source": [
    "years = years_to_retirement(model_data)"
   ]
  },
  {
   "cell_type": "code",
   "execution_count": null,
   "id": "84e0ad6f",
   "metadata": {},
   "outputs": [],
   "source": []
  },
  {
   "cell_type": "code",
   "execution_count": null,
   "id": "c3c3cc9c",
   "metadata": {},
   "outputs": [],
   "source": []
  },
  {
   "cell_type": "code",
   "execution_count": null,
   "id": "b8cca59f",
   "metadata": {},
   "outputs": [],
   "source": []
  }
 ],
 "metadata": {
  "kernelspec": {
   "display_name": "Python 3 (ipykernel)",
   "language": "python",
   "name": "python3"
  },
  "language_info": {
   "codemirror_mode": {
    "name": "ipython",
    "version": 3
   },
   "file_extension": ".py",
   "mimetype": "text/x-python",
   "name": "python",
   "nbconvert_exporter": "python",
   "pygments_lexer": "ipython3",
   "version": "3.9.13"
  }
 },
 "nbformat": 4,
 "nbformat_minor": 5
}
