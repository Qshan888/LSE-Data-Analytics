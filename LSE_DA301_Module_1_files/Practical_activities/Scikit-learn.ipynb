{
 "cells": [
  {
   "cell_type": "code",
   "execution_count": 1,
   "id": "e6c56401",
   "metadata": {},
   "outputs": [
    {
     "name": "stdout",
     "output_type": "stream",
     "text": [
      "Requirement already satisfied: scipy in /Users/codyshan/opt/anaconda3/lib/python3.9/site-packages (1.9.1)\n",
      "Requirement already satisfied: numpy<1.25.0,>=1.18.5 in /Users/codyshan/opt/anaconda3/lib/python3.9/site-packages (from scipy) (1.21.5)\n",
      "   YearsExperience   Salary\n",
      "0              1.1  39343.0\n",
      "1              1.3  46205.0\n",
      "2              1.5  37731.0\n",
      "3              2.0  43525.0\n",
      "4              2.2  39891.0\n",
      "<class 'pandas.core.frame.DataFrame'>\n",
      "RangeIndex: 30 entries, 0 to 29\n",
      "Data columns (total 2 columns):\n",
      " #   Column           Non-Null Count  Dtype  \n",
      "---  ------           --------------  -----  \n",
      " 0   YearsExperience  30 non-null     float64\n",
      " 1   Salary           30 non-null     float64\n",
      "dtypes: float64(2)\n",
      "memory usage: 608.0 bytes\n",
      "None\n"
     ]
    },
    {
     "data": {
      "text/html": [
       "<div>\n",
       "<style scoped>\n",
       "    .dataframe tbody tr th:only-of-type {\n",
       "        vertical-align: middle;\n",
       "    }\n",
       "\n",
       "    .dataframe tbody tr th {\n",
       "        vertical-align: top;\n",
       "    }\n",
       "\n",
       "    .dataframe thead th {\n",
       "        text-align: right;\n",
       "    }\n",
       "</style>\n",
       "<table border=\"1\" class=\"dataframe\">\n",
       "  <thead>\n",
       "    <tr style=\"text-align: right;\">\n",
       "      <th></th>\n",
       "      <th>YearsExperience</th>\n",
       "      <th>Salary</th>\n",
       "    </tr>\n",
       "  </thead>\n",
       "  <tbody>\n",
       "    <tr>\n",
       "      <th>count</th>\n",
       "      <td>30.000000</td>\n",
       "      <td>30.000000</td>\n",
       "    </tr>\n",
       "    <tr>\n",
       "      <th>mean</th>\n",
       "      <td>5.313333</td>\n",
       "      <td>76003.000000</td>\n",
       "    </tr>\n",
       "    <tr>\n",
       "      <th>std</th>\n",
       "      <td>2.837888</td>\n",
       "      <td>27414.429785</td>\n",
       "    </tr>\n",
       "    <tr>\n",
       "      <th>min</th>\n",
       "      <td>1.100000</td>\n",
       "      <td>37731.000000</td>\n",
       "    </tr>\n",
       "    <tr>\n",
       "      <th>25%</th>\n",
       "      <td>3.200000</td>\n",
       "      <td>56720.750000</td>\n",
       "    </tr>\n",
       "    <tr>\n",
       "      <th>50%</th>\n",
       "      <td>4.700000</td>\n",
       "      <td>65237.000000</td>\n",
       "    </tr>\n",
       "    <tr>\n",
       "      <th>75%</th>\n",
       "      <td>7.700000</td>\n",
       "      <td>100544.750000</td>\n",
       "    </tr>\n",
       "    <tr>\n",
       "      <th>max</th>\n",
       "      <td>10.500000</td>\n",
       "      <td>122391.000000</td>\n",
       "    </tr>\n",
       "  </tbody>\n",
       "</table>\n",
       "</div>"
      ],
      "text/plain": [
       "       YearsExperience         Salary\n",
       "count        30.000000      30.000000\n",
       "mean          5.313333   76003.000000\n",
       "std           2.837888   27414.429785\n",
       "min           1.100000   37731.000000\n",
       "25%           3.200000   56720.750000\n",
       "50%           4.700000   65237.000000\n",
       "75%           7.700000  100544.750000\n",
       "max          10.500000  122391.000000"
      ]
     },
     "execution_count": 1,
     "metadata": {},
     "output_type": "execute_result"
    }
   ],
   "source": [
    "# Install the necessary module.\n",
    "!pip install scipy\n",
    "\n",
    "# Import the necessary libraries, packages, and modules.\n",
    "# Data analysis:\n",
    "import numpy as np  \n",
    "import pandas as pd \n",
    "\n",
    "# Linear regression:\n",
    "import sklearn\n",
    "import statsmodels.api as sm \n",
    "\n",
    "# Visualisation:\n",
    "import matplotlib.pyplot as plt \n",
    "import seaborn as sns\n",
    "\n",
    "\n",
    "# Import the salary_data.csv file.\n",
    "data = pd.read_csv('../data/salary_data.csv') \n",
    "\n",
    "# Print the DataFrame.\n",
    "print(data.head())\n",
    "print(data.info())\n",
    "data.describe() "
   ]
  },
  {
   "cell_type": "code",
   "execution_count": 4,
   "id": "8ee5de72",
   "metadata": {},
   "outputs": [],
   "source": [
    "# Define the dependent variable.\n",
    "y = data['Salary'].values.reshape(-1, 1) \n",
    "\n",
    "# Define the independent variable.\n",
    "x = data['YearsExperience'].values.reshape(-1, 1) "
   ]
  },
  {
   "cell_type": "code",
   "execution_count": 5,
   "id": "5538d939",
   "metadata": {},
   "outputs": [
    {
     "data": {
      "text/plain": [
       "LinearRegression()"
      ]
     },
     "execution_count": 5,
     "metadata": {},
     "output_type": "execute_result"
    }
   ],
   "source": [
    "# Import the necessary package.\n",
    "from sklearn.linear_model import LinearRegression\n",
    "\n",
    "# Specify the model.\n",
    "lm = LinearRegression()\n",
    "\n",
    "# Fit the model.\n",
    "lm.fit(x, y) "
   ]
  },
  {
   "cell_type": "code",
   "execution_count": 8,
   "id": "91a114e9",
   "metadata": {},
   "outputs": [],
   "source": [
    "# Import the sklearn module.\n",
    "from sklearn.model_selection import train_test_split \n",
    "\n",
    "# Create  the subset (50/50); \n",
    "# Control the shuffling/avoid variation in values between variables.\n",
    "x_train, x_test, y_train, y_test = train_test_split(x, y,\n",
    "                                                    train_size=0.5,\n",
    "                                                    random_state=100)"
   ]
  },
  {
   "cell_type": "code",
   "execution_count": 10,
   "id": "b36f1acf",
   "metadata": {},
   "outputs": [
    {
     "data": {
      "text/plain": [
       "LinearRegression()"
      ]
     },
     "execution_count": 10,
     "metadata": {},
     "output_type": "execute_result"
    }
   ],
   "source": [
    "# Fit the model once again with the train data\n",
    "\n",
    "lm.fit(x_train, y_train)"
   ]
  },
  {
   "cell_type": "code",
   "execution_count": 11,
   "id": "eeec5439",
   "metadata": {},
   "outputs": [
    {
     "data": {
      "text/plain": [
       "array([[ 37744.43966018],\n",
       "       [ 83660.57722548],\n",
       "       [ 69686.10057517],\n",
       "       [ 84658.75412907],\n",
       "       [ 95638.7000686 ],\n",
       "       [ 39740.79346736],\n",
       "       [ 92644.16935782],\n",
       "       [ 63697.03915361],\n",
       "       [ 75675.16199673],\n",
       "       [ 73678.80818954],\n",
       "       [106618.64600813],\n",
       "       [ 56709.80082845],\n",
       "       [ 44731.67798533],\n",
       "       [111609.53052609],\n",
       "       [ 56709.80082845]])"
      ]
     },
     "execution_count": 11,
     "metadata": {},
     "output_type": "execute_result"
    }
   ],
   "source": [
    "# Predict the training set values.\n",
    "y_pred = lm.predict(x_train) \n",
    "\n",
    "# View the output.\n",
    "y_pred"
   ]
  },
  {
   "cell_type": "code",
   "execution_count": 12,
   "id": "0867b8d5",
   "metadata": {},
   "outputs": [
    {
     "data": {
      "image/png": "[encoded data removed]",
      "text/plain": [
       "<Figure size 640x480 with 1 Axes>"
      ]
     },
     "metadata": {},
     "output_type": "display_data"
    }
   ],
   "source": [
    "# Create a scatterplot with a regression line.\n",
    "plt.scatter(x_train, y_train, color = 'red')  \n",
    "plt.plot(x_train, y_pred, color = 'green')\n",
    "\n",
    "# Set the title and legends for the graph.  \n",
    "plt.title(\"Years of Experience vs Ave. Salary\")\n",
    "plt.xlabel(\"Years of Experience\")\n",
    "plt.ylabel(\"Ave. Salary\") \n",
    "\n",
    "# Print the graph. \n",
    "plt.show() "
   ]
  },
  {
   "cell_type": "code",
   "execution_count": 13,
   "id": "c9bbf56c",
   "metadata": {},
   "outputs": [
    {
     "name": "stdout",
     "output_type": "stream",
     "text": [
      "R-squared value:  0.9382035605624517\n",
      "Intercept value:  [24768.13991346]\n",
      "Coefficient value:  [[9981.76903593]]\n"
     ]
    }
   ],
   "source": [
    "# Print R-squared value of the train data.\n",
    "print(\"R-squared value: \", lm.score(x_train, y_train)) \n",
    "\n",
    "# Print the intercept value.\n",
    "print(\"Intercept value: \", lm.intercept_) \n",
    "\n",
    "# Print the coefficient value.\n",
    "print(\"Coefficient value: \", lm.coef_)"
   ]
  },
  {
   "cell_type": "code",
   "execution_count": 14,
   "id": "ff2277ac",
   "metadata": {},
   "outputs": [
    {
     "data": {
      "image/png": "[encoded data removed]",
      "text/plain": [
       "<Figure size 640x480 with 1 Axes>"
      ]
     },
     "metadata": {},
     "output_type": "display_data"
    }
   ],
   "source": [
    "# Predict the test set values.\n",
    "y_pred_test = lm.predict(x_test) \n",
    "\n",
    "# Create a scatterplot with regression line.\n",
    "plt.scatter(x_test, y_test, color = 'red') \n",
    "plt.plot(x_test, y_pred_test, color = 'green')\n",
    "\n",
    "# Set the title and legends for the graph.  \n",
    "plt.title(\"Years of Experience vs Ave. Salary\")\n",
    "plt.xlabel(\"Years of Experience\")\n",
    "plt.ylabel(\"Ave. Salary\") \n",
    "\n",
    "# Print the graph. \n",
    "plt.show() "
   ]
  },
  {
   "cell_type": "code",
   "execution_count": 15,
   "id": "42e65328",
   "metadata": {},
   "outputs": [
    {
     "name": "stdout",
     "output_type": "stream",
     "text": [
      "R-squared value:  0.9550943825202389\n"
     ]
    }
   ],
   "source": [
    "# Print R-squared value of the test data.\n",
    "print(\"R-squared value: \", lm.score(x_test, y_test)) "
   ]
  },
  {
   "cell_type": "code",
   "execution_count": 16,
   "id": "73186003",
   "metadata": {},
   "outputs": [
    {
     "name": "stdout",
     "output_type": "stream",
     "text": [
      "Predicted Salary:\n",
      "[[ 74676.98509313]\n",
      " [124585.83027281]\n",
      " [174494.67545248]\n",
      " [224403.52063216]\n",
      " [274312.36581183]\n",
      " [324221.2109915 ]]\n"
     ]
    }
   ],
   "source": [
    "# Use the predict() method with an array to call the \n",
    "# salaries for each number of years’ experience.\n",
    "predictedSalary = lm.predict([[5], [10], [15], [20], [25], [30]])  \n",
    "\n",
    "# Print the results.\n",
    "print(f\"Predicted Salary:\\n{predictedSalary}\")  "
   ]
  },
  {
   "cell_type": "code",
   "execution_count": 17,
   "id": "67a60602",
   "metadata": {},
   "outputs": [
    {
     "name": "stdout",
     "output_type": "stream",
     "text": [
      "Predicted Salary:\n",
      "[[374130.05617118]\n",
      " [424038.90135085]\n",
      " [473947.74653053]\n",
      " [523856.5917102 ]]\n"
     ]
    }
   ],
   "source": [
    "# Use the predict() method with an array to call the \n",
    "# salaries for each number of years’ experience.\n",
    "predictedSalary = lm.predict([[35], [40], [45], [50]])  \n",
    "\n",
    "# Print the results.\n",
    "print(f\"Predicted Salary:\\n{predictedSalary}\") "
   ]
  },
  {
   "cell_type": "code",
   "execution_count": null,
   "id": "f9956765",
   "metadata": {},
   "outputs": [],
   "source": []
  }
 ],
 "metadata": {
  "kernelspec": {
   "display_name": "Python 3 (ipykernel)",
   "language": "python",
   "name": "python3"
  },
  "language_info": {
   "codemirror_mode": {
    "name": "ipython",
    "version": 3
   },
   "file_extension": ".py",
   "mimetype": "text/x-python",
   "name": "python",
   "nbconvert_exporter": "python",
   "pygments_lexer": "ipython3",
   "version": "3.9.13"
  }
 },
 "nbformat": 4,
 "nbformat_minor": 5
}
