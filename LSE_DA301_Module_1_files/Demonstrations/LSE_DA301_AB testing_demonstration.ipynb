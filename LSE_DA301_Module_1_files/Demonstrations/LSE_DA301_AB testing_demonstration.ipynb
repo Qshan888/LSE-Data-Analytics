{
 "cells": [
  {
   "cell_type": "markdown",
   "id": "0e20f751",
   "metadata": {},
   "source": [
    "### LSE Data Analytics Online Career Accelerator \n",
    "\n",
    "# DA301:  Advanced Analytics for Organisational Impact"
   ]
  },
  {
   "cell_type": "markdown",
   "id": "de440c4c",
   "metadata": {},
   "source": [
    "## Demostration video: A/B testing using Python"
   ]
  },
  {
   "cell_type": "markdown",
   "id": "6dd63b43",
   "metadata": {},
   "source": [
    "#### *This is a possible solution to the demostration video.* \n",
    "In this video, we will perform A/B testing using Python on a real-life scenario. \n",
    "\n",
    "Consider the following scenario (adapted from Fillinich 2020):\n",
    "An expanding e-commerce company wants to test a new version of its home page. The company has put together a new layout or design that they hope will increase its conversion rate. The conversion rate is a key metric, as it refers to the percentage of visitors that take a desired action on the website. In this case, that desired action is clicking through to the product page.\n",
    "The company's previous home page had a conversion rate of only 13%. And the company is hoping that the new design will increase the conversion rate by at least 2%. For the business to meet their target here, the conversion rate needs to improve from 13% to at least 15%.\n",
    "\n",
    "This is where a data analyst comes in: We can use an A/B test to determine if the conversion rate will indeed go up with 2%."
   ]
  },
  {
   "cell_type": "markdown",
   "id": "0545bee8",
   "metadata": {},
   "source": [
    "# "
   ]
  },
  {
   "cell_type": "markdown",
   "id": "6eebce65",
   "metadata": {},
   "source": [
    "## 1. Design and set up an A/B test"
   ]
  },
  {
   "cell_type": "markdown",
   "id": "a52db700",
   "metadata": {},
   "source": [
    "# "
   ]
  },
  {
   "cell_type": "markdown",
   "id": "72d0006c",
   "metadata": {},
   "source": [
    "## 2. Conduct a power analysis"
   ]
  },
  {
   "cell_type": "code",
   "execution_count": 1,
   "id": "5ba7e8c0",
   "metadata": {},
   "outputs": [
    {
     "name": "stdout",
     "output_type": "stream",
     "text": [
      "Sample Size: 4720.435\n"
     ]
    }
   ],
   "source": [
    "# Import statsmodel for statistical calculations and \n",
    "# TTestIndPower class to calculate the parameters.\n",
    "import statsmodels.stats.api as sms\n",
    "from statsmodels.stats.power import TTestIndPower\n",
    "\n",
    "# Specify the three required parameters for the power analysis:\n",
    "alpha = 0.05 \n",
    "power = 0.80 \n",
    "effect = sms.proportion_effectsize(0.13, 0.15) \n",
    "\n",
    "# Perform power analysis by using the solve_power() function:\n",
    "# Specify an instance of TTestIndPower.\n",
    "analysis = TTestIndPower() \n",
    "\n",
    "# Calculate the sample size and list the parameters.\n",
    "result = analysis.solve_power(effect, power=power, nobs1=None,\n",
    "                              ratio=1.0, alpha=alpha) \n",
    "\n",
    "# Print the output.\n",
    "print('Sample Size: %.3f' % result)"
   ]
  },
  {
   "cell_type": "markdown",
   "id": "7f7b232a",
   "metadata": {},
   "source": [
    "> What if we want to increase the power from 0.80 to 0.90?"
   ]
  },
  {
   "cell_type": "code",
   "execution_count": 4,
   "id": "9ecd034f",
   "metadata": {},
   "outputs": [
    {
     "name": "stdout",
     "output_type": "stream",
     "text": [
      "Sample Size: 6319.011\n"
     ]
    }
   ],
   "source": [
    "# Import statsmodel for statistical calculations and \n",
    "# TTestIndPower class to calculate the parameters.\n",
    "import statsmodels.stats.api as sms\n",
    "from statsmodels.stats.power import TTestIndPower\n",
    "\n",
    "# Specify the three required parameters for the power analysis:\n",
    "alpha = 0.05 \n",
    "power = 0.90 \n",
    "effect = sms.proportion_effectsize(0.13, 0.15) \n",
    "\n",
    "# Perform power analysis by using the solve_power() function:\n",
    "# Specify an instance of TTestIndPower.\n",
    "analysis = TTestIndPower() \n",
    "\n",
    "# Calculate the sample size and list the parameters.\n",
    "result = analysis.solve_power(effect, power=power, nobs1=None,\n",
    "                              ratio=1.0, alpha=alpha) \n",
    "\n",
    "# Print the output.\n",
    "print('Sample Size: %.3f' % result)"
   ]
  },
  {
   "cell_type": "markdown",
   "id": "2fadfbdb",
   "metadata": {},
   "source": [
    "# "
   ]
  },
  {
   "cell_type": "markdown",
   "id": "098caecb",
   "metadata": {},
   "source": [
    "## 3. Prepare the data in Python"
   ]
  },
  {
   "cell_type": "code",
   "execution_count": 5,
   "id": "3d35e010",
   "metadata": {},
   "outputs": [
    {
     "name": "stdout",
     "output_type": "stream",
     "text": [
      "Requirement already satisfied: scipy in /Users/codyshan/opt/anaconda3/lib/python3.9/site-packages (1.9.1)\r\n",
      "Requirement already satisfied: numpy<1.25.0,>=1.18.5 in /Users/codyshan/opt/anaconda3/lib/python3.9/site-packages (from scipy) (1.21.5)\r\n"
     ]
    }
   ],
   "source": [
    "# Install scipy.\n",
    "!pip install scipy"
   ]
  },
  {
   "cell_type": "code",
   "execution_count": 6,
   "id": "ba0b1b5d",
   "metadata": {},
   "outputs": [],
   "source": [
    "# Import necessary libraries, packages and classes.\n",
    "import pandas as pd\n",
    "import math\n",
    "import numpy as np\n",
    "import statsmodels.stats.api as sms\n",
    "import scipy.stats as st\n",
    "import matplotlib as mpl\n",
    "import matplotlib.pyplot as plt"
   ]
  },
  {
   "cell_type": "code",
   "execution_count": 8,
   "id": "270a80d0",
   "metadata": {},
   "outputs": [
    {
     "data": {
      "text/html": [
       "<div>\n",
       "<style scoped>\n",
       "    .dataframe tbody tr th:only-of-type {\n",
       "        vertical-align: middle;\n",
       "    }\n",
       "\n",
       "    .dataframe tbody tr th {\n",
       "        vertical-align: top;\n",
       "    }\n",
       "\n",
       "    .dataframe thead th {\n",
       "        text-align: right;\n",
       "    }\n",
       "</style>\n",
       "<table border=\"1\" class=\"dataframe\">\n",
       "  <thead>\n",
       "    <tr style=\"text-align: right;\">\n",
       "      <th></th>\n",
       "      <th>user_id</th>\n",
       "      <th>timestamp</th>\n",
       "      <th>group</th>\n",
       "      <th>landing_page</th>\n",
       "      <th>converted</th>\n",
       "    </tr>\n",
       "  </thead>\n",
       "  <tbody>\n",
       "    <tr>\n",
       "      <th>0</th>\n",
       "      <td>851104</td>\n",
       "      <td>2017-01-21 22:11:48.556739</td>\n",
       "      <td>control</td>\n",
       "      <td>old_page</td>\n",
       "      <td>0</td>\n",
       "    </tr>\n",
       "    <tr>\n",
       "      <th>1</th>\n",
       "      <td>804228</td>\n",
       "      <td>2017-01-12 08:01:45.159739</td>\n",
       "      <td>control</td>\n",
       "      <td>old_page</td>\n",
       "      <td>0</td>\n",
       "    </tr>\n",
       "    <tr>\n",
       "      <th>2</th>\n",
       "      <td>661590</td>\n",
       "      <td>2017-01-11 16:55:06.154213</td>\n",
       "      <td>treatment</td>\n",
       "      <td>new_page</td>\n",
       "      <td>0</td>\n",
       "    </tr>\n",
       "    <tr>\n",
       "      <th>3</th>\n",
       "      <td>853541</td>\n",
       "      <td>2017-01-08 18:28:03.143765</td>\n",
       "      <td>treatment</td>\n",
       "      <td>new_page</td>\n",
       "      <td>0</td>\n",
       "    </tr>\n",
       "    <tr>\n",
       "      <th>4</th>\n",
       "      <td>864975</td>\n",
       "      <td>2017-01-21 01:52:26.210827</td>\n",
       "      <td>control</td>\n",
       "      <td>old_page</td>\n",
       "      <td>1</td>\n",
       "    </tr>\n",
       "  </tbody>\n",
       "</table>\n",
       "</div>"
      ],
      "text/plain": [
       "   user_id                   timestamp      group landing_page  converted\n",
       "0   851104  2017-01-21 22:11:48.556739    control     old_page          0\n",
       "1   804228  2017-01-12 08:01:45.159739    control     old_page          0\n",
       "2   661590  2017-01-11 16:55:06.154213  treatment     new_page          0\n",
       "3   853541  2017-01-08 18:28:03.143765  treatment     new_page          0\n",
       "4   864975  2017-01-21 01:52:26.210827    control     old_page          1"
      ]
     },
     "execution_count": 8,
     "metadata": {},
     "output_type": "execute_result"
    }
   ],
   "source": [
    "# Read the CSV file (ab_data.csv).\n",
    "df = pd.read_csv('../Data/ab_data.csv')\n",
    "\n",
    "# View the DataFrame.\n",
    "df.head()"
   ]
  },
  {
   "cell_type": "code",
   "execution_count": 9,
   "id": "217850f1",
   "metadata": {},
   "outputs": [
    {
     "name": "stdout",
     "output_type": "stream",
     "text": [
      "<class 'pandas.core.frame.DataFrame'>\n",
      "RangeIndex: 294478 entries, 0 to 294477\n",
      "Data columns (total 5 columns):\n",
      " #   Column        Non-Null Count   Dtype \n",
      "---  ------        --------------   ----- \n",
      " 0   user_id       294478 non-null  int64 \n",
      " 1   timestamp     294478 non-null  object\n",
      " 2   group         294478 non-null  object\n",
      " 3   landing_page  294478 non-null  object\n",
      " 4   converted     294478 non-null  int64 \n",
      "dtypes: int64(2), object(3)\n",
      "memory usage: 11.2+ MB\n"
     ]
    }
   ],
   "source": [
    "# Check the metadata.\n",
    "df.info()"
   ]
  },
  {
   "cell_type": "code",
   "execution_count": 10,
   "id": "ecb5b4b3",
   "metadata": {},
   "outputs": [
    {
     "name": "stdout",
     "output_type": "stream",
     "text": [
      "        user_id                   timestamp      group landing_page  converted\n",
      "2656     698120  2017-01-15 17:13:42.602796    control     old_page          0\n",
      "2893     773192  2017-01-14 02:55:59.590927  treatment     new_page          0\n",
      "7500     899953  2017-01-07 03:06:54.068237    control     new_page          0\n",
      "8036     790934  2017-01-19 08:32:20.329057  treatment     new_page          0\n",
      "10218    633793  2017-01-17 00:16:00.746561  treatment     old_page          0\n",
      "...         ...                         ...        ...          ...        ...\n",
      "294308   905197  2017-01-03 06:56:47.488231  treatment     new_page          0\n",
      "294309   787083  2017-01-17 00:15:20.950723    control     old_page          0\n",
      "294328   641570  2017-01-09 21:59:27.695711    control     old_page          0\n",
      "294331   689637  2017-01-13 11:34:28.339532    control     new_page          0\n",
      "294355   744456  2017-01-13 09:32:07.106794  treatment     new_page          0\n",
      "\n",
      "[3894 rows x 5 columns]\n"
     ]
    }
   ],
   "source": [
    "# Check for duplicates.\n",
    "# Pandas's duplicated() function to check the user_id column. \n",
    "print(df[df.user_id.duplicated()])"
   ]
  },
  {
   "cell_type": "code",
   "execution_count": 11,
   "id": "d545acbb",
   "metadata": {},
   "outputs": [
    {
     "name": "stdout",
     "output_type": "stream",
     "text": [
      "<class 'pandas.core.frame.DataFrame'>\n",
      "Int64Index: 290584 entries, 0 to 294477\n",
      "Data columns (total 5 columns):\n",
      " #   Column        Non-Null Count   Dtype \n",
      "---  ------        --------------   ----- \n",
      " 0   user_id       290584 non-null  int64 \n",
      " 1   timestamp     290584 non-null  object\n",
      " 2   group         290584 non-null  object\n",
      " 3   landing_page  290584 non-null  object\n",
      " 4   converted     290584 non-null  int64 \n",
      "dtypes: int64(2), object(3)\n",
      "memory usage: 13.3+ MB\n"
     ]
    }
   ],
   "source": [
    "# Drop duplicate values.\n",
    "# Use drop_duplicates to return the Series without the duplicate values.\n",
    "df2 = df.drop_duplicates(subset = 'user_id') \n",
    "\n",
    "# Check the metadata.\n",
    "df2.info()"
   ]
  },
  {
   "cell_type": "code",
   "execution_count": 12,
   "id": "c0d8a8ff",
   "metadata": {},
   "outputs": [
    {
     "data": {
      "text/html": [
       "<div>\n",
       "<style scoped>\n",
       "    .dataframe tbody tr th:only-of-type {\n",
       "        vertical-align: middle;\n",
       "    }\n",
       "\n",
       "    .dataframe tbody tr th {\n",
       "        vertical-align: top;\n",
       "    }\n",
       "\n",
       "    .dataframe thead th {\n",
       "        text-align: right;\n",
       "    }\n",
       "</style>\n",
       "<table border=\"1\" class=\"dataframe\">\n",
       "  <thead>\n",
       "    <tr style=\"text-align: right;\">\n",
       "      <th></th>\n",
       "      <th>group</th>\n",
       "      <th>landing_page</th>\n",
       "      <th>converted</th>\n",
       "    </tr>\n",
       "  </thead>\n",
       "  <tbody>\n",
       "    <tr>\n",
       "      <th>0</th>\n",
       "      <td>control</td>\n",
       "      <td>old_page</td>\n",
       "      <td>0</td>\n",
       "    </tr>\n",
       "    <tr>\n",
       "      <th>1</th>\n",
       "      <td>control</td>\n",
       "      <td>old_page</td>\n",
       "      <td>0</td>\n",
       "    </tr>\n",
       "    <tr>\n",
       "      <th>2</th>\n",
       "      <td>treatment</td>\n",
       "      <td>new_page</td>\n",
       "      <td>0</td>\n",
       "    </tr>\n",
       "    <tr>\n",
       "      <th>3</th>\n",
       "      <td>treatment</td>\n",
       "      <td>new_page</td>\n",
       "      <td>0</td>\n",
       "    </tr>\n",
       "    <tr>\n",
       "      <th>4</th>\n",
       "      <td>control</td>\n",
       "      <td>old_page</td>\n",
       "      <td>1</td>\n",
       "    </tr>\n",
       "  </tbody>\n",
       "</table>\n",
       "</div>"
      ],
      "text/plain": [
       "       group landing_page  converted\n",
       "0    control     old_page          0\n",
       "1    control     old_page          0\n",
       "2  treatment     new_page          0\n",
       "3  treatment     new_page          0\n",
       "4    control     old_page          1"
      ]
     },
     "execution_count": 12,
     "metadata": {},
     "output_type": "execute_result"
    }
   ],
   "source": [
    "# Remove unnecessary columns.\n",
    "# Use dropped.drop to remove irrelevant columns from the DataFrame. \n",
    "# Specify that user_id and timestamp are columns (i.e. axis 1). \n",
    "df3 = df2.drop(['user_id', 'timestamp'], axis=1)  \n",
    "\n",
    "# Check the DataFrame.\n",
    "df3.head()"
   ]
  },
  {
   "cell_type": "code",
   "execution_count": 13,
   "id": "b5f23a66",
   "metadata": {},
   "outputs": [
    {
     "data": {
      "text/html": [
       "<div>\n",
       "<style scoped>\n",
       "    .dataframe tbody tr th:only-of-type {\n",
       "        vertical-align: middle;\n",
       "    }\n",
       "\n",
       "    .dataframe tbody tr th {\n",
       "        vertical-align: top;\n",
       "    }\n",
       "\n",
       "    .dataframe thead th {\n",
       "        text-align: right;\n",
       "    }\n",
       "</style>\n",
       "<table border=\"1\" class=\"dataframe\">\n",
       "  <thead>\n",
       "    <tr style=\"text-align: right;\">\n",
       "      <th>landing_page</th>\n",
       "      <th>new_page</th>\n",
       "      <th>old_page</th>\n",
       "    </tr>\n",
       "    <tr>\n",
       "      <th>group</th>\n",
       "      <th></th>\n",
       "      <th></th>\n",
       "    </tr>\n",
       "  </thead>\n",
       "  <tbody>\n",
       "    <tr>\n",
       "      <th>control</th>\n",
       "      <td>1006</td>\n",
       "      <td>144226</td>\n",
       "    </tr>\n",
       "    <tr>\n",
       "      <th>treatment</th>\n",
       "      <td>144314</td>\n",
       "      <td>1038</td>\n",
       "    </tr>\n",
       "  </tbody>\n",
       "</table>\n",
       "</div>"
      ],
      "text/plain": [
       "landing_page  new_page  old_page\n",
       "group                           \n",
       "control           1006    144226\n",
       "treatment       144314      1038"
      ]
     },
     "execution_count": 13,
     "metadata": {},
     "output_type": "execute_result"
    }
   ],
   "source": [
    "# Check for errors.\n",
    "# Use crosstab to compute a simple cross-tabulation between two variables.\n",
    "pd.crosstab(df3['group'], df3['landing_page'])"
   ]
  },
  {
   "cell_type": "code",
   "execution_count": 14,
   "id": "a7382746",
   "metadata": {},
   "outputs": [
    {
     "name": "stdout",
     "output_type": "stream",
     "text": [
      "(288540, 3)\n"
     ]
    },
    {
     "data": {
      "text/plain": [
       "treatment    144314\n",
       "control      144226\n",
       "Name: group, dtype: int64"
      ]
     },
     "execution_count": 14,
     "metadata": {},
     "output_type": "execute_result"
    }
   ],
   "source": [
    "# Specify groups to be dropped.\n",
    "df4 = df3[((df3.group == 'control') & (df3.landing_page == 'old_page')) | (\n",
    "    (df3.group == 'treatment') & (df3.landing_page == 'new_page'))]\n",
    "\n",
    "# Print the shape of the new final table.\n",
    "print(df4.shape)\n",
    "df4['group'].value_counts()"
   ]
  },
  {
   "cell_type": "code",
   "execution_count": 15,
   "id": "eb56f504",
   "metadata": {},
   "outputs": [
    {
     "data": {
      "text/html": [
       "<div>\n",
       "<style scoped>\n",
       "    .dataframe tbody tr th:only-of-type {\n",
       "        vertical-align: middle;\n",
       "    }\n",
       "\n",
       "    .dataframe tbody tr th {\n",
       "        vertical-align: top;\n",
       "    }\n",
       "\n",
       "    .dataframe thead th {\n",
       "        text-align: right;\n",
       "    }\n",
       "</style>\n",
       "<table border=\"1\" class=\"dataframe\">\n",
       "  <thead>\n",
       "    <tr style=\"text-align: right;\">\n",
       "      <th>landing_page</th>\n",
       "      <th>new_page</th>\n",
       "      <th>old_page</th>\n",
       "    </tr>\n",
       "    <tr>\n",
       "      <th>group</th>\n",
       "      <th></th>\n",
       "      <th></th>\n",
       "    </tr>\n",
       "  </thead>\n",
       "  <tbody>\n",
       "    <tr>\n",
       "      <th>control</th>\n",
       "      <td>0</td>\n",
       "      <td>144226</td>\n",
       "    </tr>\n",
       "    <tr>\n",
       "      <th>treatment</th>\n",
       "      <td>144314</td>\n",
       "      <td>0</td>\n",
       "    </tr>\n",
       "  </tbody>\n",
       "</table>\n",
       "</div>"
      ],
      "text/plain": [
       "landing_page  new_page  old_page\n",
       "group                           \n",
       "control              0    144226\n",
       "treatment       144314         0"
      ]
     },
     "execution_count": 15,
     "metadata": {},
     "output_type": "execute_result"
    }
   ],
   "source": [
    "# Re-check/compute another simple cross-tabulation.\n",
    "pd.crosstab(df4['group'], df4['landing_page'])"
   ]
  },
  {
   "cell_type": "markdown",
   "id": "c03110d3",
   "metadata": {},
   "source": [
    "# "
   ]
  },
  {
   "cell_type": "markdown",
   "id": "def09144",
   "metadata": {},
   "source": [
    "## 4. Perform random sampling with Pandas"
   ]
  },
  {
   "cell_type": "code",
   "execution_count": 18,
   "id": "d9940bdd",
   "metadata": {},
   "outputs": [
    {
     "data": {
      "text/html": [
       "<div>\n",
       "<style scoped>\n",
       "    .dataframe tbody tr th:only-of-type {\n",
       "        vertical-align: middle;\n",
       "    }\n",
       "\n",
       "    .dataframe tbody tr th {\n",
       "        vertical-align: top;\n",
       "    }\n",
       "\n",
       "    .dataframe thead th {\n",
       "        text-align: right;\n",
       "    }\n",
       "</style>\n",
       "<table border=\"1\" class=\"dataframe\">\n",
       "  <thead>\n",
       "    <tr style=\"text-align: right;\">\n",
       "      <th></th>\n",
       "      <th>group</th>\n",
       "      <th>landing_page</th>\n",
       "      <th>converted</th>\n",
       "    </tr>\n",
       "  </thead>\n",
       "  <tbody>\n",
       "    <tr>\n",
       "      <th>58605</th>\n",
       "      <td>control</td>\n",
       "      <td>old_page</td>\n",
       "      <td>0</td>\n",
       "    </tr>\n",
       "    <tr>\n",
       "      <th>197229</th>\n",
       "      <td>control</td>\n",
       "      <td>old_page</td>\n",
       "      <td>0</td>\n",
       "    </tr>\n",
       "    <tr>\n",
       "      <th>228637</th>\n",
       "      <td>control</td>\n",
       "      <td>old_page</td>\n",
       "      <td>0</td>\n",
       "    </tr>\n",
       "    <tr>\n",
       "      <th>147532</th>\n",
       "      <td>control</td>\n",
       "      <td>old_page</td>\n",
       "      <td>0</td>\n",
       "    </tr>\n",
       "    <tr>\n",
       "      <th>19562</th>\n",
       "      <td>control</td>\n",
       "      <td>old_page</td>\n",
       "      <td>0</td>\n",
       "    </tr>\n",
       "    <tr>\n",
       "      <th>...</th>\n",
       "      <td>...</td>\n",
       "      <td>...</td>\n",
       "      <td>...</td>\n",
       "    </tr>\n",
       "    <tr>\n",
       "      <th>132071</th>\n",
       "      <td>control</td>\n",
       "      <td>old_page</td>\n",
       "      <td>0</td>\n",
       "    </tr>\n",
       "    <tr>\n",
       "      <th>282023</th>\n",
       "      <td>control</td>\n",
       "      <td>old_page</td>\n",
       "      <td>0</td>\n",
       "    </tr>\n",
       "    <tr>\n",
       "      <th>175736</th>\n",
       "      <td>control</td>\n",
       "      <td>old_page</td>\n",
       "      <td>0</td>\n",
       "    </tr>\n",
       "    <tr>\n",
       "      <th>273069</th>\n",
       "      <td>control</td>\n",
       "      <td>old_page</td>\n",
       "      <td>0</td>\n",
       "    </tr>\n",
       "    <tr>\n",
       "      <th>229609</th>\n",
       "      <td>control</td>\n",
       "      <td>old_page</td>\n",
       "      <td>0</td>\n",
       "    </tr>\n",
       "  </tbody>\n",
       "</table>\n",
       "<p>4721 rows × 3 columns</p>\n",
       "</div>"
      ],
      "text/plain": [
       "          group landing_page  converted\n",
       "58605   control     old_page          0\n",
       "197229  control     old_page          0\n",
       "228637  control     old_page          0\n",
       "147532  control     old_page          0\n",
       "19562   control     old_page          0\n",
       "...         ...          ...        ...\n",
       "132071  control     old_page          0\n",
       "282023  control     old_page          0\n",
       "175736  control     old_page          0\n",
       "273069  control     old_page          0\n",
       "229609  control     old_page          0\n",
       "\n",
       "[4721 rows x 3 columns]"
      ]
     },
     "execution_count": 18,
     "metadata": {},
     "output_type": "execute_result"
    }
   ],
   "source": [
    "# Obtain a simple random sample for control and treatment groups with n = 4721; \n",
    "# set random_stategenerator seed at an arbitrary value of 22.\n",
    "# Obtain a simple random sample for the control group.\n",
    "control_sample = df4[df4['group'] == 'control'].sample(n=4721, \n",
    "                                                       random_state=22) \n",
    "\n",
    "# Obtain a simple random sample for the treatment group.\n",
    "treatment_sample = df4[df4['group'] == 'treatment'].sample(n=4721,\n",
    "                                                           random_state=22)\n",
    "\n",
    "control_sample"
   ]
  },
  {
   "cell_type": "code",
   "execution_count": 27,
   "id": "d4c60618",
   "metadata": {},
   "outputs": [
    {
     "data": {
      "text/html": [
       "<div>\n",
       "<style scoped>\n",
       "    .dataframe tbody tr th:only-of-type {\n",
       "        vertical-align: middle;\n",
       "    }\n",
       "\n",
       "    .dataframe tbody tr th {\n",
       "        vertical-align: top;\n",
       "    }\n",
       "\n",
       "    .dataframe thead th {\n",
       "        text-align: right;\n",
       "    }\n",
       "</style>\n",
       "<table border=\"1\" class=\"dataframe\">\n",
       "  <thead>\n",
       "    <tr style=\"text-align: right;\">\n",
       "      <th></th>\n",
       "      <th>group</th>\n",
       "      <th>landing_page</th>\n",
       "      <th>converted</th>\n",
       "    </tr>\n",
       "  </thead>\n",
       "  <tbody>\n",
       "    <tr>\n",
       "      <th>0</th>\n",
       "      <td>control</td>\n",
       "      <td>old_page</td>\n",
       "      <td>0</td>\n",
       "    </tr>\n",
       "    <tr>\n",
       "      <th>1</th>\n",
       "      <td>control</td>\n",
       "      <td>old_page</td>\n",
       "      <td>0</td>\n",
       "    </tr>\n",
       "    <tr>\n",
       "      <th>2</th>\n",
       "      <td>control</td>\n",
       "      <td>old_page</td>\n",
       "      <td>0</td>\n",
       "    </tr>\n",
       "    <tr>\n",
       "      <th>3</th>\n",
       "      <td>control</td>\n",
       "      <td>old_page</td>\n",
       "      <td>0</td>\n",
       "    </tr>\n",
       "    <tr>\n",
       "      <th>4</th>\n",
       "      <td>control</td>\n",
       "      <td>old_page</td>\n",
       "      <td>0</td>\n",
       "    </tr>\n",
       "    <tr>\n",
       "      <th>...</th>\n",
       "      <td>...</td>\n",
       "      <td>...</td>\n",
       "      <td>...</td>\n",
       "    </tr>\n",
       "    <tr>\n",
       "      <th>9437</th>\n",
       "      <td>treatment</td>\n",
       "      <td>new_page</td>\n",
       "      <td>0</td>\n",
       "    </tr>\n",
       "    <tr>\n",
       "      <th>9438</th>\n",
       "      <td>treatment</td>\n",
       "      <td>new_page</td>\n",
       "      <td>0</td>\n",
       "    </tr>\n",
       "    <tr>\n",
       "      <th>9439</th>\n",
       "      <td>treatment</td>\n",
       "      <td>new_page</td>\n",
       "      <td>0</td>\n",
       "    </tr>\n",
       "    <tr>\n",
       "      <th>9440</th>\n",
       "      <td>treatment</td>\n",
       "      <td>new_page</td>\n",
       "      <td>0</td>\n",
       "    </tr>\n",
       "    <tr>\n",
       "      <th>9441</th>\n",
       "      <td>treatment</td>\n",
       "      <td>new_page</td>\n",
       "      <td>0</td>\n",
       "    </tr>\n",
       "  </tbody>\n",
       "</table>\n",
       "<p>9442 rows × 3 columns</p>\n",
       "</div>"
      ],
      "text/plain": [
       "          group landing_page  converted\n",
       "0       control     old_page          0\n",
       "1       control     old_page          0\n",
       "2       control     old_page          0\n",
       "3       control     old_page          0\n",
       "4       control     old_page          0\n",
       "...         ...          ...        ...\n",
       "9437  treatment     new_page          0\n",
       "9438  treatment     new_page          0\n",
       "9439  treatment     new_page          0\n",
       "9440  treatment     new_page          0\n",
       "9441  treatment     new_page          0\n",
       "\n",
       "[9442 rows x 3 columns]"
      ]
     },
     "execution_count": 27,
     "metadata": {},
     "output_type": "execute_result"
    }
   ],
   "source": [
    "# Join the two samples.  \n",
    "ab_test = pd.concat([control_sample, treatment_sample], axis=0)  \n",
    "\n",
    "# Reset the A/B index.\n",
    "ab_test.reset_index(drop=True, inplace=True) \n",
    "\n",
    "# Print the sample table.\n",
    "ab_test  "
   ]
  },
  {
   "cell_type": "markdown",
   "id": "c3d1cf08",
   "metadata": {},
   "source": [
    "# "
   ]
  },
  {
   "cell_type": "markdown",
   "id": "c04f8402",
   "metadata": {},
   "source": [
    "## 5. Analyse the data"
   ]
  },
  {
   "cell_type": "code",
   "execution_count": 33,
   "id": "6638a7e3",
   "metadata": {},
   "outputs": [
    {
     "data": {
      "text/html": [
       "<style type=\"text/css\">\n",
       "</style>\n",
       "<table id=\"T_3d0c7\">\n",
       "  <thead>\n",
       "    <tr>\n",
       "      <th class=\"blank level0\" >&nbsp;</th>\n",
       "      <th id=\"T_3d0c7_level0_col0\" class=\"col_heading level0 col0\" >conversion_rate</th>\n",
       "      <th id=\"T_3d0c7_level0_col1\" class=\"col_heading level0 col1\" >std_deviation</th>\n",
       "      <th id=\"T_3d0c7_level0_col2\" class=\"col_heading level0 col2\" >std_error</th>\n",
       "    </tr>\n",
       "    <tr>\n",
       "      <th class=\"index_name level0\" >group</th>\n",
       "      <th class=\"blank col0\" >&nbsp;</th>\n",
       "      <th class=\"blank col1\" >&nbsp;</th>\n",
       "      <th class=\"blank col2\" >&nbsp;</th>\n",
       "    </tr>\n",
       "  </thead>\n",
       "  <tbody>\n",
       "    <tr>\n",
       "      <th id=\"T_3d0c7_level0_row0\" class=\"row_heading level0 row0\" >control</th>\n",
       "      <td id=\"T_3d0c7_row0_col0\" class=\"data row0 col0\" >0.124</td>\n",
       "      <td id=\"T_3d0c7_row0_col1\" class=\"data row0 col1\" >0.330</td>\n",
       "      <td id=\"T_3d0c7_row0_col2\" class=\"data row0 col2\" >0.005</td>\n",
       "    </tr>\n",
       "    <tr>\n",
       "      <th id=\"T_3d0c7_level0_row1\" class=\"row_heading level0 row1\" >treatment</th>\n",
       "      <td id=\"T_3d0c7_row1_col0\" class=\"data row1 col0\" >0.115</td>\n",
       "      <td id=\"T_3d0c7_row1_col1\" class=\"data row1 col1\" >0.319</td>\n",
       "      <td id=\"T_3d0c7_row1_col2\" class=\"data row1 col2\" >0.005</td>\n",
       "    </tr>\n",
       "  </tbody>\n",
       "</table>\n"
      ],
      "text/plain": [
       "<pandas.io.formats.style.Styler at 0x7f7f61751c40>"
      ]
     },
     "execution_count": 33,
     "metadata": {},
     "output_type": "execute_result"
    }
   ],
   "source": [
    "# Calculate basic statistics.\n",
    "# Import library.\n",
    "# SEM stands for standard error mean.\n",
    "from scipy.stats import sem\n",
    "\n",
    "# Group the ab_test data set by group and aggregate by converted.\n",
    "conversion_rates = ab_test.groupby('group')['converted']\n",
    "\n",
    "\n",
    "# Calculate conversion rates by calculating the means of columns STD_p and SE_p.\n",
    "conversion_rates = conversion_rates.agg([np.mean, np.std,sem])\n",
    "\n",
    "# Assign names to the three columns.\n",
    "conversion_rates.columns = ['conversion_rate',\n",
    "                            'std_deviation',\n",
    "                            'std_error']  \n",
    "\n",
    "# Round the output to 3 decimal places.\n",
    "conversion_rates.style.format('{:.3f}')"
   ]
  },
  {
   "cell_type": "code",
   "execution_count": 43,
   "id": "665db7f1",
   "metadata": {},
   "outputs": [
    {
     "name": "stdout",
     "output_type": "stream",
     "text": [
      "Z test stat: 1.396\n",
      "P-value: 0.163\n",
      "Confidence Interval of 95% for control group: [0.115, 0.134]\n",
      "Confidence Interval of 95% for treatment group: [0.106, 0.124]\n"
     ]
    }
   ],
   "source": [
    "# Calculate statistical significance.\n",
    "# Import proportions_ztest and proportion_confint from statsmodels.\n",
    "from statsmodels.stats.proportion import proportions_ztest, proportion_confint\n",
    "\n",
    "# Create a subset of control and treatment results.\n",
    "control_results = ab_test[ab_test['group'] == 'control']['converted']\n",
    "treatment_results = ab_test[ab_test['group'] == 'treatment']['converted']\n",
    "\n",
    "# Determine the count of the control_results and \n",
    "# treatment_result sub-data sets and store them in their respective variables.\n",
    "n_con = control_results.count()\n",
    "n_treat = treatment_results.count()\n",
    "\n",
    "# Create a variable 'success' with the sum of the two data sets in a list format. \n",
    "successes = [control_results.sum(), treatment_results.sum()]\n",
    "\n",
    "# Create a variable 'nobs' which stores the values of \n",
    "# variables n_con and n_treat in list format. \n",
    "nobs = [n_con, n_treat] \n",
    "\n",
    "# Use the imported libraries to calculate the statistical values. \n",
    "z_stat, pval = proportions_ztest(successes, nobs=nobs)\n",
    "(lower_con, lower_treat), (upper_con, upper_treat) = proportion_confint(successes,\n",
    "                                                                        nobs=nobs,\n",
    "                                                                        alpha=0.05)\n",
    "\n",
    "# Print the outputs (with lead-in text). The .3f indicates the number of decimal places.\n",
    "print(f\"Z test stat: {z_stat:.3f}\")\n",
    "print(f\"P-value: {pval:.3f}\")\n",
    "print(f\"Confidence Interval of 95% for control group: [{lower_con:.3f}, {upper_con:.3f}]\")\n",
    "print(f\"Confidence Interval of 95% for treatment group: [{lower_treat:.3f}, {upper_treat:.3f}]\")"
   ]
  },
  {
   "cell_type": "markdown",
   "id": "9bb28929",
   "metadata": {},
   "source": [
    "# "
   ]
  },
  {
   "cell_type": "markdown",
   "id": "80168b05",
   "metadata": {},
   "source": [
    "## 6. Conclusion"
   ]
  },
  {
   "cell_type": "markdown",
   "id": "8989f0f6",
   "metadata": {},
   "source": [
    "Our results indicated a $p=0.163$ (16.3%) with an $alpha=0.05$. Therefore, we cannot reject the $H_0$. Why? Recall that $p$-values summarise statistical differences, essentially calculating the probability that the data could deviate from $H_0$. A $p=0.163$ (16.3%) suggests that the new design did not perform better than the old design. The confidence interval for the treatment group does not reach 13%, never mind the desired 15%, confirming that the new website design was altogether ineffective in increasing the conversion rate.\n",
    "\n",
    "Although the website redesign did not result in a higher conversion rate, the result of the test does not necessarily need to be seen as a failure. The non-rejection of the $H_0$ simply means that there isn’t enough statistical evidence to disprove the hypothesis. In theory, we can repeat the test with a different sample size, or a change in the confidence level, and so on. \n",
    "\n",
    "And, despite the result, additional data has been gained! The e-commerce company now knows that maybe it isn’t the homepage design that is discouraging users from taking desired actions. There could also be invalid assumptions in the test itself. With this in mind, the company can regroup and reconsider how to either improve the conversion rate or run more tests."
   ]
  },
  {
   "cell_type": "code",
   "execution_count": null,
   "id": "95e5a0c4",
   "metadata": {},
   "outputs": [],
   "source": []
  }
 ],
 "metadata": {
  "kernelspec": {
   "display_name": "Python 3 (ipykernel)",
   "language": "python",
   "name": "python3"
  },
  "language_info": {
   "codemirror_mode": {
    "name": "ipython",
    "version": 3
   },
   "file_extension": ".py",
   "mimetype": "text/x-python",
   "name": "python",
   "nbconvert_exporter": "python",
   "pygments_lexer": "ipython3",
   "version": "3.9.13"
  }
 },
 "nbformat": 4,
 "nbformat_minor": 5
}
