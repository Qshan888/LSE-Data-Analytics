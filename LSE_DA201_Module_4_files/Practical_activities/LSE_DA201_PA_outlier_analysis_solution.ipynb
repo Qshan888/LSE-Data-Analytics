{
 "cells": [
  {
   "cell_type": "markdown",
   "id": "d75a9832",
   "metadata": {},
   "source": [
    "### LSE Data Analytics Online Career Accelerator\n",
    "\n",
    "# DA201: Data Analytics Using Python"
   ]
  },
  {
   "cell_type": "markdown",
   "id": "963426a8",
   "metadata": {},
   "source": [
    "## Practical activity: Outlier analysis"
   ]
  },
  {
   "cell_type": "markdown",
   "id": "8615e7ee",
   "metadata": {},
   "source": [
    "**This is the solution to the activity.**\n",
    "\n",
    "Canopy is a new boutique streaming company that is looking to create an app that provides recommendations based on the last movie you watched. As a part of their process, they want to review the data and gather enough information before they start making suggestions and recommendations to their clients. \n",
    "\n",
    "This analysis uses the `movies.csv` and `ott.xlsx` data sets. Based on the available information, in this activity you will:\n",
    "\n",
    "- perform an outlier analysis on the data to detect outliers or anomalies and find interesting relationships among the variables\n",
    "- understand what the data says by visualising it on a boxplot."
   ]
  },
  {
   "cell_type": "markdown",
   "id": "eb962e25",
   "metadata": {},
   "source": [
    "## 1. Import the libraries"
   ]
  },
  {
   "cell_type": "code",
   "execution_count": 1,
   "id": "fde628ad",
   "metadata": {},
   "outputs": [],
   "source": [
    "# Import necessary libraries.\n",
    "import pandas as pd\n",
    "import seaborn as sns\n",
    "import matplotlib.pyplot as plt"
   ]
  },
  {
   "cell_type": "markdown",
   "id": "c4a538ea",
   "metadata": {},
   "source": [
    "## Import Excel file"
   ]
  },
  {
   "cell_type": "code",
   "execution_count": 2,
   "id": "998dcb48",
   "metadata": {},
   "outputs": [
    {
     "name": "stdout",
     "output_type": "stream",
     "text": [
      "Index(['ID', 'Netflix', 'Hulu', 'Prime Video', 'Disney+'], dtype='object')\n"
     ]
    }
   ],
   "source": [
    "# Load the Excel data using pd.read_excel.\n",
    "ott = pd.read_excel('../Data/ott.xlsx')\n",
    "\n",
    "# View the columns.\n",
    "print(ott.columns)"
   ]
  },
  {
   "cell_type": "markdown",
   "id": "53503590",
   "metadata": {},
   "source": [
    "## Import CSV file"
   ]
  },
  {
   "cell_type": "code",
   "execution_count": 3,
   "id": "4a2f1dff",
   "metadata": {},
   "outputs": [
    {
     "name": "stdout",
     "output_type": "stream",
     "text": [
      "Index(['ID', 'Title', 'Year', 'Age', 'IMDb', 'Rotten Tomatoes', 'Directors',\n",
      "       'Genres', 'Country', 'Language', 'Runtime'],\n",
      "      dtype='object')\n"
     ]
    }
   ],
   "source": [
    "# Load the CSV data using pd.read_csv.\n",
    "movies = pd.read_csv('../Data/movies.csv')\n",
    "\n",
    "print(movies.columns)"
   ]
  },
  {
   "cell_type": "markdown",
   "id": "2b06d215",
   "metadata": {},
   "source": [
    "## Validate the DataFrames"
   ]
  },
  {
   "cell_type": "code",
   "execution_count": 4,
   "id": "a5fbe1e9",
   "metadata": {},
   "outputs": [
    {
     "name": "stdout",
     "output_type": "stream",
     "text": [
      "   ID                           Title  Year  Age  IMDb Rotten Tomatoes  \\\n",
      "0   1                       Inception  2010  13+   8.8             87%   \n",
      "1   2                      The Matrix  1999  18+   8.7             87%   \n",
      "2   3          Avengers: Infinity War  2018  13+   8.5             84%   \n",
      "3   4              Back to the Future  1985   7+   8.5             96%   \n",
      "4   5  The Good, the Bad and the Ugly  1966  18+   8.8             97%   \n",
      "\n",
      "                        Directors                            Genres  \\\n",
      "0               Christopher Nolan  Action,Adventure,Sci-Fi,Thriller   \n",
      "1  Lana Wachowski,Lilly Wachowski                     Action,Sci-Fi   \n",
      "2         Anthony Russo,Joe Russo           Action,Adventure,Sci-Fi   \n",
      "3                 Robert Zemeckis           Adventure,Comedy,Sci-Fi   \n",
      "4                    Sergio Leone                           Western   \n",
      "\n",
      "                        Country                 Language  Runtime  \n",
      "0  United States,United Kingdom  English,Japanese,French    148.0  \n",
      "1                 United States                  English    136.0  \n",
      "2                 United States                  English    149.0  \n",
      "3                 United States                  English    116.0  \n",
      "4      Italy,Spain,West Germany                  Italian    161.0  \n",
      "(16744, 11)\n",
      "ID                   int64\n",
      "Title               object\n",
      "Year                 int64\n",
      "Age                 object\n",
      "IMDb               float64\n",
      "Rotten Tomatoes     object\n",
      "Directors           object\n",
      "Genres              object\n",
      "Country             object\n",
      "Language            object\n",
      "Runtime            float64\n",
      "dtype: object\n"
     ]
    }
   ],
   "source": [
    "# Data imported correctly?\n",
    "print(movies.head())\n",
    "print(movies.shape)\n",
    "print(movies.dtypes)"
   ]
  },
  {
   "cell_type": "code",
   "execution_count": 5,
   "id": "d16239df",
   "metadata": {},
   "outputs": [
    {
     "name": "stdout",
     "output_type": "stream",
     "text": [
      "   ID  Netflix  Hulu  Prime Video  Disney+\n",
      "0   1        0     0            1        0\n",
      "1   2        0     1            0        0\n",
      "2   3        0     0            1        0\n",
      "3   4        1     0            0        0\n",
      "4   5        0     0            1        0\n",
      "ID             int64\n",
      "Netflix        int64\n",
      "Hulu           int64\n",
      "Prime Video    int64\n",
      "Disney+        int64\n",
      "dtype: object\n",
      "(16744, 5)\n"
     ]
    }
   ],
   "source": [
    "# Data imported correctly?\n",
    "print(ott.head())\n",
    "print(ott.dtypes)\n",
    "print(ott.shape)"
   ]
  },
  {
   "cell_type": "markdown",
   "id": "d5921ef5",
   "metadata": {},
   "source": [
    "## Combine the two DataFrames"
   ]
  },
  {
   "cell_type": "code",
   "execution_count": 6,
   "id": "a99340f2",
   "metadata": {},
   "outputs": [
    {
     "name": "stdout",
     "output_type": "stream",
     "text": [
      "(16744, 15)\n"
     ]
    },
    {
     "data": {
      "text/html": [
       "<div>\n",
       "<style scoped>\n",
       "    .dataframe tbody tr th:only-of-type {\n",
       "        vertical-align: middle;\n",
       "    }\n",
       "\n",
       "    .dataframe tbody tr th {\n",
       "        vertical-align: top;\n",
       "    }\n",
       "\n",
       "    .dataframe thead th {\n",
       "        text-align: right;\n",
       "    }\n",
       "</style>\n",
       "<table border=\"1\" class=\"dataframe\">\n",
       "  <thead>\n",
       "    <tr style=\"text-align: right;\">\n",
       "      <th></th>\n",
       "      <th>ID</th>\n",
       "      <th>Title</th>\n",
       "      <th>Year</th>\n",
       "      <th>Age</th>\n",
       "      <th>IMDb</th>\n",
       "      <th>Rotten Tomatoes</th>\n",
       "      <th>Directors</th>\n",
       "      <th>Genres</th>\n",
       "      <th>Country</th>\n",
       "      <th>Language</th>\n",
       "      <th>Runtime</th>\n",
       "      <th>Netflix</th>\n",
       "      <th>Hulu</th>\n",
       "      <th>Prime Video</th>\n",
       "      <th>Disney+</th>\n",
       "    </tr>\n",
       "  </thead>\n",
       "  <tbody>\n",
       "    <tr>\n",
       "      <th>0</th>\n",
       "      <td>1</td>\n",
       "      <td>Inception</td>\n",
       "      <td>2010</td>\n",
       "      <td>13+</td>\n",
       "      <td>8.8</td>\n",
       "      <td>87%</td>\n",
       "      <td>Christopher Nolan</td>\n",
       "      <td>Action,Adventure,Sci-Fi,Thriller</td>\n",
       "      <td>United States,United Kingdom</td>\n",
       "      <td>English,Japanese,French</td>\n",
       "      <td>148.0</td>\n",
       "      <td>0</td>\n",
       "      <td>0</td>\n",
       "      <td>1</td>\n",
       "      <td>0</td>\n",
       "    </tr>\n",
       "    <tr>\n",
       "      <th>1</th>\n",
       "      <td>2</td>\n",
       "      <td>The Matrix</td>\n",
       "      <td>1999</td>\n",
       "      <td>18+</td>\n",
       "      <td>8.7</td>\n",
       "      <td>87%</td>\n",
       "      <td>Lana Wachowski,Lilly Wachowski</td>\n",
       "      <td>Action,Sci-Fi</td>\n",
       "      <td>United States</td>\n",
       "      <td>English</td>\n",
       "      <td>136.0</td>\n",
       "      <td>0</td>\n",
       "      <td>1</td>\n",
       "      <td>0</td>\n",
       "      <td>0</td>\n",
       "    </tr>\n",
       "    <tr>\n",
       "      <th>2</th>\n",
       "      <td>3</td>\n",
       "      <td>Avengers: Infinity War</td>\n",
       "      <td>2018</td>\n",
       "      <td>13+</td>\n",
       "      <td>8.5</td>\n",
       "      <td>84%</td>\n",
       "      <td>Anthony Russo,Joe Russo</td>\n",
       "      <td>Action,Adventure,Sci-Fi</td>\n",
       "      <td>United States</td>\n",
       "      <td>English</td>\n",
       "      <td>149.0</td>\n",
       "      <td>0</td>\n",
       "      <td>0</td>\n",
       "      <td>1</td>\n",
       "      <td>0</td>\n",
       "    </tr>\n",
       "    <tr>\n",
       "      <th>3</th>\n",
       "      <td>4</td>\n",
       "      <td>Back to the Future</td>\n",
       "      <td>1985</td>\n",
       "      <td>7+</td>\n",
       "      <td>8.5</td>\n",
       "      <td>96%</td>\n",
       "      <td>Robert Zemeckis</td>\n",
       "      <td>Adventure,Comedy,Sci-Fi</td>\n",
       "      <td>United States</td>\n",
       "      <td>English</td>\n",
       "      <td>116.0</td>\n",
       "      <td>1</td>\n",
       "      <td>0</td>\n",
       "      <td>0</td>\n",
       "      <td>0</td>\n",
       "    </tr>\n",
       "    <tr>\n",
       "      <th>4</th>\n",
       "      <td>5</td>\n",
       "      <td>The Good, the Bad and the Ugly</td>\n",
       "      <td>1966</td>\n",
       "      <td>18+</td>\n",
       "      <td>8.8</td>\n",
       "      <td>97%</td>\n",
       "      <td>Sergio Leone</td>\n",
       "      <td>Western</td>\n",
       "      <td>Italy,Spain,West Germany</td>\n",
       "      <td>Italian</td>\n",
       "      <td>161.0</td>\n",
       "      <td>0</td>\n",
       "      <td>0</td>\n",
       "      <td>1</td>\n",
       "      <td>0</td>\n",
       "    </tr>\n",
       "  </tbody>\n",
       "</table>\n",
       "</div>"
      ],
      "text/plain": [
       "   ID                           Title  Year  Age  IMDb Rotten Tomatoes  \\\n",
       "0   1                       Inception  2010  13+   8.8             87%   \n",
       "1   2                      The Matrix  1999  18+   8.7             87%   \n",
       "2   3          Avengers: Infinity War  2018  13+   8.5             84%   \n",
       "3   4              Back to the Future  1985   7+   8.5             96%   \n",
       "4   5  The Good, the Bad and the Ugly  1966  18+   8.8             97%   \n",
       "\n",
       "                        Directors                            Genres  \\\n",
       "0               Christopher Nolan  Action,Adventure,Sci-Fi,Thriller   \n",
       "1  Lana Wachowski,Lilly Wachowski                     Action,Sci-Fi   \n",
       "2         Anthony Russo,Joe Russo           Action,Adventure,Sci-Fi   \n",
       "3                 Robert Zemeckis           Adventure,Comedy,Sci-Fi   \n",
       "4                    Sergio Leone                           Western   \n",
       "\n",
       "                        Country                 Language  Runtime  Netflix  \\\n",
       "0  United States,United Kingdom  English,Japanese,French    148.0        0   \n",
       "1                 United States                  English    136.0        0   \n",
       "2                 United States                  English    149.0        0   \n",
       "3                 United States                  English    116.0        1   \n",
       "4      Italy,Spain,West Germany                  Italian    161.0        0   \n",
       "\n",
       "   Hulu  Prime Video  Disney+  \n",
       "0     0            1        0  \n",
       "1     1            0        0  \n",
       "2     0            1        0  \n",
       "3     0            0        0  \n",
       "4     0            1        0  "
      ]
     },
     "execution_count": 6,
     "metadata": {},
     "output_type": "execute_result"
    }
   ],
   "source": [
    "# Merge the two DataFrames.\n",
    "mov_ott = pd.merge(movies, ott, how='left', on = 'ID')\n",
    "\n",
    "# View the DataFrame.\n",
    "print(mov_ott.shape)\n",
    "mov_ott.head()"
   ]
  },
  {
   "cell_type": "markdown",
   "id": "947b6979",
   "metadata": {},
   "source": [
    "## 2. Create a boxplot"
   ]
  },
  {
   "cell_type": "code",
   "execution_count": 7,
   "id": "8759845a",
   "metadata": {},
   "outputs": [
    {
     "data": {
      "text/plain": [
       "<AxesSubplot:xlabel='Age', ylabel='IMDb'>"
      ]
     },
     "execution_count": 7,
     "metadata": {},
     "output_type": "execute_result"
    },
    {
     "data": {
      "image/png": "[encoded data removed]",
      "text/plain": [
       "<Figure size 640x480 with 1 Axes>"
      ]
     },
     "metadata": {},
     "output_type": "display_data"
    }
   ],
   "source": [
    "# Create boxplot with two variables (Age and IMDb).\n",
    "sns.boxplot(x='Age', y='IMDb', data=mov_ott)"
   ]
  },
  {
   "cell_type": "code",
   "execution_count": null,
   "id": "68be68c4",
   "metadata": {},
   "outputs": [],
   "source": []
  }
 ],
 "metadata": {
  "kernelspec": {
   "display_name": "Python 3 (ipykernel)",
   "language": "python",
   "name": "python3"
  },
  "language_info": {
   "codemirror_mode": {
    "name": "ipython",
    "version": 3
   },
   "file_extension": ".py",
   "mimetype": "text/x-python",
   "name": "python",
   "nbconvert_exporter": "python",
   "pygments_lexer": "ipython3",
   "version": "3.9.13"
  }
 },
 "nbformat": 4,
 "nbformat_minor": 5
}
