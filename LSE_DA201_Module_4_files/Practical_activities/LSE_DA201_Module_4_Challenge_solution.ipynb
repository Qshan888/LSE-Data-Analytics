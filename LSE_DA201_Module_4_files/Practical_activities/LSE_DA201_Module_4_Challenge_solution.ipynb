{
 "cells": [
  {
   "cell_type": "markdown",
   "metadata": {},
   "source": [
    "## LSE Career Accelerator\n",
    "# LSE Data Analysis Using Python"
   ]
  },
  {
   "cell_type": "markdown",
   "metadata": {},
   "source": [
    "## LSE DA201: Week 4 (optional) challenge activity"
   ]
  },
  {
   "cell_type": "markdown",
   "metadata": {},
   "source": [
    "In the previous challenge, you answered specific business problems related to the data sets, such as, 'What is the daily average price of gold and oil, and how do they compare?' This will assist investors to decide on the most stable entity to invest in. However, for this week, you will apply your Seaborn and Matplotlib knowledge to understand your data better and solve some specific problems for Investgenics. You will answer the following business questions:\n",
    "\n",
    "- What is the distribution of the data?\n",
    "- Which performed better in December 2015, gold or oil?\n",
    "- Are there any outliers in the opening value of both gold and oil?\n",
    "- What happened to gold and oil on the stock market during June 2016?"
   ]
  },
  {
   "cell_type": "markdown",
   "metadata": {},
   "source": [
    "## Prepare your workstation"
   ]
  },
  {
   "cell_type": "code",
   "execution_count": 1,
   "metadata": {},
   "outputs": [
    {
     "name": "stdout",
     "output_type": "stream",
     "text": [
      "(1844, 6)\n",
      "Date      object\n",
      "Price    float64\n",
      "Open     float64\n",
      "High     float64\n",
      "Low      float64\n",
      "Vol.      object\n",
      "dtype: object\n",
      "         Date   Price    Open    High     Low     Vol.\n",
      "0  2011-12-01  100.20  100.51  101.17   98.87  275.86K\n",
      "1  2011-12-02  100.96  100.00  101.56   99.76  245.92K\n",
      "2  2011-12-05  100.99  101.23  102.44  100.24  239.38K\n",
      "3  2011-12-06  101.28  100.45  101.42  100.20  217.03K\n",
      "4  2011-12-07  100.49  101.11  101.94   99.67  330.53K\n",
      "(1718, 81)\n",
      "Date              object\n",
      "Open             float64\n",
      "High             float64\n",
      "Low              float64\n",
      "Close            float64\n",
      "                  ...   \n",
      "USO_High         float64\n",
      "USO_Low          float64\n",
      "USO_Close        float64\n",
      "USO_Adj Close    float64\n",
      "USO_Volume         int64\n",
      "Length: 81, dtype: object\n",
      "         Date        Open        High         Low       Close   Adj Close  \\\n",
      "0  2011-12-15  154.740005  154.949997  151.710007  152.330002  152.330002   \n",
      "1  2011-12-16  154.309998  155.369995  153.899994  155.229996  155.229996   \n",
      "2  2011-12-19  155.479996  155.860001  154.360001  154.869995  154.869995   \n",
      "3  2011-12-20  156.820007  157.429993  156.580002  156.979996  156.979996   \n",
      "4  2011-12-21  156.979996  157.529999  156.130005  157.160004  157.160004   \n",
      "\n",
      "     Volume     SP_open     SP_high      SP_low  ...    GDX_Low  GDX_Close  \\\n",
      "0  21521900  123.029999  123.199997  121.989998  ...  51.570000  51.680000   \n",
      "1  18124300  122.230003  122.949997  121.300003  ...  52.040001  52.680000   \n",
      "2  12547200  122.059998  122.320000  120.029999  ...  51.029999  51.169998   \n",
      "3   9136300  122.180000  124.139999  120.370003  ...  52.369999  52.990002   \n",
      "4  11996100  123.930000  124.360001  122.750000  ...  52.419998  52.959999   \n",
      "\n",
      "   GDX_Adj Close  GDX_Volume   USO_Open   USO_High    USO_Low  USO_Close  \\\n",
      "0      48.973877    20605600  36.900002  36.939999  36.049999  36.130001   \n",
      "1      49.921513    16285400  36.180000  36.500000  35.730000  36.270000   \n",
      "2      48.490578    15120200  36.389999  36.450001  35.930000  36.200001   \n",
      "3      50.215282    11644900  37.299999  37.610001  37.220001  37.560001   \n",
      "4      50.186852     8724300  37.669998  38.240002  37.520000  38.110001   \n",
      "\n",
      "   USO_Adj Close  USO_Volume  \n",
      "0      36.130001    12616700  \n",
      "1      36.270000    12578800  \n",
      "2      36.200001     7418200  \n",
      "3      37.560001    10041600  \n",
      "4      38.110001    10728000  \n",
      "\n",
      "[5 rows x 81 columns]\n"
     ]
    }
   ],
   "source": [
    "# Prepare your workstation.\n",
    "# Import libararies.\n",
    "import pandas as pd\n",
    "import numpy as np\n",
    "import seaborn as sns\n",
    "import matplotlib.pyplot as plt\n",
    "\n",
    "# Import CSV files.\n",
    "oil = pd.read_csv('../Data/oil_price.csv')\n",
    "gold = pd.read_csv('../Data/gold_stocks_price.csv')\n",
    "\n",
    "# View the DataFrames.\n",
    "print(oil.shape)\n",
    "print(oil.dtypes)\n",
    "print(oil.head())\n",
    "\n",
    "print(gold.shape)\n",
    "print(gold.dtypes)\n",
    "print(gold.head())"
   ]
  },
  {
   "cell_type": "code",
   "execution_count": 2,
   "metadata": {},
   "outputs": [
    {
     "name": "stdout",
     "output_type": "stream",
     "text": [
      "(1718, 4)\n",
      "Date     object\n",
      "Open    float64\n",
      "High    float64\n",
      "Low     float64\n",
      "dtype: object\n",
      "         Date        Open        High         Low\n",
      "0  2011-12-15  154.740005  154.949997  151.710007\n",
      "1  2011-12-16  154.309998  155.369995  153.899994\n",
      "2  2011-12-19  155.479996  155.860001  154.360001\n",
      "3  2011-12-20  156.820007  157.429993  156.580002\n",
      "4  2011-12-21  156.979996  157.529999  156.130005\n"
     ]
    }
   ],
   "source": [
    "# Subset gold DataFrame.\n",
    "gold_plot = gold[['Date', 'Open', 'High', 'Low']]\n",
    "\n",
    "# View gold_subset.\n",
    "print(gold_plot.shape)\n",
    "print(gold_plot.dtypes)\n",
    "print(gold_plot.head())"
   ]
  },
  {
   "cell_type": "code",
   "execution_count": 3,
   "metadata": {},
   "outputs": [
    {
     "name": "stdout",
     "output_type": "stream",
     "text": [
      "Index(['Date', 'Open', 'High', 'Low'], dtype='object')\n",
      "Date     object\n",
      "Open    float64\n",
      "High    float64\n",
      "Low     float64\n",
      "dtype: object\n",
      "         Date    Open    High     Low\n",
      "0  2011-12-01  100.51  101.17   98.87\n",
      "1  2011-12-02  100.00  101.56   99.76\n",
      "2  2011-12-05  101.23  102.44  100.24\n",
      "3  2011-12-06  100.45  101.42  100.20\n",
      "4  2011-12-07  101.11  101.94   99.67\n"
     ]
    }
   ],
   "source": [
    "# Select only relevant index to work with.\n",
    "oil_plot = oil[['Date', 'Open', 'High', 'Low']]\n",
    "\n",
    "# View DataFrames.\n",
    "print(oil_plot.columns)\n",
    "print(oil_plot.dtypes)\n",
    "print(oil_plot.head())"
   ]
  },
  {
   "cell_type": "code",
   "execution_count": 4,
   "metadata": {},
   "outputs": [
    {
     "name": "stdout",
     "output_type": "stream",
     "text": [
      "Date    datetime64[ns]\n",
      "Open           float64\n",
      "High           float64\n",
      "Low            float64\n",
      "dtype: object\n",
      "        Date        Open        High         Low\n",
      "0 2011-12-15  154.740005  154.949997  151.710007\n",
      "1 2011-12-16  154.309998  155.369995  153.899994\n",
      "2 2011-12-19  155.479996  155.860001  154.360001\n",
      "3 2011-12-20  156.820007  157.429993  156.580002\n",
      "4 2011-12-21  156.979996  157.529999  156.130005\n",
      "Date    datetime64[ns]\n",
      "Open           float64\n",
      "High           float64\n",
      "Low            float64\n",
      "dtype: object\n",
      "        Date    Open    High     Low\n",
      "0 2011-12-01  100.51  101.17   98.87\n",
      "1 2011-12-02  100.00  101.56   99.76\n",
      "2 2011-12-05  101.23  102.44  100.24\n",
      "3 2011-12-06  100.45  101.42  100.20\n",
      "4 2011-12-07  101.11  101.94   99.67\n"
     ]
    },
    {
     "name": "stderr",
     "output_type": "stream",
     "text": [
      "/var/folders/2y/jw_fvb1s0nncctnyn9dc159w0000gn/T/ipykernel_19216/1406549554.py:5: SettingWithCopyWarning: \n",
      "A value is trying to be set on a copy of a slice from a DataFrame.\n",
      "Try using .loc[row_indexer,col_indexer] = value instead\n",
      "\n",
      "See the caveats in the documentation: https://pandas.pydata.org/pandas-docs/stable/user_guide/indexing.html#returning-a-view-versus-a-copy\n",
      "  gold_plot['Date'] = pd.to_datetime(gold_plot['Date'])\n",
      "/var/folders/2y/jw_fvb1s0nncctnyn9dc159w0000gn/T/ipykernel_19216/1406549554.py:6: SettingWithCopyWarning: \n",
      "A value is trying to be set on a copy of a slice from a DataFrame.\n",
      "Try using .loc[row_indexer,col_indexer] = value instead\n",
      "\n",
      "See the caveats in the documentation: https://pandas.pydata.org/pandas-docs/stable/user_guide/indexing.html#returning-a-view-versus-a-copy\n",
      "  oil_plot['Date'] = pd.to_datetime(oil_plot['Date'])\n"
     ]
    }
   ],
   "source": [
    "# Import the DateTime module.\n",
    "import datetime\n",
    "\n",
    "# Change the Data column to date type. \n",
    "gold_plot['Date'] = pd.to_datetime(gold_plot['Date'])\n",
    "oil_plot['Date'] = pd.to_datetime(oil_plot['Date'])\n",
    "\n",
    "# Check data types of two DataFrames.\n",
    "print(gold_plot.dtypes)\n",
    "print(gold_plot.head())\n",
    "print(oil_plot.dtypes)\n",
    "print(oil_plot.head())"
   ]
  },
  {
   "cell_type": "markdown",
   "metadata": {},
   "source": [
    "# "
   ]
  },
  {
   "cell_type": "markdown",
   "metadata": {},
   "source": [
    "# Question 1: What is the distribution of the data?"
   ]
  },
  {
   "cell_type": "code",
   "execution_count": 5,
   "metadata": {},
   "outputs": [
    {
     "data": {
      "image/png": "[encoded data removed]",
      "text/plain": [
       "<Figure size 600x600 with 12 Axes>"
      ]
     },
     "metadata": {},
     "output_type": "display_data"
    }
   ],
   "source": [
    "# Plot pairplot for gold subset with KDE.\n",
    "sns.pairplot(gold_plot, diag_kind='kde', height=2);"
   ]
  },
  {
   "cell_type": "code",
   "execution_count": 7,
   "metadata": {},
   "outputs": [],
   "source": [
    "# Plot pairplot for oil subset with KDE.\n",
    "sns.pairplot(oil_plot, diag_kind='kde', height=2);"
   ]
  },
  {
   "cell_type": "markdown",
   "metadata": {},
   "source": [
    "# "
   ]
  },
  {
   "cell_type": "markdown",
   "metadata": {},
   "source": [
    "# Question 2: Which performed better in December 2015, gold or oil?"
   ]
  },
  {
   "cell_type": "code",
   "execution_count": 8,
   "metadata": {},
   "outputs": [
    {
     "name": "stdout",
     "output_type": "stream",
     "text": [
      "          Date        Open        High         Low\n",
      "953 2015-12-02  101.349998  101.349998  100.529999\n",
      "954 2015-12-03  101.230003  101.970001  100.849998\n",
      "955 2015-12-04  102.739998  104.209999  102.650002\n",
      "956 2015-12-07  103.320000  103.370003  102.500000\n",
      "957 2015-12-08  103.129997  103.260002  102.529999\n",
      "           Date   Open   High    Low\n",
      "1032 2015-12-02  41.69  41.97  39.84\n",
      "1033 2015-12-03  40.15  41.78  40.07\n",
      "1034 2015-12-04  41.31  42.00  39.60\n",
      "1035 2015-12-07  40.10  40.15  37.50\n",
      "1036 2015-12-08  37.68  38.58  36.64\n"
     ]
    }
   ],
   "source": [
    "# Filter the two data sets between the specified dates, and save them as filtered_gold_df and filtered_oil_df. \n",
    "filtered_gold = gold_plot[(gold_plot['Date'] >'2015-12-01') & (gold_plot['Date'] < '2015-12-31')]\n",
    "filtered_oil = oil_plot[(oil_plot['Date'] >'2015-12-01') & (oil_plot['Date'] < '2015-12-31')]\n",
    "\n",
    "print(filtered_gold.head())\n",
    "print(filtered_oil.head())"
   ]
  },
  {
   "cell_type": "code",
   "execution_count": 9,
   "metadata": {},
   "outputs": [
    {
     "data": {
      "text/plain": [
       "<AxesSubplot:xlabel='High', ylabel='Date'>"
      ]
     },
     "execution_count": 9,
     "metadata": {},
     "output_type": "execute_result"
    }
   ],
   "source": [
    "# Plots for gold.\n",
    "# Specify plot size.\n",
    "plt.figure(figsize=(20, 6))\n",
    "\n",
    "# Create barplot.\n",
    "sns.barplot(x='High', y='Date', data=filtered_gold)"
   ]
  },
  {
   "cell_type": "code",
   "execution_count": 10,
   "metadata": {},
   "outputs": [
    {
     "data": {
      "text/plain": [
       "<AxesSubplot:xlabel='High', ylabel='Date'>"
      ]
     },
     "execution_count": 10,
     "metadata": {},
     "output_type": "execute_result"
    }
   ],
   "source": [
    "# Plots for oil.\n",
    "# Specify plot size.\n",
    "plt.figure(figsize=(20, 6))\n",
    "\n",
    "# Create barplot.\n",
    "sns.barplot(x='High', y='Date', data=filtered_oil)"
   ]
  },
  {
   "cell_type": "markdown",
   "metadata": {},
   "source": [
    "# "
   ]
  },
  {
   "cell_type": "markdown",
   "metadata": {},
   "source": [
    "# Question 3: Are there any outliers in the opening value of both gold and oil?"
   ]
  },
  {
   "cell_type": "code",
   "execution_count": 11,
   "metadata": {},
   "outputs": [],
   "source": [
    "# Plot gold.\n",
    "# Fig size modification. \n",
    "plt.figure(figsize=(8, 6))\n",
    "plt.title(\"Opening Value: Gold\")\n",
    "\n",
    "sns.boxplot(x=gold_plot['Open']);"
   ]
  },
  {
   "cell_type": "code",
   "execution_count": 12,
   "metadata": {},
   "outputs": [
    {
     "data": {
      "text/plain": [
       "<AxesSubplot:title={'center':'Opening Value: Oil'}, xlabel='Open'>"
      ]
     },
     "execution_count": 12,
     "metadata": {},
     "output_type": "execute_result"
    }
   ],
   "source": [
    "# Plot oil.\n",
    "# Fig size modification. \n",
    "plt.figure(figsize=(8, 6))\n",
    "plt.title(\"Opening Value: Oil\")\n",
    "\n",
    "sns.boxplot(x=oil_plot['Open'])"
   ]
  },
  {
   "cell_type": "code",
   "execution_count": 13,
   "metadata": {},
   "outputs": [
    {
     "data": {
      "text/plain": [
       "<AxesSubplot:title={'center':'Opening Value: Gold'}, xlabel='Open', ylabel='Count'>"
      ]
     },
     "execution_count": 13,
     "metadata": {},
     "output_type": "execute_result"
    }
   ],
   "source": [
    "# Plot gold.\n",
    "# Fig size modification. \n",
    "plt.figure(figsize=(8, 6))\n",
    "plt.title(\"Opening Value: Gold\")\n",
    "\n",
    "sns.histplot(x=gold_plot['Open'], bins=20)"
   ]
  },
  {
   "cell_type": "code",
   "execution_count": 14,
   "metadata": {},
   "outputs": [
    {
     "data": {
      "text/plain": [
       "<AxesSubplot:title={'center':'Opening Value: Oil'}, xlabel='Open', ylabel='Count'>"
      ]
     },
     "execution_count": 14,
     "metadata": {},
     "output_type": "execute_result"
    }
   ],
   "source": [
    "# Plot oil.\n",
    "# Fig size modification. \n",
    "plt.figure(figsize=(8, 6))\n",
    "plt.title(\"Opening Value: Oil\")\n",
    "\n",
    "sns.histplot(x=oil_plot['Open'], bins=20)"
   ]
  },
  {
   "cell_type": "markdown",
   "metadata": {},
   "source": [
    "# "
   ]
  },
  {
   "cell_type": "markdown",
   "metadata": {},
   "source": [
    "# Question 4: What happened to gold and oil on the stock market during June 2016?"
   ]
  },
  {
   "cell_type": "code",
   "execution_count": 15,
   "metadata": {},
   "outputs": [],
   "source": [
    "# Plot a lineplot for High and Low for both the oil and gold subsets for the month of June 2016.\n",
    "plt.figure(figsize = (12, 6))\n",
    "\n",
    "filtered_gold = gold_plot[(gold_plot['Date'] >'2016-06-01') & (gold_plot['Date'] < '2016-06-30')]\n",
    "\n",
    "sns.lineplot(data=filtered_gold, x='High', y='Date');"
   ]
  },
  {
   "cell_type": "code",
   "execution_count": 16,
   "metadata": {},
   "outputs": [
    {
     "data": {
      "text/plain": [
       "<AxesSubplot:xlabel='High', ylabel='Date'>"
      ]
     },
     "execution_count": 16,
     "metadata": {},
     "output_type": "execute_result"
    }
   ],
   "source": [
    "plt.figure(figsize = (12,6))\n",
    "filtered_oil = oil_plot[(oil_plot['Date'] >'2016-06-01') & (oil_plot['Date'] < '2016-06-30')]\n",
    "\n",
    "sns.lineplot(data=filtered_oil, x='High', y='Date')"
   ]
  },
  {
   "cell_type": "code",
   "execution_count": 17,
   "metadata": {},
   "outputs": [],
   "source": [
    "# Customise plots.\n",
    "filtered_gold = gold_plot[(gold_plot['Date'] >'2016-06-01') & (gold_plot['Date'] < '2016-06-30')]\n",
    "\n",
    "g = sns.relplot(data=filtered_gold, x='High', y='Date')\n",
    "\n",
    "g.set_axis_labels(\"High\", \"Date\")\n",
    "g.fig.suptitle(\"High Value: Gold (June 2016)\", y=1.02, fontsize=16);"
   ]
  },
  {
   "cell_type": "code",
   "execution_count": 18,
   "metadata": {},
   "outputs": [],
   "source": [
    "filtered_oil = oil_plot[(oil_plot['Date'] >'2016-06-01') & (oil_plot['Date'] < '2016-06-30')]\n",
    "\n",
    "g = sns.relplot(data=filtered_oil, x='High', y='Date')\n",
    "\n",
    "g.set_axis_labels(\"High\", \"Date\")\n",
    "g.fig.suptitle(\"High Value: Oil (June 2016)\", y=1.02, fontsize=16);"
   ]
  },
  {
   "cell_type": "code",
   "execution_count": null,
   "metadata": {},
   "outputs": [],
   "source": []
  }
 ],
 "metadata": {
  "colab": {
   "collapsed_sections": [
    "PBAPYdEhzReC",
    "tdWfO9PCzReE",
    "OM7t_eNrzReG",
    "cfMzjT6pzReH",
    "CZTyPHzDzReI",
    "s2iD065TzReJ",
    "SnNshKt5zReJ",
    "V7xUeiKrzReK",
    "zOXKimZ4zReL",
    "SvZTnBmyzReQ",
    "Y2YLj6FrzReR",
    "ECePc8y8zReS",
    "Fh4M8-k0zReT",
    "5JAcRKy6zReT",
    "UT5_bQnrzReU",
    "RF9QNsh4zReU",
    "usVV5r2gzReU",
    "J07Z9Ea0zReV",
    "DN4NKUMazReV",
    "pBLwItT3zReW"
   ],
   "name": "Activities for Week 4(continued from week 2 and 3 activity).ipynb",
   "provenance": []
  },
  "kernelspec": {
   "display_name": "Python 3 (ipykernel)",
   "language": "python",
   "name": "python3"
  },
  "language_info": {
   "codemirror_mode": {
    "name": "ipython",
    "version": 3
   },
   "file_extension": ".py",
   "mimetype": "text/x-python",
   "name": "python",
   "nbconvert_exporter": "python",
   "pygments_lexer": "ipython3",
   "version": "3.9.13"
  },
  "toc": {
   "base_numbering": 1,
   "nav_menu": {},
   "number_sections": false,
   "sideBar": true,
   "skip_h1_title": false,
   "title_cell": "Table of Contents",
   "title_sidebar": "Contents",
   "toc_cell": false,
   "toc_position": {},
   "toc_section_display": true,
   "toc_window_display": false
  }
 },
 "nbformat": 4,
 "nbformat_minor": 4
}
