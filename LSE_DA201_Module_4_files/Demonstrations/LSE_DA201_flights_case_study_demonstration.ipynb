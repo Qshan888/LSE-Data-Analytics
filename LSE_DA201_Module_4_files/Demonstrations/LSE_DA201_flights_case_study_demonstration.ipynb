{
 "cells": [
  {
   "cell_type": "markdown",
   "id": "e132e079",
   "metadata": {},
   "source": [
    "### LSE Data Analytics Online Career Accelerator\n",
    "\n",
    "# DA201: Data Analytics Using Python"
   ]
  },
  {
   "cell_type": "markdown",
   "id": "31780029",
   "metadata": {},
   "source": [
    "## Demonstration: Flights case study"
   ]
  },
  {
   "cell_type": "markdown",
   "id": "ad3971f0",
   "metadata": {},
   "source": [
    "The flights case study is a practice data set of passenger information over a decade of flight data.\n",
    "\n",
    "Let's explore more!\n",
    "\n",
    "This Notebook is used in 4.2.6 Highlighting and adding annotations."
   ]
  },
  {
   "cell_type": "markdown",
   "id": "5ff037b8",
   "metadata": {},
   "source": [
    "### 1. Prepare your workstation"
   ]
  },
  {
   "cell_type": "code",
   "execution_count": null,
   "id": "d34514d9",
   "metadata": {},
   "outputs": [],
   "source": [
    "# Import libraries.\n",
    "import seaborn as sns\n",
    "import pandas as pd\n",
    "import matplotlib.pyplot as plt\n",
    "\n",
    "# Read file.\n",
    "flights = pd.read_csv('flights.csv')\n",
    "\n",
    "# View the DataFrame.\n",
    "flights.shape"
   ]
  },
  {
   "cell_type": "markdown",
   "id": "f70f2d04",
   "metadata": {},
   "source": [
    "### 2. Create a barplot"
   ]
  },
  {
   "cell_type": "code",
   "execution_count": null,
   "id": "be825076",
   "metadata": {},
   "outputs": [],
   "source": []
  },
  {
   "cell_type": "code",
   "execution_count": null,
   "id": "5d09a4e1",
   "metadata": {},
   "outputs": [],
   "source": []
  },
  {
   "cell_type": "code",
   "execution_count": null,
   "id": "f822a6b1",
   "metadata": {},
   "outputs": [],
   "source": []
  },
  {
   "cell_type": "markdown",
   "id": "107373b2",
   "metadata": {},
   "source": [
    "### 3. Create a lineplot"
   ]
  },
  {
   "cell_type": "code",
   "execution_count": null,
   "id": "a1ddceb7",
   "metadata": {},
   "outputs": [],
   "source": []
  },
  {
   "cell_type": "code",
   "execution_count": null,
   "id": "dec0541f",
   "metadata": {},
   "outputs": [],
   "source": []
  },
  {
   "cell_type": "code",
   "execution_count": null,
   "id": "0d71cc5a",
   "metadata": {},
   "outputs": [],
   "source": []
  },
  {
   "cell_type": "markdown",
   "id": "dc96389f",
   "metadata": {},
   "source": [
    "### 4. Highlighting multiple bars in a barplot"
   ]
  },
  {
   "cell_type": "code",
   "execution_count": null,
   "id": "072b4186",
   "metadata": {},
   "outputs": [],
   "source": []
  },
  {
   "cell_type": "code",
   "execution_count": null,
   "id": "c799c4bd",
   "metadata": {},
   "outputs": [],
   "source": []
  },
  {
   "cell_type": "code",
   "execution_count": null,
   "id": "da4d1e81",
   "metadata": {},
   "outputs": [],
   "source": []
  },
  {
   "cell_type": "code",
   "execution_count": null,
   "id": "b8625484",
   "metadata": {},
   "outputs": [],
   "source": []
  },
  {
   "cell_type": "markdown",
   "id": "e4407387",
   "metadata": {},
   "source": [
    "### 5. Add text annotation: Create the barplot"
   ]
  },
  {
   "cell_type": "code",
   "execution_count": null,
   "id": "ef63ddc6",
   "metadata": {},
   "outputs": [],
   "source": []
  },
  {
   "cell_type": "code",
   "execution_count": null,
   "id": "2889ad0f",
   "metadata": {},
   "outputs": [],
   "source": []
  },
  {
   "cell_type": "code",
   "execution_count": null,
   "id": "01fbcccc",
   "metadata": {},
   "outputs": [],
   "source": []
  },
  {
   "cell_type": "code",
   "execution_count": null,
   "id": "f86a4e3c",
   "metadata": {},
   "outputs": [],
   "source": []
  },
  {
   "cell_type": "markdown",
   "id": "9ea10122",
   "metadata": {},
   "source": [
    "### 6. Add text annotation: Add a shape to the chart"
   ]
  },
  {
   "cell_type": "code",
   "execution_count": null,
   "id": "94642eb5",
   "metadata": {},
   "outputs": [],
   "source": []
  },
  {
   "cell_type": "code",
   "execution_count": null,
   "id": "e2323951",
   "metadata": {},
   "outputs": [],
   "source": []
  },
  {
   "cell_type": "code",
   "execution_count": null,
   "id": "c95b3a14",
   "metadata": {},
   "outputs": [],
   "source": []
  }
 ],
 "metadata": {
  "kernelspec": {
   "display_name": "Python 3 (ipykernel)",
   "language": "python",
   "name": "python3"
  },
  "language_info": {
   "codemirror_mode": {
    "name": "ipython",
    "version": 3
   },
   "file_extension": ".py",
   "mimetype": "text/x-python",
   "name": "python",
   "nbconvert_exporter": "python",
   "pygments_lexer": "ipython3",
   "version": "3.9.7"
  }
 },
 "nbformat": 4,
 "nbformat_minor": 5
}
