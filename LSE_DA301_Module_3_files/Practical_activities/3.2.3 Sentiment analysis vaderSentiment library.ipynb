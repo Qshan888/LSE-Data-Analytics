{
 "cells": [
  {
   "cell_type": "code",
   "execution_count": 1,
   "id": "ce65c2fd",
   "metadata": {},
   "outputs": [
    {
     "name": "stdout",
     "output_type": "stream",
     "text": [
      "Requirement already satisfied: vaderSentiment in /Users/codyshan/opt/anaconda3/lib/python3.9/site-packages (3.3.2)\r\n",
      "Requirement already satisfied: requests in /Users/codyshan/opt/anaconda3/lib/python3.9/site-packages (from vaderSentiment) (2.28.1)\r\n",
      "Requirement already satisfied: charset-normalizer<3,>=2 in /Users/codyshan/opt/anaconda3/lib/python3.9/site-packages (from requests->vaderSentiment) (2.0.4)\r\n",
      "Requirement already satisfied: idna<4,>=2.5 in /Users/codyshan/opt/anaconda3/lib/python3.9/site-packages (from requests->vaderSentiment) (3.3)\r\n",
      "Requirement already satisfied: urllib3<1.27,>=1.21.1 in /Users/codyshan/opt/anaconda3/lib/python3.9/site-packages (from requests->vaderSentiment) (1.26.11)\r\n",
      "Requirement already satisfied: certifi>=2017.4.17 in /Users/codyshan/opt/anaconda3/lib/python3.9/site-packages (from requests->vaderSentiment) (2022.9.24)\r\n"
     ]
    }
   ],
   "source": [
    "# Install vaderSentiment tool.\n",
    "!pip install vaderSentiment\n",
    "\n",
    "# Import the necessary class.\n",
    "from vaderSentiment.vaderSentiment import SentimentIntensityAnalyzer\n",
    "\n",
    "# Create an object from the class.\n",
    "sia = SentimentIntensityAnalyzer()"
   ]
  },
  {
   "cell_type": "code",
   "execution_count": 2,
   "id": "98e80ab1",
   "metadata": {},
   "outputs": [],
   "source": [
    "# Define the input data.\n",
    "sentences = [\n",
    " \"Excellent customer service. Also loved the amazing showroom where you can get a real feel of the top quality furniture and get inspiration for room designs.\",\n",
    " \"I found the sales person to be quite rude and stuck up... don't think she realised I know all the suppliers she uses. I got the sofa & chair elsewhere. I will not be coming back.\",\n",
    " \"Thank you for finding replacement crystals for my chandelier.\",\n",
    " \"I have worked with the team in several houses. All work was carried out on time and to budget.\"]"
   ]
  },
  {
   "cell_type": "code",
   "execution_count": 7,
   "id": "271224b7",
   "metadata": {},
   "outputs": [
    {
     "name": "stdout",
     "output_type": "stream",
     "text": [
      "0.9485\n",
      "The sentiment value of the sentence :\"Excellent customer service. Also loved the amazing showroom where you can get a real feel of the top quality furniture and get inspiration for room designs.\" is : 0.9485\n",
      "====================================================================================================\n",
      "-0.6764\n",
      "The sentiment value of the sentence :\"I found the sales person to be quite rude and stuck up... don't think she realised I know all the suppliers she uses. I got the sofa & chair elsewhere. I will not be coming back.\" is : -0.6764\n",
      "====================================================================================================\n",
      "0.3612\n",
      "The sentiment value of the sentence :\"Thank you for finding replacement crystals for my chandelier.\" is : 0.3612\n",
      "====================================================================================================\n",
      "0.0\n",
      "The sentiment value of the sentence :\"I have worked with the team in several houses. All work was carried out on time and to budget.\" is : 0.0\n",
      "====================================================================================================\n"
     ]
    }
   ],
   "source": [
    "# Apply sentiment analysis.\n",
    "for sentence in sentences:\n",
    " score = sia.polarity_scores(sentence)['compound']\n",
    " print(score)\n",
    " print(f'The sentiment value of the sentence :\"{sentence}\" is : {score}')\n",
    " # If you insert this line of code, you will have a line break between the outputs.\n",
    " print(\"=\"*100)"
   ]
  },
  {
   "cell_type": "code",
   "execution_count": 8,
   "id": "69153b9f",
   "metadata": {},
   "outputs": [
    {
     "name": "stdout",
     "output_type": "stream",
     "text": [
      "For the sentence \"Excellent customer service. Also loved the amazing showroom where you can get a real feel of the top quality furniture and get inspiration for room designs.\"\n",
      "The percentage of positive sentiment in :\"Excellent customer service. Also loved the amazing showroom where you can get a real feel of the top quality furniture and get inspiration for room designs.\" is : 44.1 %\n",
      "The percentage of neutral sentiment in :\"Excellent customer service. Also loved the amazing showroom where you can get a real feel of the top quality furniture and get inspiration for room designs.\" is : 55.9 %\n",
      "The percentage of negative sentiment in :\"Excellent customer service. Also loved the amazing showroom where you can get a real feel of the top quality furniture and get inspiration for room designs.\" is : 0.0 %\n",
      "==================================================\n",
      "For the sentence \"I found the sales person to be quite rude and stuck up... don't think she realised I know all the suppliers she uses. I got the sofa & chair elsewhere. I will not be coming back.\"\n",
      "The percentage of positive sentiment in :\"I found the sales person to be quite rude and stuck up... don't think she realised I know all the suppliers she uses. I got the sofa & chair elsewhere. I will not be coming back.\" is : 0.0 %\n",
      "The percentage of neutral sentiment in :\"I found the sales person to be quite rude and stuck up... don't think she realised I know all the suppliers she uses. I got the sofa & chair elsewhere. I will not be coming back.\" is : 86.0 %\n",
      "The percentage of negative sentiment in :\"I found the sales person to be quite rude and stuck up... don't think she realised I know all the suppliers she uses. I got the sofa & chair elsewhere. I will not be coming back.\" is : 14.0 %\n",
      "==================================================\n",
      "For the sentence \"Thank you for finding replacement crystals for my chandelier.\"\n",
      "The percentage of positive sentiment in :\"Thank you for finding replacement crystals for my chandelier.\" is : 23.8 %\n",
      "The percentage of neutral sentiment in :\"Thank you for finding replacement crystals for my chandelier.\" is : 76.2 %\n",
      "The percentage of negative sentiment in :\"Thank you for finding replacement crystals for my chandelier.\" is : 0.0 %\n",
      "==================================================\n",
      "For the sentence \"I have worked with the team in several houses. All work was carried out on time and to budget.\"\n",
      "The percentage of positive sentiment in :\"I have worked with the team in several houses. All work was carried out on time and to budget.\" is : 0.0 %\n",
      "The percentage of neutral sentiment in :\"I have worked with the team in several houses. All work was carried out on time and to budget.\" is : 100.0 %\n",
      "The percentage of negative sentiment in :\"I have worked with the team in several houses. All work was carried out on time and to budget.\" is : 0.0 %\n",
      "==================================================\n"
     ]
    }
   ],
   "source": [
    "# Calculate the percentage of the output.\n",
    "for sentence in sentences:\n",
    " print(f'For the sentence \"{sentence}\"')\n",
    " # Calculate the scores.\n",
    " polarity = sia.polarity_scores(sentence)\n",
    " pos = polarity['pos']\n",
    " neu = polarity['neu']\n",
    " neg = polarity['neg']\n",
    " \n",
    " # Display the scores.\n",
    " print(f'The percentage of positive sentiment in :\"{sentence}\" is : {round(pos*100,2)} %')\n",
    " print(f'The percentage of neutral sentiment in :\"{sentence}\" is : {round(neu*100,2)} %')\n",
    " print(f'The percentage of negative sentiment in :\"{sentence}\" is : {round(neg*100,2)} %')\n",
    " print(\"=\"*50)"
   ]
  },
  {
   "cell_type": "code",
   "execution_count": null,
   "id": "c34d570c",
   "metadata": {},
   "outputs": [],
   "source": []
  }
 ],
 "metadata": {
  "kernelspec": {
   "display_name": "Python 3 (ipykernel)",
   "language": "python",
   "name": "python3"
  },
  "language_info": {
   "codemirror_mode": {
    "name": "ipython",
    "version": 3
   },
   "file_extension": ".py",
   "mimetype": "text/x-python",
   "name": "python",
   "nbconvert_exporter": "python",
   "pygments_lexer": "ipython3",
   "version": "3.9.13"
  }
 },
 "nbformat": 4,
 "nbformat_minor": 5
}
