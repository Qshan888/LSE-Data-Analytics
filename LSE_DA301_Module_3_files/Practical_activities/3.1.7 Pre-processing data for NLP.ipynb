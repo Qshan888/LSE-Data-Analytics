{
 "cells": [
  {
   "cell_type": "code",
   "execution_count": 5,
   "id": "21dcf780",
   "metadata": {},
   "outputs": [
    {
     "name": "stdout",
     "output_type": "stream",
     "text": [
      "Requirement already satisfied: nltk in /Users/codyshan/opt/anaconda3/lib/python3.9/site-packages (3.7)\n",
      "Requirement already satisfied: click in /Users/codyshan/opt/anaconda3/lib/python3.9/site-packages (from nltk) (8.0.4)\n",
      "Requirement already satisfied: joblib in /Users/codyshan/opt/anaconda3/lib/python3.9/site-packages (from nltk) (1.1.0)\n",
      "Requirement already satisfied: regex>=2021.8.3 in /Users/codyshan/opt/anaconda3/lib/python3.9/site-packages (from nltk) (2022.7.9)\n",
      "Requirement already satisfied: tqdm in /Users/codyshan/opt/anaconda3/lib/python3.9/site-packages (from nltk) (4.64.1)\n"
     ]
    }
   ],
   "source": [
    "# Install NLTK.\n",
    "!pip install nltk"
   ]
  },
  {
   "cell_type": "code",
   "execution_count": 2,
   "id": "e9323ecc",
   "metadata": {},
   "outputs": [
    {
     "name": "stdout",
     "output_type": "stream",
     "text": [
      "Requirement already satisfied: pip in /Users/codyshan/opt/anaconda3/lib/python3.9/site-packages (23.0.1)\n",
      "Collecting pip\n",
      "  Downloading pip-23.2.1-py3-none-any.whl (2.1 MB)\n",
      "\u001b[2K     \u001b[90m━━━━━━━━━━━━━━━━━━━━━━━━━━━━━━━━━━━━━━━━\u001b[0m \u001b[32m2.1/2.1 MB\u001b[0m \u001b[31m30.0 MB/s\u001b[0m eta \u001b[36m0:00:00\u001b[0ma \u001b[36m0:00:01\u001b[0m\n",
      "\u001b[?25hInstalling collected packages: pip\n",
      "  Attempting uninstall: pip\n",
      "    Found existing installation: pip 23.0.1\n",
      "    Uninstalling pip-23.0.1:\n",
      "      Successfully uninstalled pip-23.0.1\n",
      "Successfully installed pip-23.2.1\n",
      "Note: you may need to restart the kernel to use updated packages.\n"
     ]
    }
   ],
   "source": [
    "pip install --upgrade pip"
   ]
  },
  {
   "cell_type": "code",
   "execution_count": 6,
   "id": "a93fe78e",
   "metadata": {},
   "outputs": [
    {
     "name": "stderr",
     "output_type": "stream",
     "text": [
      "[nltk_data] Downloading package punkt to /Users/codyshan/nltk_data...\n",
      "[nltk_data]   Package punkt is already up-to-date!\n"
     ]
    }
   ],
   "source": [
    "# Import the library.\n",
    "import nltk\n",
    "\n",
    "# Install the required tokenisation model.\n",
    "nltk.download('punkt')\n",
    "\n",
    "# Install the required tokenisation function.\n",
    "from nltk.tokenize import sent_tokenize"
   ]
  },
  {
   "cell_type": "code",
   "execution_count": 7,
   "id": "b997065d",
   "metadata": {},
   "outputs": [
    {
     "name": "stdout",
     "output_type": "stream",
     "text": [
      "['We took this ball to the beach and after close to 2 hours to pump it up, we pushed it around for about 10 fun filled minutes.', 'That was when the wind picked it up and sent it huddling down the beach at about 40 knots.', 'It destroyed everything in its path.', 'Children screamed in terror at the giant inflatable monster that crushed their sand castles.', 'Grown men were knocked down trying to save their families.', 'The faster we chased it, the faster it rolled.', 'It was like it was mocking us.', 'Eventually, we had to stop running after it because its path of injury and destruction was going to cost us a fortune in legal fees.', 'Rumor has it that it can still be seen stalking innocent families on the Florida panhandle.', 'We lost it in South Carolina, so there is something to be said about its durability.']\n"
     ]
    }
   ],
   "source": [
    "# Assign the raw text data to a variable.\n",
    "text = \"\"\"We took this ball to the beach and after close to 2 hours to pump it up, we pushed it around for about 10 fun filled minutes. That was when the wind picked it up and sent it huddling down the beach at about 40 knots. It destroyed everything in its path. Children screamed in terror at the giant inflatable monster that crushed their sand castles. Grown men were knocked down trying to save their families. The faster we chased it, the faster it rolled. It was like it was mocking us. Eventually, we had to stop running after it because its path of injury and destruction was going to cost us a fortune in legal fees. Rumor has it that it can still be seen stalking innocent families on the Florida panhandle. We lost it in South Carolina, so there is something to be said about its durability.\"\"\"\n",
    "\n",
    "# Tokenise the text data.\n",
    "tokenised_sentence = sent_tokenize(text)\n",
    "\n",
    "# Check the result.\n",
    "print(tokenised_sentence)"
   ]
  },
  {
   "cell_type": "code",
   "execution_count": 8,
   "id": "744fe321",
   "metadata": {},
   "outputs": [
    {
     "name": "stdout",
     "output_type": "stream",
     "text": [
      "['We', 'took', 'this', 'ball', 'to', 'the', 'beach', 'and', 'after', 'close', 'to', '2', 'hours', 'to', 'pump', 'it', 'up', ',', 'we', 'pushed', 'it', 'around', 'for', 'about', '10', 'fun', 'filled', 'minutes', '.', 'That', 'was', 'when', 'the', 'wind', 'picked', 'it', 'up', 'and', 'sent', 'it', 'huddling', 'down', 'the', 'beach', 'at', 'about', '40', 'knots', '.', 'It', 'destroyed', 'everything', 'in', 'its', 'path', '.', 'Children', 'screamed', 'in', 'terror', 'at', 'the', 'giant', 'inflatable', 'monster', 'that', 'crushed', 'their', 'sand', 'castles', '.', 'Grown', 'men', 'were', 'knocked', 'down', 'trying', 'to', 'save', 'their', 'families', '.', 'The', 'faster', 'we', 'chased', 'it', ',', 'the', 'faster', 'it', 'rolled', '.', 'It', 'was', 'like', 'it', 'was', 'mocking', 'us', '.', 'Eventually', ',', 'we', 'had', 'to', 'stop', 'running', 'after', 'it', 'because', 'its', 'path', 'of', 'injury', 'and', 'destruction', 'was', 'going', 'to', 'cost', 'us', 'a', 'fortune', 'in', 'legal', 'fees', '.', 'Rumor', 'has', 'it', 'that', 'it', 'can', 'still', 'be', 'seen', 'stalking', 'innocent', 'families', 'on', 'the', 'Florida', 'panhandle', '.', 'We', 'lost', 'it', 'in', 'South', 'Carolina', ',', 'so', 'there', 'is', 'something', 'to', 'be', 'said', 'about', 'its', 'durability', '.']\n"
     ]
    }
   ],
   "source": [
    "# Import the function.\n",
    "from nltk.tokenize import word_tokenize\n",
    "\n",
    "# Tokenise the text data.\n",
    "tokenised_word = word_tokenize(text)\n",
    "\n",
    "# Check the result.\n",
    "print(tokenised_word)"
   ]
  },
  {
   "cell_type": "code",
   "execution_count": 9,
   "id": "da5e7945",
   "metadata": {},
   "outputs": [
    {
     "data": {
      "text/plain": [
       "[('it', 11), ('.', 10), ('to', 7), ('the', 6), (',', 4)]"
      ]
     },
     "execution_count": 9,
     "metadata": {},
     "output_type": "execute_result"
    }
   ],
   "source": [
    "# Import the class.\n",
    "from nltk.probability import FreqDist\n",
    "\n",
    "# Create a frequency distribution object.\n",
    "freq_dist_of_words = FreqDist(tokenised_word)\n",
    "\n",
    "# Show the five most common elements in the data set.\n",
    "freq_dist_of_words.most_common(5)"
   ]
  },
  {
   "cell_type": "code",
   "execution_count": 10,
   "id": "0b489383",
   "metadata": {},
   "outputs": [
    {
     "data": {
      "image/png": "[encoded data removed]",
      "text/plain": [
       "<Figure size 1200x1200 with 1 Axes>"
      ]
     },
     "metadata": {},
     "output_type": "display_data"
    }
   ],
   "source": [
    "# Import the package.\n",
    "import matplotlib.pyplot as plt\n",
    "\n",
    "# Define the figure and axes.\n",
    "fig, ax = plt.subplots(dpi=100)\n",
    "fig.set_size_inches(12, 12)\n",
    "\n",
    "# Plot the data set.\n",
    "freq_dist_of_words.plot(30, cumulative=False)\n",
    "\n",
    "# Display the result.\n",
    "plt.show()"
   ]
  },
  {
   "cell_type": "code",
   "execution_count": 11,
   "id": "3ec97e6f",
   "metadata": {},
   "outputs": [
    {
     "name": "stdout",
     "output_type": "stream",
     "text": [
      "{'isn', 'we', 'few', 'from', 'are', 'our', 'against', \"haven't\", 'once', 'hasn', \"mightn't\", 'do', 'for', 'over', 'myself', \"she's\", 'ourselves', 'these', \"that'll\", 'you', 'haven', \"you'd\", 'can', 's', \"aren't\", 'had', 'not', 'yourselves', 'mightn', 'needn', 'o', 'am', 'didn', 'they', 'so', 'wouldn', 'why', 'his', 'there', 'which', 'ma', 'being', 'no', 'because', 'the', 'all', 'have', 'weren', 'after', 'he', \"didn't\", 'been', \"hadn't\", \"wouldn't\", 'above', 'it', 'has', 'at', 'now', 'here', 'when', 'or', \"it's\", 'off', 'those', 'himself', 'll', 'won', 'having', \"won't\", 'doing', 'most', 'should', 'up', 'don', 'wasn', 'where', 'its', 've', 'herself', 'be', 'ours', 'me', \"should've\", 'a', 'shan', 'below', \"hasn't\", 're', 'while', 'hadn', \"you'll\", 'is', 'that', 'out', 'whom', 'same', 'as', 'hers', 'themselves', \"don't\", 'only', 'and', 'her', 'she', 'but', 'own', 'itself', 'too', 'down', \"wasn't\", 'yours', 'ain', 'on', 'aren', \"weren't\", 'what', 'such', 't', \"you're\", \"isn't\", 'more', 'your', 'were', 'doesn', 'to', \"shan't\", 'him', 'through', 'each', 'just', 'before', \"shouldn't\", \"doesn't\", 'until', \"mustn't\", 'shouldn', 'both', 'couldn', 'very', 'did', 'some', \"couldn't\", 'an', 'with', 'theirs', 'other', 'who', 'of', 'in', 'again', 'than', 'i', 'any', 'my', 'their', 'how', 'yourself', 'if', 'about', 'y', \"needn't\", 'will', 'd', 'nor', 'was', 'between', 'does', 'mustn', 'them', 'into', 'm', \"you've\", 'further', 'under', 'then', 'by', 'this', 'during'}\n"
     ]
    },
    {
     "name": "stderr",
     "output_type": "stream",
     "text": [
      "[nltk_data] Downloading package stopwords to\n",
      "[nltk_data]     /Users/codyshan/nltk_data...\n",
      "[nltk_data]   Package stopwords is already up-to-date!\n"
     ]
    }
   ],
   "source": [
    "# Download the stopwords.\n",
    "nltk.download('stopwords')\n",
    "\n",
    "# Import the package.\n",
    "from nltk.corpus import stopwords\n",
    "\n",
    "# Create a set of English stopwords.\n",
    "stop_words = set(stopwords.words('english'))\n",
    "\n",
    "# Display the set.\n",
    "print(stop_words)"
   ]
  },
  {
   "cell_type": "code",
   "execution_count": 12,
   "id": "62bb384c",
   "metadata": {},
   "outputs": [
    {
     "name": "stdout",
     "output_type": "stream",
     "text": [
      "Tokenised list without stopwords: ['We', 'took', 'ball', 'beach', 'close', '2', 'hours', 'pump', ',', 'pushed', 'around', '10', 'fun', 'filled', 'minutes', '.', 'That', 'wind', 'picked', 'sent', 'huddling', 'beach', '40', 'knots', '.', 'It', 'destroyed', 'everything', 'path', '.', 'Children', 'screamed', 'terror', 'giant', 'inflatable', 'monster', 'crushed', 'sand', 'castles', '.', 'Grown', 'men', 'knocked', 'trying', 'save', 'families', '.', 'The', 'faster', 'chased', ',', 'faster', 'rolled', '.', 'It', 'like', 'mocking', 'us', '.', 'Eventually', ',', 'stop', 'running', 'path', 'injury', 'destruction', 'going', 'cost', 'us', 'fortune', 'legal', 'fees', '.', 'Rumor', 'still', 'seen', 'stalking', 'innocent', 'families', 'Florida', 'panhandle', '.', 'We', 'lost', 'South', 'Carolina', ',', 'something', 'said', 'durability', '.']\n"
     ]
    }
   ],
   "source": [
    "# Create an empty list for the filtered words.\n",
    "filtered_text = []\n",
    "\n",
    "# Tokenise the text data.\n",
    "# Create a tokenised word list.\n",
    "tokenised_word = nltk.word_tokenize(text)\n",
    "\n",
    "# Filter the tokenised words.\n",
    "for each_word in tokenised_word:\n",
    "    if each_word not in stop_words:\n",
    "        filtered_text.append(each_word)\n",
    "        \n",
    "# Display the filtered list.      \n",
    "print(\"Tokenised list without stopwords: {}\".format(filtered_text))"
   ]
  },
  {
   "cell_type": "code",
   "execution_count": 13,
   "id": "e20f7fc0",
   "metadata": {},
   "outputs": [
    {
     "name": "stdout",
     "output_type": "stream",
     "text": [
      "easily--->easili\n",
      "durability--->durabl\n",
      "longest--->longest\n",
      "wishing--->wish\n",
      "worthwhile--->worthwhil\n",
      "fantasizing--->fantas\n",
      "off-putting--->off-put\n"
     ]
    },
    {
     "name": "stderr",
     "output_type": "stream",
     "text": [
      "[nltk_data] Downloading package wordnet to\n",
      "[nltk_data]     /Users/codyshan/nltk_data...\n",
      "[nltk_data]   Package wordnet is already up-to-date!\n"
     ]
    }
   ],
   "source": [
    "# Import the necessary class.\n",
    "from nltk.stem.snowball import SnowballStemmer\n",
    "\n",
    "# Download the resource.\n",
    "nltk.download('wordnet')\n",
    "\n",
    "# Create a stemming object.\n",
    "snow_stem = SnowballStemmer(language='english')\n",
    "\n",
    "# Create a list of test words.\n",
    "words = ['easily', 'durability', 'longest', 'wishing', 'worthwhile',\n",
    "         'fantasizing', 'off-putting']\n",
    "\n",
    "# Apply the stemming process to each word.\n",
    "for word in words:\n",
    "    print(word + \"--->\" + snow_stem.stem(word))"
   ]
  },
  {
   "cell_type": "code",
   "execution_count": 14,
   "id": "d45e6feb",
   "metadata": {},
   "outputs": [
    {
     "name": "stderr",
     "output_type": "stream",
     "text": [
      "[nltk_data] Downloading package omw-1.4 to\n",
      "[nltk_data]     /Users/codyshan/nltk_data...\n",
      "[nltk_data]   Package omw-1.4 is already up-to-date!\n"
     ]
    },
    {
     "name": "stdout",
     "output_type": "stream",
     "text": [
      "Lemmatised Words list ['I', 'love', 'it', 'when', 'he', 'purchase', 'item', 'that', 'the', 'kid', 'and', 'grandkids', 'ca', \"n't\", 'wait', 'to', 'try', 'out', '.', 'it', \"'s\", 'a', 'lot', 'of', 'fun', 'but', 'he', 'easily', 'and', 'accidentally', 'bowl', 'the', 'toddler', 'over', 'with', 'them', ',', 'so', 'be', 'careful', '.']\n"
     ]
    }
   ],
   "source": [
    "# Import the necessary class.\n",
    "from nltk.stem.wordnet import WordNetLemmatizer\n",
    "\n",
    "# Download the lemma corpus.\n",
    "nltk.download('omw-1.4')\n",
    "\n",
    "# Create an instance of the class.\n",
    "lemmatiser = WordNetLemmatizer()\n",
    "\n",
    "# Create an empty output list.\n",
    "lemmatised_words_list = []\n",
    "\n",
    "# Define a text string to test.\n",
    "text_2 = \"I love it when he purchases items that the kids and grandkids can't wait to try out. it's a lot of fun but he easily and accidentally bowls the toddlers over with them, so be careful.\"\n",
    "\n",
    "# Tokenise the string.\n",
    "tokenised_word = word_tokenize(text_2)\n",
    "\n",
    "# Apply lemmatisation to each tokenised word.\n",
    "for each_word in tokenised_word:\n",
    "    lem_word = lemmatiser.lemmatize(each_word)\n",
    "    lemmatised_words_list.append(lem_word)\n",
    "\n",
    "# Display the output list.\n",
    "print(\"Lemmatised Words list {}\".format(lemmatised_words_list))"
   ]
  },
  {
   "cell_type": "code",
   "execution_count": 15,
   "id": "dfc6649e",
   "metadata": {},
   "outputs": [
    {
     "name": "stdout",
     "output_type": "stream",
     "text": [
      "Perfect Buying a second Using it to make a hot air balloon for an escape room adventure Event in Oct will share photos\n"
     ]
    }
   ],
   "source": [
    "# Import the necessary module.\n",
    "import re\n",
    "\n",
    "# Define some text. \n",
    "text_3 = \"Perfect! Buying a second. Using it to make a hot air balloon for an escape room adventure. Event in Oct. will share photos.\"\n",
    "\n",
    "# Filter out the specified punctuation.\n",
    "no_punct = re.sub(r\"[\\.\\?\\!\\,\\:\\;\\\"]\", '', text_3)\n",
    "\n",
    "# Display the filtered text.\n",
    "print(no_punct)"
   ]
  },
  {
   "cell_type": "code",
   "execution_count": null,
   "id": "7a7d645f",
   "metadata": {},
   "outputs": [],
   "source": []
  }
 ],
 "metadata": {
  "kernelspec": {
   "display_name": "Python 3 (ipykernel)",
   "language": "python",
   "name": "python3"
  },
  "language_info": {
   "codemirror_mode": {
    "name": "ipython",
    "version": 3
   },
   "file_extension": ".py",
   "mimetype": "text/x-python",
   "name": "python",
   "nbconvert_exporter": "python",
   "pygments_lexer": "ipython3",
   "version": "3.9.13"
  }
 },
 "nbformat": 4,
 "nbformat_minor": 5
}
