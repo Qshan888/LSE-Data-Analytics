{
 "cells": [
  {
   "cell_type": "code",
   "execution_count": 3,
   "id": "0553ed11",
   "metadata": {},
   "outputs": [
    {
     "name": "stdout",
     "output_type": "stream",
     "text": [
      "Empty DataFrame\n",
      "Columns: []\n",
      "Index: []\n",
      "Series([], dtype: float64)\n"
     ]
    },
    {
     "name": "stderr",
     "output_type": "stream",
     "text": [
      "/var/folders/2y/jw_fvb1s0nncctnyn9dc159w0000gn/T/ipykernel_33329/3605077008.py:8: FutureWarning: The default dtype for empty Series will be 'object' instead of 'float64' in a future version. Specify a dtype explicitly to silence this warning.\n",
      "  ser = pd.Series()\n"
     ]
    }
   ],
   "source": [
    "# Import pandas\n",
    "import pandas as pd\n",
    "\n",
    "# Create an empty dataframe\n",
    "df = pd.DataFrame()\n",
    "\n",
    "# Create an empty series\n",
    "ser = pd.Series()\n",
    "\n",
    "# Print the Dataframe and Series\n",
    "print(df)\n",
    "print(ser)"
   ]
  },
  {
   "cell_type": "code",
   "execution_count": 7,
   "id": "32c3343b",
   "metadata": {},
   "outputs": [
    {
     "data": {
      "text/html": [
       "<div>\n",
       "<style scoped>\n",
       "    .dataframe tbody tr th:only-of-type {\n",
       "        vertical-align: middle;\n",
       "    }\n",
       "\n",
       "    .dataframe tbody tr th {\n",
       "        vertical-align: top;\n",
       "    }\n",
       "\n",
       "    .dataframe thead th {\n",
       "        text-align: right;\n",
       "    }\n",
       "</style>\n",
       "<table border=\"1\" class=\"dataframe\">\n",
       "  <thead>\n",
       "    <tr style=\"text-align: right;\">\n",
       "      <th></th>\n",
       "      <th>Name</th>\n",
       "      <th>Country</th>\n",
       "      <th>Qualification</th>\n",
       "      <th>Age</th>\n",
       "    </tr>\n",
       "  </thead>\n",
       "  <tbody>\n",
       "    <tr>\n",
       "      <th>0</th>\n",
       "      <td>Thando</td>\n",
       "      <td>South Africa</td>\n",
       "      <td>Phd</td>\n",
       "      <td>29</td>\n",
       "    </tr>\n",
       "    <tr>\n",
       "      <th>1</th>\n",
       "      <td>Divya</td>\n",
       "      <td>Singapore</td>\n",
       "      <td>Diploma</td>\n",
       "      <td>20</td>\n",
       "    </tr>\n",
       "    <tr>\n",
       "      <th>2</th>\n",
       "      <td>Simon</td>\n",
       "      <td>United Kingdom</td>\n",
       "      <td>BSc</td>\n",
       "      <td>25</td>\n",
       "    </tr>\n",
       "    <tr>\n",
       "      <th>3</th>\n",
       "      <td>Peter</td>\n",
       "      <td>Australia</td>\n",
       "      <td>MBA</td>\n",
       "      <td>23</td>\n",
       "    </tr>\n",
       "  </tbody>\n",
       "</table>\n",
       "</div>"
      ],
      "text/plain": [
       "     Name         Country Qualification  Age\n",
       "0  Thando    South Africa           Phd   29\n",
       "1   Divya       Singapore       Diploma   20\n",
       "2   Simon  United Kingdom           BSc   25\n",
       "3   Peter       Australia           MBA   23"
      ]
     },
     "execution_count": 7,
     "metadata": {},
     "output_type": "execute_result"
    }
   ],
   "source": [
    "# Create a dictionary\n",
    "data = {'Name': ['Thando', 'Divya', 'Simon', 'Peter'],\n",
    "        'Country': ['South Africa', 'Singapore', 'United Kingdom', 'Australia'],\n",
    "        'Qualification': ['Phd', 'Diploma', 'BSc', 'MBA'],\n",
    "        'Age': [29, 20, 25, 23],}\n",
    "\n",
    "# Create a dataframe from the dictionary\n",
    "students = pd.DataFrame(data)\n",
    "\n",
    "# Print the dataframe\n",
    "students\n"
   ]
  },
  {
   "cell_type": "code",
   "execution_count": null,
   "id": "7e063bf5",
   "metadata": {},
   "outputs": [],
   "source": []
  }
 ],
 "metadata": {
  "kernelspec": {
   "display_name": "Python 3 (ipykernel)",
   "language": "python",
   "name": "python3"
  },
  "language_info": {
   "codemirror_mode": {
    "name": "ipython",
    "version": 3
   },
   "file_extension": ".py",
   "mimetype": "text/x-python",
   "name": "python",
   "nbconvert_exporter": "python",
   "pygments_lexer": "ipython3",
   "version": "3.9.13"
  }
 },
 "nbformat": 4,
 "nbformat_minor": 5
}
