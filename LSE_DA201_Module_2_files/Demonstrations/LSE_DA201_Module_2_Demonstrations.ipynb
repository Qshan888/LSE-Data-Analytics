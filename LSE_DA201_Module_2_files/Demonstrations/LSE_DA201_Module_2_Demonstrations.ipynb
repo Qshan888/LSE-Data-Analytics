{
 "cells": [
  {
   "cell_type": "markdown",
   "id": "b0343a4b",
   "metadata": {},
   "source": [
    "### LSE Data Analytics Online Career Accelerator\n",
    "\n",
    "# DA201: Data Analytics using Python"
   ]
  },
  {
   "cell_type": "markdown",
   "id": "043b9ae1",
   "metadata": {},
   "source": [
    "## Week 2: Getting started with Pandas demonstrations"
   ]
  },
  {
   "cell_type": "markdown",
   "id": "a9829121",
   "metadata": {},
   "source": [
    "The focus this week is on introducing, setting up, and exploring Pandas. You will use this Notebook to follow along with the demonstrations throughout the week.\n",
    "\n",
    "Learn about using your Jupyter Notebook here: https://jupyter-notebook.readthedocs.io/en/latest/ui_components.html\n",
    "\n",
    "This is your Notebook. Use it to follow along with the demonstrations, test ideas and explore what is possible. The hands-on experience of writing your own code will accelerate your learning!"
   ]
  },
  {
   "cell_type": "markdown",
   "id": "123ef55f",
   "metadata": {},
   "source": [
    "### 2.1 Data ingestion with Pandas"
   ]
  },
  {
   "cell_type": "code",
   "execution_count": 4,
   "id": "3c2837ea",
   "metadata": {},
   "outputs": [],
   "source": [
    "# import Pandas library\n",
    "import pandas as pd"
   ]
  },
  {
   "cell_type": "code",
   "execution_count": 5,
   "id": "1ef52b2d",
   "metadata": {},
   "outputs": [
    {
     "name": "stdout",
     "output_type": "stream",
     "text": [
      "0     green\n",
      "1       red\n",
      "2    yellow\n",
      "3      blue\n",
      "4     black\n",
      "5     white\n",
      "dtype: object\n"
     ]
    }
   ],
   "source": [
    "# Create the variable colours.\n",
    "# Pass an array of data.\n",
    "colours = pd.Series(['green', 'red', 'yellow', 'blue', 'black', 'white'])\n",
    "\n",
    "# Print the Series.\n",
    "print(colours)"
   ]
  },
  {
   "cell_type": "code",
   "execution_count": 6,
   "id": "ec7e103d",
   "metadata": {},
   "outputs": [
    {
     "name": "stdout",
     "output_type": "stream",
     "text": [
      "0    1\n",
      "1    2\n",
      "2    3\n",
      "3    4\n",
      "4    5\n",
      "5    6\n",
      "dtype: int64\n"
     ]
    }
   ],
   "source": [
    "# Create a list.\n",
    "example_list = [1, 2, 3, 4, 5, 6]\n",
    "  \n",
    "# Create Series from a list.\n",
    "numbers = pd.Series(example_list)\n",
    "\n",
    "# Print the Series.\n",
    "print(numbers)"
   ]
  },
  {
   "cell_type": "code",
   "execution_count": 9,
   "id": "3d456568",
   "metadata": {},
   "outputs": [
    {
     "name": "stdout",
     "output_type": "stream",
     "text": [
      "AU    Australian Dollar\n",
      "US            US Dollar\n",
      "IN         Indian Rupee\n",
      "DK         Danish Krone\n",
      "SW          Swiss Franc\n",
      "dtype: object\n"
     ]
    }
   ],
   "source": [
    "# Create a dictionary.\n",
    "# Specify the dictionary as dict_1.\n",
    "dict_1 = {'AU':'Australian Dollar',\n",
    "          'US': 'US Dollar',\n",
    "          'IN': 'Indian Rupee',\n",
    "          'DK': 'Danish Krone',\n",
    "          'SW': 'Swiss Franc'}\n",
    "\n",
    "# Name and create the Series.\n",
    "economics = pd.Series(dict_1)\n",
    "\n",
    "# Print the Series.\n",
    "print(economics)"
   ]
  },
  {
   "cell_type": "markdown",
   "id": "4d41f5c8",
   "metadata": {},
   "source": [
    "# "
   ]
  },
  {
   "cell_type": "code",
   "execution_count": 10,
   "id": "1acbeed3",
   "metadata": {},
   "outputs": [
    {
     "name": "stdout",
     "output_type": "stream",
     "text": [
      "123               Law Enforcement\n",
      "224     Fire and Rescue Services \n",
      "101    Emergency Medical Services\n",
      "999           mergency Management\n",
      "900                  Public Works\n",
      "dtype: object\n"
     ]
    }
   ],
   "source": [
    "dict_2 = {'123':'Law Enforcement',\n",
    "          '224': 'Fire and Rescue Services ',\n",
    "          '101': 'Emergency Medical Services',\n",
    "          '999': 'mergency Management',\n",
    "          '900': 'Public Works'}\n",
    "\n",
    "emergency_numbers = pd.Series(dict_2)\n",
    "print(emergency_numbers)"
   ]
  },
  {
   "cell_type": "code",
   "execution_count": 12,
   "id": "96cca87a",
   "metadata": {},
   "outputs": [
    {
     "name": "stdout",
     "output_type": "stream",
     "text": [
      "1     green\n",
      "2       red\n",
      "3    yellow\n",
      "4      blue\n",
      "5     black\n",
      "6     white\n",
      "dtype: object\n"
     ]
    }
   ],
   "source": [
    "emergency_protocols = pd.Series(['green', 'red', 'yellow', 'blue', 'black', 'white'], index = [\"1\",\"2\",\"3\",\"4\",\"5\",\"6\"])\n",
    "print(emergency_protocols)"
   ]
  },
  {
   "cell_type": "code",
   "execution_count": 13,
   "id": "fc80e0b4",
   "metadata": {},
   "outputs": [
    {
     "name": "stdout",
     "output_type": "stream",
     "text": [
      "0     green\n",
      "1       red\n",
      "2    yellow\n",
      "3      blue\n",
      "4     black\n",
      "5     white\n",
      "dtype: object\n"
     ]
    }
   ],
   "source": [
    "emergency_protocols = pd.Series(['green', 'red', 'yellow', 'blue', 'black', 'white'])\n",
    "print(emergency_protocols)"
   ]
  },
  {
   "cell_type": "markdown",
   "id": "934bc5f7",
   "metadata": {},
   "source": [
    "### 2.2 Pandas built-in functions"
   ]
  },
  {
   "cell_type": "code",
   "execution_count": null,
   "id": "d04ff23c",
   "metadata": {},
   "outputs": [],
   "source": []
  },
  {
   "cell_type": "code",
   "execution_count": null,
   "id": "55b6cc84",
   "metadata": {},
   "outputs": [],
   "source": []
  },
  {
   "cell_type": "code",
   "execution_count": null,
   "id": "0682e5fe",
   "metadata": {},
   "outputs": [],
   "source": []
  },
  {
   "cell_type": "code",
   "execution_count": null,
   "id": "b66d2a21",
   "metadata": {},
   "outputs": [],
   "source": []
  },
  {
   "cell_type": "code",
   "execution_count": null,
   "id": "543c15c7",
   "metadata": {},
   "outputs": [],
   "source": []
  },
  {
   "cell_type": "markdown",
   "id": "6200464b",
   "metadata": {},
   "source": [
    "# "
   ]
  },
  {
   "cell_type": "markdown",
   "id": "03e3e42d",
   "metadata": {},
   "source": [
    "### 2.3 Analysing data in Pandas"
   ]
  },
  {
   "cell_type": "code",
   "execution_count": null,
   "id": "6c881648",
   "metadata": {},
   "outputs": [],
   "source": []
  },
  {
   "cell_type": "code",
   "execution_count": null,
   "id": "03828b49",
   "metadata": {},
   "outputs": [],
   "source": []
  },
  {
   "cell_type": "code",
   "execution_count": null,
   "id": "3f902769",
   "metadata": {},
   "outputs": [],
   "source": []
  },
  {
   "cell_type": "code",
   "execution_count": null,
   "id": "6dd64074",
   "metadata": {},
   "outputs": [],
   "source": []
  },
  {
   "cell_type": "markdown",
   "id": "4633d393",
   "metadata": {},
   "source": [
    "# "
   ]
  }
 ],
 "metadata": {
  "kernelspec": {
   "display_name": "Python 3 (ipykernel)",
   "language": "python",
   "name": "python3"
  },
  "language_info": {
   "codemirror_mode": {
    "name": "ipython",
    "version": 3
   },
   "file_extension": ".py",
   "mimetype": "text/x-python",
   "name": "python",
   "nbconvert_exporter": "python",
   "pygments_lexer": "ipython3",
   "version": "3.9.13"
  }
 },
 "nbformat": 4,
 "nbformat_minor": 5
}
