{
 "cells": [
  {
   "cell_type": "markdown",
   "id": "d229f2d1",
   "metadata": {},
   "source": [
    "### LSE Data Analytics Online Career Accelerator \n",
    "\n",
    "# DA201:  Data Analytics with Python"
   ]
  },
  {
   "cell_type": "markdown",
   "id": "94257013",
   "metadata": {},
   "source": [
    "## Min-max feature scaling (tutorial video)"
   ]
  },
  {
   "cell_type": "markdown",
   "id": "cbf0316e",
   "metadata": {},
   "source": [
    "This file contains the code snippets that are introduced in the Min-max feature scaling video. \n",
    "Follow along with the demonstration to:\n",
    "- normalise data using the min-max feature scaling technique.\n",
    "\n",
    "Play and pause the video to follow along with the demonstration."
   ]
  },
  {
   "cell_type": "markdown",
   "id": "9cc92cf8",
   "metadata": {},
   "source": [
    "### 1. Prepare your workstation"
   ]
  },
  {
   "cell_type": "code",
   "execution_count": 1,
   "id": "555735f4",
   "metadata": {},
   "outputs": [
    {
     "data": {
      "text/plain": [
       "(940, 15)"
      ]
     },
     "execution_count": 1,
     "metadata": {},
     "output_type": "execute_result"
    }
   ],
   "source": [
    "# Import the Pandas package.\n",
    "import pandas as pd\n",
    "\n",
    "# Read the CSV file from the current working directory.\n",
    "fitness = pd.read_csv('daily_activity.csv')\n",
    "\n",
    "# View the DataFrame shape.\n",
    "fitness.shape"
   ]
  },
  {
   "cell_type": "markdown",
   "id": "b1f1ee8a",
   "metadata": {},
   "source": [
    "### 2. View the values before normalisation"
   ]
  },
  {
   "cell_type": "code",
   "execution_count": 2,
   "id": "cf4dfa00",
   "metadata": {},
   "outputs": [
    {
     "data": {
      "text/plain": [
       "0       728\n",
       "1       776\n",
       "2      1218\n",
       "3       726\n",
       "4       773\n",
       "       ... \n",
       "935    1174\n",
       "936    1131\n",
       "937    1187\n",
       "938    1127\n",
       "939     770\n",
       "Name: SedentaryMinutes, Length: 940, dtype: int64"
      ]
     },
     "execution_count": 2,
     "metadata": {},
     "output_type": "execute_result"
    }
   ],
   "source": [
    "# Values of sedentary minutes before scaling.\n",
    "fitness['SedentaryMinutes']"
   ]
  },
  {
   "cell_type": "markdown",
   "id": "53acbf80",
   "metadata": {},
   "source": [
    "### 3. Normalise the data"
   ]
  },
  {
   "cell_type": "code",
   "execution_count": 18,
   "id": "86f4235e",
   "metadata": {},
   "outputs": [],
   "source": [
    "# Apply the min-max scaling in Pandas using the .min() and .max() methods.\n",
    "def min_max_scaling(df):\n",
    "    # Copy the DataFrame.\n",
    "    df_scaled = df.copy()\n",
    "    # Apply min-max scaling.\n",
    "    if isinstance(df_scaled, pd.DataFrame):\n",
    "        for column in df_scaled.columns:\n",
    "            df_scaled = (df_scaled - df_scaled.min()) / (df_scaled.max() - df_scaled.min())\n",
    "            \n",
    "    else: \n",
    "        df_scaled = (df_scaled - df_scaled.min()) / (df_scaled.max(\n",
    "        ) - df_scaled.min())\n",
    "  \n",
    "    return df_scaled"
   ]
  },
  {
   "cell_type": "code",
   "execution_count": 19,
   "id": "470f6c54",
   "metadata": {},
   "outputs": [],
   "source": [
    "# Call the min_max_scaling function.\n",
    "fitness['SedentaryMinutes_new'] = min_max_scaling(fitness['SedentaryMinutes'])"
   ]
  },
  {
   "cell_type": "code",
   "execution_count": 20,
   "id": "05d95f71",
   "metadata": {},
   "outputs": [
    {
     "data": {
      "text/plain": [
       "0      0.505556\n",
       "1      0.538889\n",
       "2      0.845833\n",
       "3      0.504167\n",
       "4      0.536806\n",
       "         ...   \n",
       "935    0.815278\n",
       "936    0.785417\n",
       "937    0.824306\n",
       "938    0.782639\n",
       "939    0.534722\n",
       "Name: SedentaryMinutes_new, Length: 940, dtype: float64"
      ]
     },
     "execution_count": 20,
     "metadata": {},
     "output_type": "execute_result"
    }
   ],
   "source": [
    "# Call the new values of the sedentary minutes column.\n",
    "fitness['SedentaryMinutes_new']"
   ]
  },
  {
   "cell_type": "code",
   "execution_count": 21,
   "id": "df2276e0",
   "metadata": {},
   "outputs": [
    {
     "name": "stdout",
     "output_type": "stream",
     "text": [
      "0      328\n",
      "1      217\n",
      "2      181\n",
      "3      209\n",
      "4      221\n",
      "      ... \n",
      "935    245\n",
      "936    217\n",
      "937    224\n",
      "938    213\n",
      "939    137\n",
      "Name: LightlyActiveMinutes, Length: 940, dtype: int64\n"
     ]
    },
    {
     "data": {
      "text/plain": [
       "0      0.633205\n",
       "1      0.418919\n",
       "2      0.349421\n",
       "3      0.403475\n",
       "4      0.426641\n",
       "         ...   \n",
       "935    0.472973\n",
       "936    0.418919\n",
       "937    0.432432\n",
       "938    0.411197\n",
       "939    0.264479\n",
       "Name: LightlyActiveMinutes_new, Length: 940, dtype: float64"
      ]
     },
     "execution_count": 21,
     "metadata": {},
     "output_type": "execute_result"
    }
   ],
   "source": [
    "# Start with before.\n",
    "print(fitness['LightlyActiveMinutes'])\n",
    "\n",
    "# Apply the min-max scaling in Pandas using the .min() and .max() methods.\n",
    "def min_max_scaling(df):\n",
    "    # Copy the DataFrame.\n",
    "    df_scaled = df.copy()\n",
    "    # Apply min-max scaling.\n",
    "    if isinstance(df_scaled, pd.DataFrame):\n",
    "        for column in df_scaled.columns:\n",
    "            df_scaled[column] = (df_scaled[column] - df_scaled[column].min()\n",
    "                                ) / (df_scaled[column].max(\n",
    "            ) - df_scaled[column].min())\n",
    "    else:\n",
    "        df_scaled = (df_scaled - df_scaled.min()) / (df_scaled.max(\n",
    "        ) - df_scaled.min())\n",
    "\n",
    "    return df_scaled\n",
    "\n",
    "# Call the min_max_scaling function.\n",
    "fitness['LightlyActiveMinutes_new'] = min_max_scaling(fitness['LightlyActiveMinutes'])\n",
    "fitness['LightlyActiveMinutes_new']"
   ]
  },
  {
   "cell_type": "code",
   "execution_count": 22,
   "id": "0b12da02",
   "metadata": {},
   "outputs": [
    {
     "name": "stdout",
     "output_type": "stream",
     "text": [
      "0       8.500000\n",
      "1       6.970000\n",
      "2       6.740000\n",
      "3       6.280000\n",
      "4       8.160000\n",
      "         ...    \n",
      "935     8.110000\n",
      "936    18.250000\n",
      "937     8.150000\n",
      "938    19.559999\n",
      "939     6.120000\n",
      "Name: TrackerDistance, Length: 940, dtype: float64\n"
     ]
    },
    {
     "data": {
      "text/plain": [
       "0      0.303247\n",
       "1      0.248662\n",
       "2      0.240457\n",
       "3      0.224046\n",
       "4      0.291117\n",
       "         ...   \n",
       "935    0.289333\n",
       "936    0.651088\n",
       "937    0.290760\n",
       "938    0.697824\n",
       "939    0.218337\n",
       "Name: TrackerDistance_new, Length: 940, dtype: float64"
      ]
     },
     "execution_count": 22,
     "metadata": {},
     "output_type": "execute_result"
    }
   ],
   "source": [
    "\n",
    "# Start with before.\n",
    "print(fitness['TrackerDistance'])\n",
    "\n",
    "# Implementation of Maximum absolute scaling\n",
    "# Apply the maximum absolute scaling in Pandas using the .abs() and .max() methods.\n",
    "def max_abs_scaling(df):\n",
    "        # Copy the DataFrame.\n",
    "    df_scaled = df.copy()\n",
    "    if isinstance(df_scaled, pd.DataFrame):\n",
    "        # Apply maximum absolute scaling.\n",
    "        for column in df_scaled.columns:\n",
    "            df_scaled[column] = df_scaled[column]  / df_scaled[column].abs(\n",
    "            ).max()\n",
    "    else:\n",
    "        df_scaled = df_scaled / df_scaled.abs().max()\n",
    "        \n",
    "    return df_scaled\n",
    "\n",
    "# Call the maximum_absolute_scaling function.\n",
    "fitness['TrackerDistance_new'] = max_abs_scaling(fitness['TrackerDistance'])\n",
    "fitness['TrackerDistance_new']"
   ]
  },
  {
   "cell_type": "code",
   "execution_count": null,
   "id": "8759eac5",
   "metadata": {},
   "outputs": [],
   "source": []
  }
 ],
 "metadata": {
  "kernelspec": {
   "display_name": "Python 3 (ipykernel)",
   "language": "python",
   "name": "python3"
  },
  "language_info": {
   "codemirror_mode": {
    "name": "ipython",
    "version": 3
   },
   "file_extension": ".py",
   "mimetype": "text/x-python",
   "name": "python",
   "nbconvert_exporter": "python",
   "pygments_lexer": "ipython3",
   "version": "3.9.13"
  }
 },
 "nbformat": 4,
 "nbformat_minor": 5
}
