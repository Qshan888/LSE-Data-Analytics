{
 "cells": [
  {
   "cell_type": "markdown",
   "id": "d1d293c6",
   "metadata": {},
   "source": [
    "### LSE Data Analytics Online Career Accelerator \n",
    "\n",
    "# DA201:  Data Analytics with Python"
   ]
  },
  {
   "cell_type": "markdown",
   "id": "1c5a21e7",
   "metadata": {},
   "source": [
    "## Maximum absolute scaling (tutorial video)"
   ]
  },
  {
   "cell_type": "markdown",
   "id": "e6271071",
   "metadata": {},
   "source": [
    "This file contains the code snippets that are introduced in the Maximum absolute scaling video. \n",
    "Follow along with the demonstration to:\n",
    "- use the maximum absolute scaling technique to transform and normalise data.\n",
    "\n",
    "\n",
    "Play and pause the video to follow along with the demonstration."
   ]
  },
  {
   "cell_type": "markdown",
   "id": "c0166274",
   "metadata": {},
   "source": [
    "### 1. Set up your workstation"
   ]
  },
  {
   "cell_type": "code",
   "execution_count": 1,
   "id": "4a7e09ff",
   "metadata": {},
   "outputs": [
    {
     "data": {
      "text/plain": [
       "(940, 15)"
      ]
     },
     "execution_count": 1,
     "metadata": {},
     "output_type": "execute_result"
    }
   ],
   "source": [
    "# Import the Pandas package.\n",
    "import pandas as pd\n",
    "\n",
    "# Read the CSV file from the current working directory.\n",
    "fitness = pd.read_csv('daily_activity.csv')\n",
    "\n",
    "# View the DataFrame shape.\n",
    "fitness.shape"
   ]
  },
  {
   "cell_type": "markdown",
   "id": "934467e5",
   "metadata": {},
   "source": [
    "### 2. View the values before normalisation"
   ]
  },
  {
   "cell_type": "code",
   "execution_count": 2,
   "id": "2a68845e",
   "metadata": {},
   "outputs": [
    {
     "data": {
      "text/plain": [
       "0       8.500000\n",
       "1       6.970000\n",
       "2       6.740000\n",
       "3       6.280000\n",
       "4       8.160000\n",
       "         ...    \n",
       "935     8.110000\n",
       "936    18.250000\n",
       "937     8.150000\n",
       "938    19.559999\n",
       "939     6.120000\n",
       "Name: TotalDistance, Length: 940, dtype: float64"
      ]
     },
     "execution_count": 2,
     "metadata": {},
     "output_type": "execute_result"
    }
   ],
   "source": [
    "# Values of total distance before scaling.\n",
    "fitness['TotalDistance']"
   ]
  },
  {
   "cell_type": "markdown",
   "id": "c70a4cf2",
   "metadata": {},
   "source": [
    "### 3. Normalise the data"
   ]
  },
  {
   "cell_type": "code",
   "execution_count": 3,
   "id": "c117b847",
   "metadata": {},
   "outputs": [],
   "source": [
    "# Apply the maximum absolute scaling in Pandas using the .abs() and .max() methods.\n",
    "def max_abs_scaling(df):\n",
    "    # Copy the DataFrame.\n",
    "    df_scaled = df.copy()\n",
    "    if isinstance(df_scaled, pd.DataFrame):\n",
    "        # Apply maximum absolute scaling.\n",
    "        for column in df_scaled.columns:\n",
    "            df_scaled[column] = df_scaled[column] / df_scaled[column].abs(\n",
    "            ).max()\n",
    "    else:\n",
    "        df_scaled = df_scaled / df_scaled.abs().max()\n",
    "        \n",
    "    return df_scaled"
   ]
  },
  {
   "cell_type": "code",
   "execution_count": 6,
   "id": "5fae8a9e",
   "metadata": {},
   "outputs": [],
   "source": [
    "# Call the maximum_absolute_scaling function.\n",
    "fitness['TotalDistance'] = max_abs_scaling(fitness['TotalDistance'])"
   ]
  },
  {
   "cell_type": "code",
   "execution_count": 7,
   "id": "40e86f1d",
   "metadata": {},
   "outputs": [
    {
     "data": {
      "text/plain": [
       "0      0.303247\n",
       "1      0.248662\n",
       "2      0.240457\n",
       "3      0.224046\n",
       "4      0.291117\n",
       "         ...   \n",
       "935    0.289333\n",
       "936    0.651088\n",
       "937    0.290760\n",
       "938    0.697824\n",
       "939    0.218337\n",
       "Name: TotalDistance, Length: 940, dtype: float64"
      ]
     },
     "execution_count": 7,
     "metadata": {},
     "output_type": "execute_result"
    }
   ],
   "source": [
    "# Call the new values of the total distance column.\n",
    "fitness['TotalDistance']"
   ]
  },
  {
   "cell_type": "code",
   "execution_count": null,
   "id": "2f0f317e",
   "metadata": {},
   "outputs": [],
   "source": []
  }
 ],
 "metadata": {
  "kernelspec": {
   "display_name": "Python 3 (ipykernel)",
   "language": "python",
   "name": "python3"
  },
  "language_info": {
   "codemirror_mode": {
    "name": "ipython",
    "version": 3
   },
   "file_extension": ".py",
   "mimetype": "text/x-python",
   "name": "python",
   "nbconvert_exporter": "python",
   "pygments_lexer": "ipython3",
   "version": "3.9.13"
  }
 },
 "nbformat": 4,
 "nbformat_minor": 5
}
