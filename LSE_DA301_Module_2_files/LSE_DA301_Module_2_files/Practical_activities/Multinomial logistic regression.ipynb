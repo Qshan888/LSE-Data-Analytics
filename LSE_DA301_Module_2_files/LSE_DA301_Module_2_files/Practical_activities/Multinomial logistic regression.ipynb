{
 "cells": [
  {
   "cell_type": "code",
   "execution_count": 5,
   "id": "fb8d8964",
   "metadata": {},
   "outputs": [
    {
     "name": "stdout",
     "output_type": "stream",
     "text": [
      "<class 'pandas.core.frame.DataFrame'>\n",
      "RangeIndex: 9484 entries, 0 to 9483\n",
      "Data columns (total 9 columns):\n",
      " #   Column             Non-Null Count  Dtype  \n",
      "---  ------             --------------  -----  \n",
      " 0   sex                9484 non-null   object \n",
      " 1   length             9484 non-null   float64\n",
      " 2   diameter           9484 non-null   float64\n",
      " 3   height             9484 non-null   float64\n",
      " 4   total_weight       9484 non-null   float64\n",
      " 5   raw_weight         9484 non-null   float64\n",
      " 6   intestines_weight  9484 non-null   float64\n",
      " 7   shell_weight       9484 non-null   float64\n",
      " 8   age                9484 non-null   int64  \n",
      "dtypes: float64(7), int64(1), object(1)\n",
      "memory usage: 667.0+ KB\n",
      "None\n",
      "(9484, 9)\n"
     ]
    },
    {
     "data": {
      "text/html": [
       "<div>\n",
       "<style scoped>\n",
       "    .dataframe tbody tr th:only-of-type {\n",
       "        vertical-align: middle;\n",
       "    }\n",
       "\n",
       "    .dataframe tbody tr th {\n",
       "        vertical-align: top;\n",
       "    }\n",
       "\n",
       "    .dataframe thead th {\n",
       "        text-align: right;\n",
       "    }\n",
       "</style>\n",
       "<table border=\"1\" class=\"dataframe\">\n",
       "  <thead>\n",
       "    <tr style=\"text-align: right;\">\n",
       "      <th></th>\n",
       "      <th>sex</th>\n",
       "      <th>length</th>\n",
       "      <th>diameter</th>\n",
       "      <th>height</th>\n",
       "      <th>total_weight</th>\n",
       "      <th>raw_weight</th>\n",
       "      <th>intestines_weight</th>\n",
       "      <th>shell_weight</th>\n",
       "      <th>age</th>\n",
       "    </tr>\n",
       "  </thead>\n",
       "  <tbody>\n",
       "    <tr>\n",
       "      <th>0</th>\n",
       "      <td>male</td>\n",
       "      <td>0.455</td>\n",
       "      <td>0.365</td>\n",
       "      <td>0.095</td>\n",
       "      <td>0.5140</td>\n",
       "      <td>0.2245</td>\n",
       "      <td>0.1010</td>\n",
       "      <td>0.1500</td>\n",
       "      <td>15</td>\n",
       "    </tr>\n",
       "    <tr>\n",
       "      <th>1</th>\n",
       "      <td>female</td>\n",
       "      <td>0.575</td>\n",
       "      <td>0.475</td>\n",
       "      <td>0.160</td>\n",
       "      <td>0.8950</td>\n",
       "      <td>0.3605</td>\n",
       "      <td>0.2210</td>\n",
       "      <td>0.2710</td>\n",
       "      <td>9</td>\n",
       "    </tr>\n",
       "    <tr>\n",
       "      <th>2</th>\n",
       "      <td>male</td>\n",
       "      <td>0.575</td>\n",
       "      <td>0.450</td>\n",
       "      <td>0.155</td>\n",
       "      <td>0.8860</td>\n",
       "      <td>0.3605</td>\n",
       "      <td>0.2110</td>\n",
       "      <td>0.2575</td>\n",
       "      <td>9</td>\n",
       "    </tr>\n",
       "    <tr>\n",
       "      <th>3</th>\n",
       "      <td>infant</td>\n",
       "      <td>0.580</td>\n",
       "      <td>0.460</td>\n",
       "      <td>0.140</td>\n",
       "      <td>0.9265</td>\n",
       "      <td>0.4135</td>\n",
       "      <td>0.1845</td>\n",
       "      <td>0.2700</td>\n",
       "      <td>10</td>\n",
       "    </tr>\n",
       "    <tr>\n",
       "      <th>4</th>\n",
       "      <td>infant</td>\n",
       "      <td>0.580</td>\n",
       "      <td>0.460</td>\n",
       "      <td>0.140</td>\n",
       "      <td>0.8295</td>\n",
       "      <td>0.3915</td>\n",
       "      <td>0.1650</td>\n",
       "      <td>0.2380</td>\n",
       "      <td>10</td>\n",
       "    </tr>\n",
       "  </tbody>\n",
       "</table>\n",
       "</div>"
      ],
      "text/plain": [
       "      sex  length  diameter  height  total_weight  raw_weight  \\\n",
       "0    male   0.455     0.365   0.095        0.5140      0.2245   \n",
       "1  female   0.575     0.475   0.160        0.8950      0.3605   \n",
       "2    male   0.575     0.450   0.155        0.8860      0.3605   \n",
       "3  infant   0.580     0.460   0.140        0.9265      0.4135   \n",
       "4  infant   0.580     0.460   0.140        0.8295      0.3915   \n",
       "\n",
       "   intestines_weight  shell_weight  age  \n",
       "0             0.1010        0.1500   15  \n",
       "1             0.2210        0.2710    9  \n",
       "2             0.2110        0.2575    9  \n",
       "3             0.1845        0.2700   10  \n",
       "4             0.1650        0.2380   10  "
      ]
     },
     "execution_count": 5,
     "metadata": {},
     "output_type": "execute_result"
    }
   ],
   "source": [
    "# Import all the necessary packages.\n",
    "import pandas as pd \n",
    "import numpy as np \n",
    "import scipy as scp\n",
    "import sklearn\n",
    "import statsmodels.api as sm\n",
    "import matplotlib.pyplot as plt  \n",
    "\n",
    "from sklearn.model_selection import train_test_split\n",
    "from sklearn.linear_model import LogisticRegression\n",
    "from sklearn.metrics import classification_report\n",
    "from sklearn import metrics \n",
    "from sklearn.metrics import confusion_matrix\n",
    "\n",
    "# Upload the CSV file.\n",
    "oysters = pd.read_csv('../data/oysters.csv')  \n",
    "\n",
    "# Print the columns.\n",
    "print(oysters.info())\n",
    "print(oysters.shape)\n",
    "oysters.head()"
   ]
  },
  {
   "cell_type": "code",
   "execution_count": 6,
   "id": "9fa8efe2",
   "metadata": {},
   "outputs": [
    {
     "data": {
      "text/plain": [
       "male      3561\n",
       "female    3113\n",
       "infant    2810\n",
       "Name: sex, dtype: int64"
      ]
     },
     "execution_count": 6,
     "metadata": {},
     "output_type": "execute_result"
    }
   ],
   "source": [
    "# Apply the value_counts() method, and assign the results to a new DataFrame.\n",
    "oysters_sex = oysters['sex'].value_counts()\n",
    "\n",
    "# View the output.\n",
    "oysters_sex"
   ]
  },
  {
   "cell_type": "code",
   "execution_count": 7,
   "id": "b289b71b",
   "metadata": {},
   "outputs": [
    {
     "name": "stdout",
     "output_type": "stream",
     "text": [
      "['length', 'diameter', 'height', 'total_weight', 'raw_weight', 'intestines_weight', 'shell_weight', 'age']\n"
     ]
    }
   ],
   "source": [
    "# Set the independent variable.  \n",
    "X = oysters.drop(['sex'], axis=1) \n",
    "# Set the dependent variable. \n",
    "y = oysters['sex']   \n",
    "\n",
    "# Print to check that the sex column has been dropped.\n",
    "print(list(X.columns.values))  \n",
    "\n",
    "# Specify the train and test data sets and \n",
    "# use 30% as the 'test_size' and a random_state of one.\n",
    "X_train, X_test, y_train, y_test = sklearn.model_selection.train_test_split(X, y, test_size = 0.30, random_state = 1, stratify=y) "
   ]
  },
  {
   "cell_type": "code",
   "execution_count": 9,
   "id": "aae6d304",
   "metadata": {},
   "outputs": [
    {
     "name": "stdout",
     "output_type": "stream",
     "text": [
      "{'C': 1.0, 'class_weight': None, 'dual': False, 'fit_intercept': True, 'intercept_scaling': 1, 'l1_ratio': None, 'max_iter': 100, 'multi_class': 'multinomial', 'n_jobs': None, 'penalty': 'none', 'random_state': 0, 'solver': 'newton-cg', 'tol': 0.0001, 'verbose': 0, 'warm_start': False}\n",
      "Intercept: \n",
      " [-1.84883052  1.60340815  0.24542237]\n",
      "Coefficients: \n",
      " [[ -5.8173752    5.780108     5.43329376   5.13194905  -5.01938143\n",
      "    4.32807677  -1.07708309   1.3583728 ]\n",
      " [ 10.24643808  -6.10005727  -7.87925866 -11.48779385   6.386477\n",
      "   -6.62219488   1.90516521  -3.11254824]\n",
      " [ -4.42906288   0.31994927   2.4459649    6.3558448   -1.36709557\n",
      "    2.29411811  -0.82808212   1.75417544]]\n"
     ]
    }
   ],
   "source": [
    "# Import the MinMaxScaler to normalise the data.\n",
    "from sklearn.preprocessing import MinMaxScaler  \n",
    "\n",
    "# Create a function, and set values.\n",
    "scaler = MinMaxScaler(feature_range = (0, 1))  \n",
    "\n",
    "# Add the X_train data set to the 'scaler' function.\n",
    "scaler.fit(X_train)\n",
    "\n",
    "# Specify X_train data set.\n",
    "X_train = scaler.transform(X_train) \n",
    "\n",
    "# Specify X_test data set. \n",
    "X_test = scaler.transform(X_test)\n",
    "\n",
    "# Define the MLR model, and set predictions and parameters.\n",
    "MLR = LogisticRegression(random_state=0, \n",
    "                         multi_class='multinomial', \n",
    "                         penalty='none', \n",
    "                         solver='newton-cg').fit(X_train, y_train)\n",
    "\n",
    "# Set the predictions equal to the 'MLR' function and \n",
    "# specify the DataFrame.\n",
    "preds = MLR.predict(X_test) \n",
    "\n",
    "# Set the parameters equal to the DataFrame and \n",
    "# add the 'get_params' function. \n",
    "params = MLR.get_params() \n",
    "\n",
    "# Print the parameters, intercept, and coefficients.\n",
    "print(params)  \n",
    "print(\"Intercept: \\n\", MLR.intercept_)\n",
    "print(\"Coefficients: \\n\", MLR.coef_)"
   ]
  },
  {
   "cell_type": "code",
   "execution_count": 10,
   "id": "22ffbbfd",
   "metadata": {},
   "outputs": [
    {
     "name": "stdout",
     "output_type": "stream",
     "text": [
      "Optimization terminated successfully.\n",
      "         Current function value: 0.854457\n",
      "         Iterations 8\n",
      "Summary for Sex:I/M :\n",
      "                            MNLogit Regression Results                          \n",
      "==============================================================================\n",
      "Dep. Variable:                    sex   No. Observations:                 6638\n",
      "Model:                        MNLogit   Df Residuals:                     6620\n",
      "Method:                           MLE   Df Model:                           16\n",
      "Date:                Sat, 30 Sep 2023   Pseudo R-squ.:                  0.2189\n",
      "Time:                        16:50:44   Log-Likelihood:                -5671.9\n",
      "converged:                       True   LL-Null:                       -7261.2\n",
      "Covariance Type:            nonrobust   LLR p-value:                     0.000\n",
      "==============================================================================\n",
      "sex=infant       coef    std err          z      P>|z|      [0.025      0.975]\n",
      "------------------------------------------------------------------------------\n",
      "const          3.4522      0.316     10.913      0.000       2.832       4.072\n",
      "x1            16.0638      1.755      9.152      0.000      12.624      19.504\n",
      "x2           -11.8802      1.735     -6.847      0.000     -15.281      -8.479\n",
      "x3           -13.3126      3.174     -4.194      0.000     -19.533      -7.092\n",
      "x4           -16.6197      4.031     -4.123      0.000     -24.519      -8.720\n",
      "x5            11.4059      2.493      4.575      0.000       6.519      16.293\n",
      "x6           -10.9503      1.632     -6.710      0.000     -14.149      -7.752\n",
      "x7             2.9822      2.046      1.458      0.145      -1.027       6.992\n",
      "x8            -4.4709      0.588     -7.599      0.000      -5.624      -3.318\n",
      "------------------------------------------------------------------------------\n",
      "  sex=male       coef    std err          z      P>|z|      [0.025      0.975]\n",
      "------------------------------------------------------------------------------\n",
      "const          2.0943      0.275      7.626      0.000       1.556       2.633\n",
      "x1             1.3883      1.184      1.172      0.241      -0.933       3.709\n",
      "x2            -5.4602      1.146     -4.765      0.000      -7.706      -3.214\n",
      "x3            -2.9873      1.709     -1.748      0.081      -6.338       0.363\n",
      "x4             1.2239      1.652      0.741      0.459      -2.015       4.463\n",
      "x5             3.6523      1.040      3.511      0.000       1.613       5.691\n",
      "x6            -2.0340      0.771     -2.637      0.008      -3.546      -0.522\n",
      "x7             0.2490      0.846      0.294      0.768      -1.409       1.907\n",
      "x8             0.3958      0.322      1.227      0.220      -0.236       1.028\n",
      "==============================================================================\n"
     ]
    }
   ],
   "source": [
    "# Name the model, and set the model to the function.\n",
    "# Use the add_constant() function to determine the value of y when X=0.\n",
    "logit_model = sm.MNLogit(y_train, sm.add_constant(X_train))\n",
    "\n",
    "# Specify how the function returns the results.\n",
    "result = logit_model.fit()  \n",
    "\n",
    "# Print the report as a result.summary() function: \n",
    "print(\"Summary for Sex:I/M :\\n \", result.summary())"
   ]
  },
  {
   "cell_type": "code",
   "execution_count": 11,
   "id": "0d085206",
   "metadata": {},
   "outputs": [
    {
     "data": {
      "image/png": "[encoded data removed]",
      "text/plain": [
       "<Figure size 1000x1000 with 1 Axes>"
      ]
     },
     "metadata": {},
     "output_type": "display_data"
    }
   ],
   "source": [
    "# Define confusion matrix.\n",
    "cm = confusion_matrix(y_test, preds)  \n",
    "\n",
    "# Create visualisation for the MLR.\n",
    "fig, ax = plt.subplots(figsize=(10, 10))\n",
    "ax.imshow(cm)\n",
    "ax.grid(False)\n",
    "ax.xaxis.set(ticks=(0, 1, 2),\n",
    "             ticklabels=('female', 'infant', 'male'))\n",
    "ax.yaxis.set(ticks=(0, 1, 2),\n",
    "             ticklabels=('female', 'infant', 'male'))\n",
    "\n",
    "# ax.set_ylim(1.5, -0.5)\n",
    "for i in range(3):\n",
    "    for j in range(3):\n",
    "        ax.text(j, i, cm[i, j],\n",
    "                ha='center',\n",
    "                va='center',\n",
    "                color='white',\n",
    "                size='xx-large')\n",
    "        \n",
    "# Sets the labels.\n",
    "plt.xlabel('Predictions', fontsize=16)\n",
    "plt.ylabel('Actuals', fontsize=16)\n",
    "plt.title('Confusion Matrix', fontsize=15)\n",
    "\n",
    "plt.show()"
   ]
  },
  {
   "cell_type": "code",
   "execution_count": 12,
   "id": "34ea3567",
   "metadata": {},
   "outputs": [
    {
     "data": {
      "text/html": [
       "<div>\n",
       "<style scoped>\n",
       "    .dataframe tbody tr th:only-of-type {\n",
       "        vertical-align: middle;\n",
       "    }\n",
       "\n",
       "    .dataframe tbody tr th {\n",
       "        vertical-align: top;\n",
       "    }\n",
       "\n",
       "    .dataframe thead th {\n",
       "        text-align: right;\n",
       "    }\n",
       "</style>\n",
       "<table border=\"1\" class=\"dataframe\">\n",
       "  <thead>\n",
       "    <tr style=\"text-align: right;\">\n",
       "      <th></th>\n",
       "      <th>predicted_female</th>\n",
       "      <th>predicted_infant</th>\n",
       "      <th>predicted_male</th>\n",
       "    </tr>\n",
       "  </thead>\n",
       "  <tbody>\n",
       "    <tr>\n",
       "      <th>female</th>\n",
       "      <td>314</td>\n",
       "      <td>160</td>\n",
       "      <td>460</td>\n",
       "    </tr>\n",
       "    <tr>\n",
       "      <th>infant</th>\n",
       "      <td>57</td>\n",
       "      <td>676</td>\n",
       "      <td>110</td>\n",
       "    </tr>\n",
       "    <tr>\n",
       "      <th>male</th>\n",
       "      <td>304</td>\n",
       "      <td>244</td>\n",
       "      <td>521</td>\n",
       "    </tr>\n",
       "  </tbody>\n",
       "</table>\n",
       "</div>"
      ],
      "text/plain": [
       "        predicted_female  predicted_infant  predicted_male\n",
       "female               314               160             460\n",
       "infant                57               676             110\n",
       "male                 304               244             521"
      ]
     },
     "execution_count": 12,
     "metadata": {},
     "output_type": "execute_result"
    }
   ],
   "source": [
    "# Create and print a confusion matrix:\n",
    "# y_test as the first argument and the predictions as the second argument. \n",
    "confusion_matrix(y_test, preds)\n",
    "\n",
    "# Transform confusion matrix into an array.\n",
    "cmatrix = np.array(confusion_matrix(y_test, preds))\n",
    "\n",
    "# Create the DataFrame from cmatrix array. \n",
    "pd.DataFrame(cmatrix, index=['female','infant', 'male'],\n",
    "columns=['predicted_female', 'predicted_infant', 'predicted_male'])"
   ]
  },
  {
   "cell_type": "code",
   "execution_count": 13,
   "id": "31aea5ab",
   "metadata": {},
   "outputs": [
    {
     "name": "stdout",
     "output_type": "stream",
     "text": [
      "Accuracy score: 0.5309205903021785\n",
      "              precision    recall  f1-score   support\n",
      "\n",
      "      female       0.47      0.34      0.39       934\n",
      "      infant       0.63      0.80      0.70       843\n",
      "        male       0.48      0.49      0.48      1069\n",
      "\n",
      "    accuracy                           0.53      2846\n",
      "   macro avg       0.52      0.54      0.53      2846\n",
      "weighted avg       0.52      0.53      0.52      2846\n",
      "\n"
     ]
    }
   ],
   "source": [
    "# Determine accuracy statistics.\n",
    "print('Accuracy score:', metrics.accuracy_score(y_test, preds))  \n",
    "\n",
    "# Create a classification report.\n",
    "class_report=classification_report(y_test, preds)\n",
    "\n",
    "print(class_report)"
   ]
  },
  {
   "cell_type": "code",
   "execution_count": null,
   "id": "c1f6ef0b",
   "metadata": {},
   "outputs": [],
   "source": []
  }
 ],
 "metadata": {
  "kernelspec": {
   "display_name": "Python 3 (ipykernel)",
   "language": "python",
   "name": "python3"
  },
  "language_info": {
   "codemirror_mode": {
    "name": "ipython",
    "version": 3
   },
   "file_extension": ".py",
   "mimetype": "text/x-python",
   "name": "python",
   "nbconvert_exporter": "python",
   "pygments_lexer": "ipython3",
   "version": "3.9.13"
  }
 },
 "nbformat": 4,
 "nbformat_minor": 5
}
