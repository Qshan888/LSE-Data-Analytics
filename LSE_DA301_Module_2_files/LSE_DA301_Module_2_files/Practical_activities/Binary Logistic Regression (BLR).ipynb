{
 "cells": [
  {
   "cell_type": "code",
   "execution_count": 16,
   "id": "83facfa1",
   "metadata": {},
   "outputs": [
    {
     "name": "stdout",
     "output_type": "stream",
     "text": [
      "<class 'pandas.core.frame.DataFrame'>\n",
      "RangeIndex: 41188 entries, 0 to 41187\n",
      "Data columns (total 13 columns):\n",
      " #   Column         Non-Null Count  Dtype  \n",
      "---  ------         --------------  -----  \n",
      " 0   Age            41188 non-null  int64  \n",
      " 1   Edu            41188 non-null  object \n",
      " 2   Comm           41188 non-null  object \n",
      " 3   Duration       41188 non-null  int64  \n",
      " 4   Campaign       41188 non-null  int64  \n",
      " 5   PosDays        41188 non-null  int64  \n",
      " 6   Last_out       41188 non-null  object \n",
      " 7   Var_rate       41188 non-null  float64\n",
      " 8   Price_idx      41188 non-null  float64\n",
      " 9   Conf_idx       41188 non-null  float64\n",
      " 10  Month_rate     41188 non-null  float64\n",
      " 11  Quarterly_emp  41188 non-null  float64\n",
      " 12  Target         41188 non-null  int64  \n",
      "dtypes: float64(5), int64(5), object(3)\n",
      "memory usage: 4.1+ MB\n",
      "None\n"
     ]
    },
    {
     "data": {
      "text/html": [
       "<div>\n",
       "<style scoped>\n",
       "    .dataframe tbody tr th:only-of-type {\n",
       "        vertical-align: middle;\n",
       "    }\n",
       "\n",
       "    .dataframe tbody tr th {\n",
       "        vertical-align: top;\n",
       "    }\n",
       "\n",
       "    .dataframe thead th {\n",
       "        text-align: right;\n",
       "    }\n",
       "</style>\n",
       "<table border=\"1\" class=\"dataframe\">\n",
       "  <thead>\n",
       "    <tr style=\"text-align: right;\">\n",
       "      <th></th>\n",
       "      <th>Age</th>\n",
       "      <th>Edu</th>\n",
       "      <th>Comm</th>\n",
       "      <th>Duration</th>\n",
       "      <th>Campaign</th>\n",
       "      <th>PosDays</th>\n",
       "      <th>Last_out</th>\n",
       "      <th>Var_rate</th>\n",
       "      <th>Price_idx</th>\n",
       "      <th>Conf_idx</th>\n",
       "      <th>Month_rate</th>\n",
       "      <th>Quarterly_emp</th>\n",
       "      <th>Target</th>\n",
       "    </tr>\n",
       "  </thead>\n",
       "  <tbody>\n",
       "    <tr>\n",
       "      <th>0</th>\n",
       "      <td>44</td>\n",
       "      <td>basic.4y</td>\n",
       "      <td>cellular</td>\n",
       "      <td>210</td>\n",
       "      <td>1</td>\n",
       "      <td>999</td>\n",
       "      <td>nonexistent</td>\n",
       "      <td>1.4</td>\n",
       "      <td>93.444</td>\n",
       "      <td>-36.1</td>\n",
       "      <td>4.963</td>\n",
       "      <td>5228.1</td>\n",
       "      <td>0</td>\n",
       "    </tr>\n",
       "    <tr>\n",
       "      <th>1</th>\n",
       "      <td>53</td>\n",
       "      <td>unknown</td>\n",
       "      <td>cellular</td>\n",
       "      <td>138</td>\n",
       "      <td>1</td>\n",
       "      <td>999</td>\n",
       "      <td>nonexistent</td>\n",
       "      <td>-0.1</td>\n",
       "      <td>93.200</td>\n",
       "      <td>-42.0</td>\n",
       "      <td>4.021</td>\n",
       "      <td>5195.8</td>\n",
       "      <td>0</td>\n",
       "    </tr>\n",
       "    <tr>\n",
       "      <th>2</th>\n",
       "      <td>28</td>\n",
       "      <td>university.degree</td>\n",
       "      <td>cellular</td>\n",
       "      <td>339</td>\n",
       "      <td>3</td>\n",
       "      <td>6</td>\n",
       "      <td>success</td>\n",
       "      <td>-1.7</td>\n",
       "      <td>94.055</td>\n",
       "      <td>-39.8</td>\n",
       "      <td>0.729</td>\n",
       "      <td>4991.6</td>\n",
       "      <td>1</td>\n",
       "    </tr>\n",
       "    <tr>\n",
       "      <th>3</th>\n",
       "      <td>39</td>\n",
       "      <td>high.school</td>\n",
       "      <td>cellular</td>\n",
       "      <td>185</td>\n",
       "      <td>2</td>\n",
       "      <td>999</td>\n",
       "      <td>nonexistent</td>\n",
       "      <td>-1.8</td>\n",
       "      <td>93.075</td>\n",
       "      <td>-47.1</td>\n",
       "      <td>1.405</td>\n",
       "      <td>5099.1</td>\n",
       "      <td>0</td>\n",
       "    </tr>\n",
       "    <tr>\n",
       "      <th>4</th>\n",
       "      <td>55</td>\n",
       "      <td>basic.4y</td>\n",
       "      <td>cellular</td>\n",
       "      <td>137</td>\n",
       "      <td>1</td>\n",
       "      <td>3</td>\n",
       "      <td>success</td>\n",
       "      <td>-2.9</td>\n",
       "      <td>92.201</td>\n",
       "      <td>-31.4</td>\n",
       "      <td>0.869</td>\n",
       "      <td>5076.2</td>\n",
       "      <td>1</td>\n",
       "    </tr>\n",
       "  </tbody>\n",
       "</table>\n",
       "</div>"
      ],
      "text/plain": [
       "   Age                Edu      Comm  Duration  Campaign  PosDays     Last_out  \\\n",
       "0   44           basic.4y  cellular       210         1      999  nonexistent   \n",
       "1   53            unknown  cellular       138         1      999  nonexistent   \n",
       "2   28  university.degree  cellular       339         3        6      success   \n",
       "3   39        high.school  cellular       185         2      999  nonexistent   \n",
       "4   55           basic.4y  cellular       137         1        3      success   \n",
       "\n",
       "   Var_rate  Price_idx  Conf_idx  Month_rate  Quarterly_emp  Target  \n",
       "0       1.4     93.444     -36.1       4.963         5228.1       0  \n",
       "1      -0.1     93.200     -42.0       4.021         5195.8       0  \n",
       "2      -1.7     94.055     -39.8       0.729         4991.6       1  \n",
       "3      -1.8     93.075     -47.1       1.405         5099.1       0  \n",
       "4      -2.9     92.201     -31.4       0.869         5076.2       1  "
      ]
     },
     "execution_count": 16,
     "metadata": {},
     "output_type": "execute_result"
    }
   ],
   "source": [
    "# Import all the necessary packages.\n",
    "import pandas as pd\n",
    "import numpy as np\n",
    "\n",
    "# Read the provided CSV file/data set.\n",
    "df = pd.read_csv('../Data/customer_data.csv') \n",
    "\n",
    "# Print the output.\n",
    "print(df.info())\n",
    "df.head()"
   ]
  },
  {
   "cell_type": "code",
   "execution_count": 17,
   "id": "66a57ed2",
   "metadata": {},
   "outputs": [
    {
     "data": {
      "text/plain": [
       "0    36548\n",
       "1     4640\n",
       "Name: Target, dtype: int64"
      ]
     },
     "execution_count": 17,
     "metadata": {},
     "output_type": "execute_result"
    }
   ],
   "source": [
    "df['Target'].value_counts() "
   ]
  },
  {
   "cell_type": "code",
   "execution_count": 18,
   "id": "f4cd8826",
   "metadata": {},
   "outputs": [
    {
     "data": {
      "text/plain": [
       "university.degree      12168\n",
       "high.school             9515\n",
       "basic.9y                6045\n",
       "professional.course     5243\n",
       "basic.4y                4176\n",
       "basic.6y                2292\n",
       "unknown                 1731\n",
       "illiterate                18\n",
       "Name: Edu, dtype: int64"
      ]
     },
     "execution_count": 18,
     "metadata": {},
     "output_type": "execute_result"
    }
   ],
   "source": [
    "# Specify the DataFrame column, and add/determine the values.\n",
    "df['Edu'].value_counts() "
   ]
  },
  {
   "cell_type": "code",
   "execution_count": 19,
   "id": "603d8c09",
   "metadata": {},
   "outputs": [
    {
     "data": {
      "text/plain": [
       "array(['pre-school', 'other', 'uni', 'high-school', 'masters'],\n",
       "      dtype=object)"
      ]
     },
     "execution_count": 19,
     "metadata": {},
     "output_type": "execute_result"
    }
   ],
   "source": [
    "# Create two lists: one with initial and one with new values.\n",
    "intial_vals = ['illiterate', 'unknown', 'basic',\n",
    "               'high', 'university', 'professional']\n",
    "\n",
    "new_vals = ['other', 'other', 'pre-school',\n",
    "            'high-school', 'uni', 'masters']\n",
    "\n",
    "# Create a for loop to replace the values.\n",
    "for old_val, new_val in zip(intial_vals, new_vals):\n",
    "    df.loc[df['Edu'].str.contains(old_val),'Edu' ] = new_val\n",
    "\n",
    "# Display all the unique values/check changes.\n",
    "df['Edu'].unique() "
   ]
  },
  {
   "cell_type": "code",
   "execution_count": 20,
   "id": "12199085",
   "metadata": {},
   "outputs": [
    {
     "data": {
      "text/plain": [
       "pre-school     12513\n",
       "uni            12168\n",
       "high-school     9515\n",
       "masters         5243\n",
       "other           1749\n",
       "Name: Edu, dtype: int64"
      ]
     },
     "execution_count": 20,
     "metadata": {},
     "output_type": "execute_result"
    }
   ],
   "source": [
    "# Specify the DataFrame column, and add/determine the values.\n",
    "df['Edu'].value_counts() "
   ]
  },
  {
   "cell_type": "code",
   "execution_count": 22,
   "id": "dcbd28e4",
   "metadata": {},
   "outputs": [
    {
     "name": "stdout",
     "output_type": "stream",
     "text": [
      "   Age  Edu      Comm  Duration  Campaign  PosDays     Last_out  Var_rate  \\\n",
      "0   44    1  cellular       210         1      999  nonexistent       1.4   \n",
      "1   53    0  cellular       138         1      999  nonexistent      -0.1   \n",
      "2   28    3  cellular       339         3        6      success      -1.7   \n",
      "3   39    2  cellular       185         2      999  nonexistent      -1.8   \n",
      "4   55    1  cellular       137         1        3      success      -2.9   \n",
      "\n",
      "   Price_idx  Conf_idx  Month_rate  Quarterly_emp  Target  \n",
      "0     93.444     -36.1       4.963         5228.1       0  \n",
      "1     93.200     -42.0       4.021         5195.8       0  \n",
      "2     94.055     -39.8       0.729         4991.6       1  \n",
      "3     93.075     -47.1       1.405         5099.1       0  \n",
      "4     92.201     -31.4       0.869         5076.2       1  \n"
     ]
    }
   ],
   "source": [
    "#The order of the Edu column is meaningful and the order matters, so apply LabelEncoder to this column. \n",
    "from sklearn.preprocessing import LabelEncoder\n",
    "from sklearn.utils.validation import column_or_1d\n",
    "import pandas as pd\n",
    "import numpy as np\n",
    "\n",
    "# Create a class and write a user-defined function.\n",
    "class MyLabelEncoder(LabelEncoder):\n",
    "    def fit(self, y):\n",
    "        y = column_or_1d(y, warn=True)\n",
    "        self.classes_ = pd.Series(y).unique()\n",
    "        return self\n",
    "\n",
    "# Order lists of the values for the Edu column.\n",
    "Edu_order = ['other', 'pre-school', 'high-school', 'uni', 'masters']\n",
    "\n",
    "# Create an instance of MyLabelEncoder.\n",
    "le = MyLabelEncoder()\n",
    "\n",
    "# Fit the encoder with the ordered values.\n",
    "le.fit(Edu_order)\n",
    "\n",
    "# Apply the LabelEncoder to the Edu column in the DataFrame.\n",
    "df['Edu'] = df['Edu'].apply(lambda x: x if x in Edu_order else 'other')\n",
    "df['Edu'] = le.transform(df['Edu'])\n",
    "\n",
    "# View the DataFrame\n",
    "print(df.head())"
   ]
  },
  {
   "cell_type": "code",
   "execution_count": 23,
   "id": "2783e2bc",
   "metadata": {},
   "outputs": [
    {
     "name": "stdout",
     "output_type": "stream",
     "text": [
      "   Age  Edu  Duration  Campaign  PosDays  Var_rate  Price_idx  Conf_idx  \\\n",
      "0   44    1       210         1      999       1.4     93.444     -36.1   \n",
      "1   53    0       138         1      999      -0.1     93.200     -42.0   \n",
      "2   28    3       339         3        6      -1.7     94.055     -39.8   \n",
      "3   39    2       185         2      999      -1.8     93.075     -47.1   \n",
      "4   55    1       137         1        3      -2.9     92.201     -31.4   \n",
      "\n",
      "   Month_rate  Quarterly_emp  Target  Comm_telephone  Last_out_nonexistent  \\\n",
      "0       4.963         5228.1       0               0                     1   \n",
      "1       4.021         5195.8       0               0                     1   \n",
      "2       0.729         4991.6       1               0                     0   \n",
      "3       1.405         5099.1       0               0                     1   \n",
      "4       0.869         5076.2       1               0                     0   \n",
      "\n",
      "   Last_out_success  \n",
      "0                 0  \n",
      "1                 0  \n",
      "2                 1  \n",
      "3                 0  \n",
      "4                 1  \n"
     ]
    }
   ],
   "source": [
    "# Create dummy variables for 'Comm' column\n",
    "comm_dummies = pd.get_dummies(df['Comm'], prefix='Comm', drop_first = True)\n",
    "df = pd.concat([df, comm_dummies.astype(int)], axis=1)\n",
    "\n",
    "# Create dummy variables for 'Last_out' column\n",
    "last_out_dummies = pd.get_dummies(df['Last_out'], prefix='Last_out', drop_first = True)\n",
    "\n",
    "# Join the new columns to the DataFrame.\n",
    "df = pd.concat([df, last_out_dummies.astype(int)], axis=1)\n",
    "\n",
    "# Drop the original string columns\n",
    "df.drop(['Comm', 'Last_out'], axis=1, inplace=True)\n",
    "\n",
    "# View the updated DataFrame\n",
    "print(df.head())"
   ]
  },
  {
   "cell_type": "code",
   "execution_count": 24,
   "id": "e4b47302",
   "metadata": {},
   "outputs": [
    {
     "data": {
      "text/html": [
       "<div>\n",
       "<style scoped>\n",
       "    .dataframe tbody tr th:only-of-type {\n",
       "        vertical-align: middle;\n",
       "    }\n",
       "\n",
       "    .dataframe tbody tr th {\n",
       "        vertical-align: top;\n",
       "    }\n",
       "\n",
       "    .dataframe thead th {\n",
       "        text-align: right;\n",
       "    }\n",
       "</style>\n",
       "<table border=\"1\" class=\"dataframe\">\n",
       "  <thead>\n",
       "    <tr style=\"text-align: right;\">\n",
       "      <th></th>\n",
       "      <th>feature</th>\n",
       "      <th>VIF</th>\n",
       "    </tr>\n",
       "  </thead>\n",
       "  <tbody>\n",
       "    <tr>\n",
       "      <th>3</th>\n",
       "      <td>Campaign</td>\n",
       "      <td>1.926684</td>\n",
       "    </tr>\n",
       "    <tr>\n",
       "      <th>2</th>\n",
       "      <td>Duration</td>\n",
       "      <td>2.014870</td>\n",
       "    </tr>\n",
       "    <tr>\n",
       "      <th>10</th>\n",
       "      <td>Comm_telephone</td>\n",
       "      <td>2.686394</td>\n",
       "    </tr>\n",
       "    <tr>\n",
       "      <th>1</th>\n",
       "      <td>Edu</td>\n",
       "      <td>4.900108</td>\n",
       "    </tr>\n",
       "    <tr>\n",
       "      <th>12</th>\n",
       "      <td>Last_out_success</td>\n",
       "      <td>10.765626</td>\n",
       "    </tr>\n",
       "    <tr>\n",
       "      <th>11</th>\n",
       "      <td>Last_out_nonexistent</td>\n",
       "      <td>11.731718</td>\n",
       "    </tr>\n",
       "    <tr>\n",
       "      <th>0</th>\n",
       "      <td>Age</td>\n",
       "      <td>16.313230</td>\n",
       "    </tr>\n",
       "    <tr>\n",
       "      <th>5</th>\n",
       "      <td>Var_rate</td>\n",
       "      <td>30.491577</td>\n",
       "    </tr>\n",
       "    <tr>\n",
       "      <th>7</th>\n",
       "      <td>Conf_idx</td>\n",
       "      <td>121.607578</td>\n",
       "    </tr>\n",
       "    <tr>\n",
       "      <th>8</th>\n",
       "      <td>Month_rate</td>\n",
       "      <td>260.184876</td>\n",
       "    </tr>\n",
       "    <tr>\n",
       "      <th>4</th>\n",
       "      <td>PosDays</td>\n",
       "      <td>301.074630</td>\n",
       "    </tr>\n",
       "    <tr>\n",
       "      <th>6</th>\n",
       "      <td>Price_idx</td>\n",
       "      <td>30621.820568</td>\n",
       "    </tr>\n",
       "    <tr>\n",
       "      <th>9</th>\n",
       "      <td>Quarterly_emp</td>\n",
       "      <td>36051.029811</td>\n",
       "    </tr>\n",
       "  </tbody>\n",
       "</table>\n",
       "</div>"
      ],
      "text/plain": [
       "                 feature           VIF\n",
       "3               Campaign      1.926684\n",
       "2               Duration      2.014870\n",
       "10        Comm_telephone      2.686394\n",
       "1                    Edu      4.900108\n",
       "12      Last_out_success     10.765626\n",
       "11  Last_out_nonexistent     11.731718\n",
       "0                    Age     16.313230\n",
       "5               Var_rate     30.491577\n",
       "7               Conf_idx    121.607578\n",
       "8             Month_rate    260.184876\n",
       "4                PosDays    301.074630\n",
       "6              Price_idx  30621.820568\n",
       "9          Quarterly_emp  36051.029811"
      ]
     },
     "execution_count": 24,
     "metadata": {},
     "output_type": "execute_result"
    }
   ],
   "source": [
    "# Set the variables.\n",
    "X = df.drop('Target', axis = 1)\n",
    "y = df['Target']\n",
    "\n",
    "# Import the VIF package.\n",
    "from statsmodels.stats.outliers_influence import variance_inflation_factor\n",
    "\n",
    "# Create a VIF dataframe.\n",
    "vif_data = pd.DataFrame()\n",
    "vif_data['feature'] = X.columns\n",
    "  \n",
    "# Calculate VIF for each feature.\n",
    "vif_data['VIF'] = [variance_inflation_factor(X.values, i)\n",
    "                          for i in range(len(X.columns))]\n",
    "\n",
    "# View the DataFrame.\n",
    "vif_data.sort_values('VIF',ascending=True)"
   ]
  },
  {
   "cell_type": "code",
   "execution_count": 25,
   "id": "f759eae0",
   "metadata": {},
   "outputs": [
    {
     "name": "stdout",
     "output_type": "stream",
     "text": [
      "(41188, 4)\n"
     ]
    },
    {
     "data": {
      "text/html": [
       "<div>\n",
       "<style scoped>\n",
       "    .dataframe tbody tr th:only-of-type {\n",
       "        vertical-align: middle;\n",
       "    }\n",
       "\n",
       "    .dataframe tbody tr th {\n",
       "        vertical-align: top;\n",
       "    }\n",
       "\n",
       "    .dataframe thead th {\n",
       "        text-align: right;\n",
       "    }\n",
       "</style>\n",
       "<table border=\"1\" class=\"dataframe\">\n",
       "  <thead>\n",
       "    <tr style=\"text-align: right;\">\n",
       "      <th></th>\n",
       "      <th>Edu</th>\n",
       "      <th>Duration</th>\n",
       "      <th>Campaign</th>\n",
       "      <th>Comm_telephone</th>\n",
       "    </tr>\n",
       "  </thead>\n",
       "  <tbody>\n",
       "    <tr>\n",
       "      <th>0</th>\n",
       "      <td>1</td>\n",
       "      <td>210</td>\n",
       "      <td>1</td>\n",
       "      <td>0</td>\n",
       "    </tr>\n",
       "    <tr>\n",
       "      <th>1</th>\n",
       "      <td>0</td>\n",
       "      <td>138</td>\n",
       "      <td>1</td>\n",
       "      <td>0</td>\n",
       "    </tr>\n",
       "    <tr>\n",
       "      <th>2</th>\n",
       "      <td>3</td>\n",
       "      <td>339</td>\n",
       "      <td>3</td>\n",
       "      <td>0</td>\n",
       "    </tr>\n",
       "    <tr>\n",
       "      <th>3</th>\n",
       "      <td>2</td>\n",
       "      <td>185</td>\n",
       "      <td>2</td>\n",
       "      <td>0</td>\n",
       "    </tr>\n",
       "    <tr>\n",
       "      <th>4</th>\n",
       "      <td>1</td>\n",
       "      <td>137</td>\n",
       "      <td>1</td>\n",
       "      <td>0</td>\n",
       "    </tr>\n",
       "  </tbody>\n",
       "</table>\n",
       "</div>"
      ],
      "text/plain": [
       "   Edu  Duration  Campaign  Comm_telephone\n",
       "0    1       210         1               0\n",
       "1    0       138         1               0\n",
       "2    3       339         3               0\n",
       "3    2       185         2               0\n",
       "4    1       137         1               0"
      ]
     },
     "execution_count": 25,
     "metadata": {},
     "output_type": "execute_result"
    }
   ],
   "source": [
    "# Drop the columns with VIF > 10 to avoid multicollinearity problems.\n",
    "X = X.drop(['Last_out_success', 'Last_out_nonexistent', 'Age', 'Var_rate', 'PosDays', 'Conf_idx',\n",
    "              'Month_rate', 'Price_idx', 'Quarterly_emp'],\n",
    "             axis = 1)\n",
    "\n",
    "# View the DataFrame.\n",
    "print(X.shape)\n",
    "X.head()"
   ]
  },
  {
   "cell_type": "code",
   "execution_count": 26,
   "id": "e3d22443",
   "metadata": {},
   "outputs": [
    {
     "data": {
      "text/html": [
       "<div>\n",
       "<style scoped>\n",
       "    .dataframe tbody tr th:only-of-type {\n",
       "        vertical-align: middle;\n",
       "    }\n",
       "\n",
       "    .dataframe tbody tr th {\n",
       "        vertical-align: top;\n",
       "    }\n",
       "\n",
       "    .dataframe thead th {\n",
       "        text-align: right;\n",
       "    }\n",
       "</style>\n",
       "<table border=\"1\" class=\"dataframe\">\n",
       "  <thead>\n",
       "    <tr style=\"text-align: right;\">\n",
       "      <th></th>\n",
       "      <th>feature</th>\n",
       "      <th>VIF</th>\n",
       "    </tr>\n",
       "  </thead>\n",
       "  <tbody>\n",
       "    <tr>\n",
       "      <th>3</th>\n",
       "      <td>Comm_telephone</td>\n",
       "      <td>1.425652</td>\n",
       "    </tr>\n",
       "    <tr>\n",
       "      <th>2</th>\n",
       "      <td>Campaign</td>\n",
       "      <td>1.667600</td>\n",
       "    </tr>\n",
       "    <tr>\n",
       "      <th>1</th>\n",
       "      <td>Duration</td>\n",
       "      <td>1.676029</td>\n",
       "    </tr>\n",
       "    <tr>\n",
       "      <th>0</th>\n",
       "      <td>Edu</td>\n",
       "      <td>2.193722</td>\n",
       "    </tr>\n",
       "  </tbody>\n",
       "</table>\n",
       "</div>"
      ],
      "text/plain": [
       "          feature       VIF\n",
       "3  Comm_telephone  1.425652\n",
       "2        Campaign  1.667600\n",
       "1        Duration  1.676029\n",
       "0             Edu  2.193722"
      ]
     },
     "execution_count": 26,
     "metadata": {},
     "output_type": "execute_result"
    }
   ],
   "source": [
    "# Recalculate VIF after removal of columns.\n",
    "# VIF dataframe.\n",
    "vif_data2 = pd.DataFrame()\n",
    "vif_data2['feature'] = X.columns\n",
    "  \n",
    "# Calculate VIF for each feature.\n",
    "vif_data2['VIF'] = [variance_inflation_factor(X.values, i)\n",
    "                          for i in range(len(X.columns))]\n",
    "\n",
    "# View the DataFrame.\n",
    "vif_data2.sort_values('VIF',ascending=True)"
   ]
  },
  {
   "cell_type": "code",
   "execution_count": 27,
   "id": "def2215f",
   "metadata": {},
   "outputs": [
    {
     "data": {
      "text/plain": [
       "0    36548\n",
       "1     4640\n",
       "Name: Target, dtype: int64"
      ]
     },
     "execution_count": 27,
     "metadata": {},
     "output_type": "execute_result"
    }
   ],
   "source": [
    "# Determine whether values in a column are balanced.\n",
    "df['Target'].value_counts()  "
   ]
  },
  {
   "cell_type": "code",
   "execution_count": 28,
   "id": "0770fab2",
   "metadata": {},
   "outputs": [
    {
     "data": {
      "text/plain": [
       "Text(0.5, 1.0, 'Target Imbalance')"
      ]
     },
     "execution_count": 28,
     "metadata": {},
     "output_type": "execute_result"
    },
    {
     "data": {
      "image/png": "[encoded data removed]",
      "text/plain": [
       "<Figure size 640x480 with 1 Axes>"
      ]
     },
     "metadata": {},
     "output_type": "display_data"
    }
   ],
   "source": [
    "# Create a plot with Seaborn.\n",
    "import seaborn as sns\n",
    "\n",
    "sns.set_theme(style='darkgrid')\n",
    "ax = sns.countplot(x='Target', data=df)\n",
    "ax.set_title('Target Imbalance')"
   ]
  },
  {
   "cell_type": "code",
   "execution_count": 29,
   "id": "352e96e9",
   "metadata": {},
   "outputs": [
    {
     "name": "stdout",
     "output_type": "stream",
     "text": [
      "Collecting imblearn\n",
      "  Downloading imblearn-0.0-py2.py3-none-any.whl (1.9 kB)\n",
      "Collecting imbalanced-learn (from imblearn)\n",
      "  Obtaining dependency information for imbalanced-learn from https://files.pythonhosted.org/packages/a3/9e/fbe60a768502af54563dcb59ca7856f5a8833b3ad5ada658922e1ab09b7f/imbalanced_learn-0.11.0-py3-none-any.whl.metadata\n",
      "  Downloading imbalanced_learn-0.11.0-py3-none-any.whl.metadata (8.3 kB)\n",
      "Requirement already satisfied: numpy>=1.17.3 in /Users/codyshan/opt/anaconda3/lib/python3.9/site-packages (from imbalanced-learn->imblearn) (1.21.5)\n",
      "Requirement already satisfied: scipy>=1.5.0 in /Users/codyshan/opt/anaconda3/lib/python3.9/site-packages (from imbalanced-learn->imblearn) (1.9.1)\n",
      "Requirement already satisfied: scikit-learn>=1.0.2 in /Users/codyshan/opt/anaconda3/lib/python3.9/site-packages (from imbalanced-learn->imblearn) (1.0.2)\n",
      "Collecting joblib>=1.1.1 (from imbalanced-learn->imblearn)\n",
      "  Obtaining dependency information for joblib>=1.1.1 from https://files.pythonhosted.org/packages/10/40/d551139c85db202f1f384ba8bcf96aca2f329440a844f924c8a0040b6d02/joblib-1.3.2-py3-none-any.whl.metadata\n",
      "  Downloading joblib-1.3.2-py3-none-any.whl.metadata (5.4 kB)\n",
      "Requirement already satisfied: threadpoolctl>=2.0.0 in /Users/codyshan/opt/anaconda3/lib/python3.9/site-packages (from imbalanced-learn->imblearn) (2.2.0)\n",
      "Downloading imbalanced_learn-0.11.0-py3-none-any.whl (235 kB)\n",
      "\u001b[2K   \u001b[90m━━━━━━━━━━━━━━━━━━━━━━━━━━━━━━━━━━━━━━━━\u001b[0m \u001b[32m235.6/235.6 kB\u001b[0m \u001b[31m10.5 MB/s\u001b[0m eta \u001b[36m0:00:00\u001b[0m\n",
      "\u001b[?25hDownloading joblib-1.3.2-py3-none-any.whl (302 kB)\n",
      "\u001b[2K   \u001b[90m━━━━━━━━━━━━━━━━━━━━━━━━━━━━━━━━━━━━━━━━\u001b[0m \u001b[32m302.2/302.2 kB\u001b[0m \u001b[31m18.0 MB/s\u001b[0m eta \u001b[36m0:00:00\u001b[0m\n",
      "\u001b[?25hInstalling collected packages: joblib, imbalanced-learn, imblearn\n",
      "  Attempting uninstall: joblib\n",
      "    Found existing installation: joblib 1.1.0\n",
      "    Uninstalling joblib-1.1.0:\n",
      "      Successfully uninstalled joblib-1.1.0\n",
      "Successfully installed imbalanced-learn-0.11.0 imblearn-0.0 joblib-1.3.2\n",
      "Requirement already satisfied: scipy in /Users/codyshan/opt/anaconda3/lib/python3.9/site-packages (1.9.1)\n",
      "Requirement already satisfied: numpy<1.25.0,>=1.18.5 in /Users/codyshan/opt/anaconda3/lib/python3.9/site-packages (from scipy) (1.21.5)\n",
      "Requirement already satisfied: scikit-learn in /Users/codyshan/opt/anaconda3/lib/python3.9/site-packages (1.0.2)\n",
      "Requirement already satisfied: numpy>=1.14.6 in /Users/codyshan/opt/anaconda3/lib/python3.9/site-packages (from scikit-learn) (1.21.5)\n",
      "Requirement already satisfied: scipy>=1.1.0 in /Users/codyshan/opt/anaconda3/lib/python3.9/site-packages (from scikit-learn) (1.9.1)\n",
      "Requirement already satisfied: joblib>=0.11 in /Users/codyshan/opt/anaconda3/lib/python3.9/site-packages (from scikit-learn) (1.3.2)\n",
      "Requirement already satisfied: threadpoolctl>=2.0.0 in /Users/codyshan/opt/anaconda3/lib/python3.9/site-packages (from scikit-learn) (2.2.0)\n",
      "Collecting SMOTE\n",
      "  Downloading smote-0.1-py2.py3-none-any.whl (3.3 kB)\n",
      "Requirement already satisfied: numpy>=1.14.3 in /Users/codyshan/opt/anaconda3/lib/python3.9/site-packages (from SMOTE) (1.21.5)\n",
      "Requirement already satisfied: scikit-learn>=0.19.1 in /Users/codyshan/opt/anaconda3/lib/python3.9/site-packages (from SMOTE) (1.0.2)\n",
      "Requirement already satisfied: scipy>=1.1.0 in /Users/codyshan/opt/anaconda3/lib/python3.9/site-packages (from scikit-learn>=0.19.1->SMOTE) (1.9.1)\n",
      "Requirement already satisfied: joblib>=0.11 in /Users/codyshan/opt/anaconda3/lib/python3.9/site-packages (from scikit-learn>=0.19.1->SMOTE) (1.3.2)\n",
      "Requirement already satisfied: threadpoolctl>=2.0.0 in /Users/codyshan/opt/anaconda3/lib/python3.9/site-packages (from scikit-learn>=0.19.1->SMOTE) (2.2.0)\n",
      "Installing collected packages: SMOTE\n",
      "Successfully installed SMOTE-0.1\n"
     ]
    }
   ],
   "source": [
    "# Handles unbalanced data (scikit-learn needed)\n",
    "!pip install imblearn  \n",
    "\n",
    "# Optimised linear, algebra, integrations (scientific)\n",
    "!pip install scipy  \n",
    "\n",
    "# Simple tools for predictive data analytics\n",
    "!pip install scikit-learn  \n",
    "\n",
    "# Oversampling technique; creates new samples from data\n",
    "!pip install SMOTE "
   ]
  },
  {
   "cell_type": "code",
   "execution_count": 30,
   "id": "afd01ea2",
   "metadata": {},
   "outputs": [
    {
     "name": "stdout",
     "output_type": "stream",
     "text": [
      "   Edu  Duration  Campaign  Comm_telephone\n",
      "0    1       162         1               0\n",
      "1    3        62         1               0\n",
      "2    3       353         1               0\n",
      "3    1       420         4               1\n",
      "4    4       212         2               1\n"
     ]
    },
    {
     "data": {
      "text/html": [
       "<div>\n",
       "<style scoped>\n",
       "    .dataframe tbody tr th:only-of-type {\n",
       "        vertical-align: middle;\n",
       "    }\n",
       "\n",
       "    .dataframe tbody tr th {\n",
       "        vertical-align: top;\n",
       "    }\n",
       "\n",
       "    .dataframe thead th {\n",
       "        text-align: right;\n",
       "    }\n",
       "</style>\n",
       "<table border=\"1\" class=\"dataframe\">\n",
       "  <thead>\n",
       "    <tr style=\"text-align: right;\">\n",
       "      <th></th>\n",
       "      <th>Target</th>\n",
       "    </tr>\n",
       "  </thead>\n",
       "  <tbody>\n",
       "    <tr>\n",
       "      <th>0</th>\n",
       "      <td>0</td>\n",
       "    </tr>\n",
       "    <tr>\n",
       "      <th>1</th>\n",
       "      <td>0</td>\n",
       "    </tr>\n",
       "    <tr>\n",
       "      <th>2</th>\n",
       "      <td>1</td>\n",
       "    </tr>\n",
       "    <tr>\n",
       "      <th>3</th>\n",
       "      <td>0</td>\n",
       "    </tr>\n",
       "    <tr>\n",
       "      <th>4</th>\n",
       "      <td>0</td>\n",
       "    </tr>\n",
       "  </tbody>\n",
       "</table>\n",
       "</div>"
      ],
      "text/plain": [
       "   Target\n",
       "0       0\n",
       "1       0\n",
       "2       1\n",
       "3       0\n",
       "4       0"
      ]
     },
     "execution_count": 30,
     "metadata": {},
     "output_type": "execute_result"
    }
   ],
   "source": [
    "# Import all the necessary packages:\n",
    "import statsmodels.api as sm   \n",
    "import imblearn\n",
    "from imblearn.over_sampling import SMOTE  \n",
    "from sklearn.model_selection import train_test_split \n",
    "\n",
    "# Apply SMOTE class as the target variable is not balanced.\n",
    "os = SMOTE(random_state=0)\n",
    "X_train, X_test, y_train, y_test = train_test_split(X, y, test_size=0.3, random_state=42)\n",
    "\n",
    "# Balance the training data.\n",
    "os_data_X, os_data_y = os.fit_resample(X_train, y_train)  \n",
    "\n",
    "# Create two DataFrames for X and one for y:\n",
    "os_data_X = pd.DataFrame(data = os_data_X, columns = X.columns) \n",
    "os_data_y = pd.DataFrame(data = os_data_y, columns = ['Target'])\n",
    "\n",
    "# View DataFrame.\n",
    "print(os_data_X.head())\n",
    "os_data_y.head()"
   ]
  },
  {
   "cell_type": "code",
   "execution_count": 31,
   "id": "f4d9d3a4",
   "metadata": {},
   "outputs": [
    {
     "data": {
      "text/plain": [
       "0    25617\n",
       "1    25617\n",
       "Name: Target, dtype: int64"
      ]
     },
     "execution_count": 31,
     "metadata": {},
     "output_type": "execute_result"
    }
   ],
   "source": [
    "# Determine whether values in a column are balanced by counting the values.\n",
    "os_data_y['Target'].value_counts()"
   ]
  },
  {
   "cell_type": "code",
   "execution_count": 32,
   "id": "b5c7e680",
   "metadata": {},
   "outputs": [
    {
     "data": {
      "text/plain": [
       "Text(0.5, 1.0, 'New Balanced Target')"
      ]
     },
     "execution_count": 32,
     "metadata": {},
     "output_type": "execute_result"
    },
    {
     "data": {
      "image/png": "[encoded data removed]",
      "text/plain": [
       "<Figure size 640x480 with 1 Axes>"
      ]
     },
     "metadata": {},
     "output_type": "display_data"
    }
   ],
   "source": [
    "sns.set_theme(style ='darkgrid')\n",
    "ax = sns.countplot(x ='Target', data = os_data_y)\n",
    "ax.set_title(\"New Balanced Target\")"
   ]
  },
  {
   "cell_type": "code",
   "execution_count": 33,
   "id": "c0bdc22f",
   "metadata": {},
   "outputs": [
    {
     "data": {
      "image/png": "[encoded data removed]",
      "text/plain": [
       "<Figure size 640x480 with 1 Axes>"
      ]
     },
     "metadata": {},
     "output_type": "display_data"
    }
   ],
   "source": [
    "dur = sns.regplot(x = 'Duration',\n",
    "                  y= 'Target',\n",
    "                  data= df,\n",
    "                  logistic= True).set_title(\"Duration Log Odds Linear Plot\")"
   ]
  },
  {
   "cell_type": "code",
   "execution_count": 34,
   "id": "b2c653f3",
   "metadata": {},
   "outputs": [
    {
     "name": "stdout",
     "output_type": "stream",
     "text": [
      "Optimization terminated successfully.\n",
      "         Current function value: 0.448386\n",
      "         Iterations 7\n"
     ]
    },
    {
     "data": {
      "text/html": [
       "<table class=\"simpletable\">\n",
       "<caption>Logit Regression Results</caption>\n",
       "<tr>\n",
       "  <th>Dep. Variable:</th>        <td>Target</td>      <th>  No. Observations:  </th>  <td> 51234</td> \n",
       "</tr>\n",
       "<tr>\n",
       "  <th>Model:</th>                 <td>Logit</td>      <th>  Df Residuals:      </th>  <td> 51230</td> \n",
       "</tr>\n",
       "<tr>\n",
       "  <th>Method:</th>                 <td>MLE</td>       <th>  Df Model:          </th>  <td>     3</td> \n",
       "</tr>\n",
       "<tr>\n",
       "  <th>Date:</th>            <td>Sat, 30 Sep 2023</td> <th>  Pseudo R-squ.:     </th>  <td>0.3531</td> \n",
       "</tr>\n",
       "<tr>\n",
       "  <th>Time:</th>                <td>11:50:20</td>     <th>  Log-Likelihood:    </th> <td> -22973.</td>\n",
       "</tr>\n",
       "<tr>\n",
       "  <th>converged:</th>             <td>True</td>       <th>  LL-Null:           </th> <td> -35513.</td>\n",
       "</tr>\n",
       "<tr>\n",
       "  <th>Covariance Type:</th>     <td>nonrobust</td>    <th>  LLR p-value:       </th>  <td> 0.000</td> \n",
       "</tr>\n",
       "</table>\n",
       "<table class=\"simpletable\">\n",
       "<tr>\n",
       "         <td></td>           <th>coef</th>     <th>std err</th>      <th>z</th>      <th>P>|z|</th>  <th>[0.025</th>    <th>0.975]</th>  \n",
       "</tr>\n",
       "<tr>\n",
       "  <th>Edu</th>            <td>   -0.1724</td> <td>    0.008</td> <td>  -22.758</td> <td> 0.000</td> <td>   -0.187</td> <td>   -0.158</td>\n",
       "</tr>\n",
       "<tr>\n",
       "  <th>Duration</th>       <td>    0.0049</td> <td> 5.24e-05</td> <td>   92.713</td> <td> 0.000</td> <td>    0.005</td> <td>    0.005</td>\n",
       "</tr>\n",
       "<tr>\n",
       "  <th>Campaign</th>       <td>   -0.3994</td> <td>    0.008</td> <td>  -47.592</td> <td> 0.000</td> <td>   -0.416</td> <td>   -0.383</td>\n",
       "</tr>\n",
       "<tr>\n",
       "  <th>Comm_telephone</th> <td>   -2.7292</td> <td>    0.039</td> <td>  -70.483</td> <td> 0.000</td> <td>   -2.805</td> <td>   -2.653</td>\n",
       "</tr>\n",
       "</table>"
      ],
      "text/plain": [
       "<class 'statsmodels.iolib.summary.Summary'>\n",
       "\"\"\"\n",
       "                           Logit Regression Results                           \n",
       "==============================================================================\n",
       "Dep. Variable:                 Target   No. Observations:                51234\n",
       "Model:                          Logit   Df Residuals:                    51230\n",
       "Method:                           MLE   Df Model:                            3\n",
       "Date:                Sat, 30 Sep 2023   Pseudo R-squ.:                  0.3531\n",
       "Time:                        11:50:20   Log-Likelihood:                -22973.\n",
       "converged:                       True   LL-Null:                       -35513.\n",
       "Covariance Type:            nonrobust   LLR p-value:                     0.000\n",
       "==================================================================================\n",
       "                     coef    std err          z      P>|z|      [0.025      0.975]\n",
       "----------------------------------------------------------------------------------\n",
       "Edu               -0.1724      0.008    -22.758      0.000      -0.187      -0.158\n",
       "Duration           0.0049   5.24e-05     92.713      0.000       0.005       0.005\n",
       "Campaign          -0.3994      0.008    -47.592      0.000      -0.416      -0.383\n",
       "Comm_telephone    -2.7292      0.039    -70.483      0.000      -2.805      -2.653\n",
       "==================================================================================\n",
       "\"\"\""
      ]
     },
     "execution_count": 34,
     "metadata": {},
     "output_type": "execute_result"
    }
   ],
   "source": [
    "# Name the new DataFrame, and specify all the columns for BLR.\n",
    "nec_cols = nec_cols = os_data_X.columns\n",
    "\n",
    "# Set the independent variable.\n",
    "X = os_data_X[nec_cols]  \n",
    "\n",
    "# Set the dependent variable.\n",
    "y = os_data_y['Target']  \n",
    "\n",
    "# Set the logit() to accept y and X as parameters, and return the logit object.\n",
    "logit_model=sm.Logit(y, X)\n",
    "\n",
    "# Indicate result = logit_model.fit() function.\n",
    "result = logit_model.fit()  \n",
    "\n",
    "# Print the results.\n",
    "result.summary()"
   ]
  },
  {
   "cell_type": "code",
   "execution_count": 35,
   "id": "0fd44339",
   "metadata": {},
   "outputs": [
    {
     "data": {
      "text/plain": [
       "LogisticRegression(max_iter=1000)"
      ]
     },
     "execution_count": 35,
     "metadata": {},
     "output_type": "execute_result"
    }
   ],
   "source": [
    "# Import the necessary packages.\n",
    "from sklearn.linear_model import LogisticRegression\n",
    "from sklearn import metrics\n",
    "\n",
    "# Set LogisticRegression() to logreg.\n",
    "logreg = LogisticRegression(max_iter=1000) \n",
    "\n",
    "# Fit the X_train and y_train data sets to logreg. \n",
    "logreg.fit(os_data_X, os_data_y.values.ravel()) "
   ]
  },
  {
   "cell_type": "code",
   "execution_count": 36,
   "id": "97750b04",
   "metadata": {},
   "outputs": [
    {
     "name": "stdout",
     "output_type": "stream",
     "text": [
      "Accuracy of logistic regression classifier on test set: 0.79\n"
     ]
    }
   ],
   "source": [
    "# Determine BLR model's accuracy.\n",
    "y_pred = logreg.predict(X_test)\n",
    "\n",
    "from sklearn.metrics import accuracy_score\n",
    "acc = accuracy_score(y_test, y_pred)\n",
    "print('Accuracy of logistic regression classifier on test set: {:.2f}'\\\n",
    "      .format(acc))"
   ]
  },
  {
   "cell_type": "code",
   "execution_count": 37,
   "id": "005e2f41",
   "metadata": {},
   "outputs": [
    {
     "data": {
      "text/plain": [
       "<AxesSubplot:>"
      ]
     },
     "execution_count": 37,
     "metadata": {},
     "output_type": "execute_result"
    },
    {
     "data": {
      "image/png": "[encoded data removed]",
      "text/plain": [
       "<Figure size 640x480 with 2 Axes>"
      ]
     },
     "metadata": {},
     "output_type": "display_data"
    }
   ],
   "source": [
    "# Create the confusion matrix to test classification accuracy in BLR.\n",
    "# Import the necessary package to create the confusion matrix. \n",
    "from sklearn.metrics import confusion_matrix  \n",
    "\n",
    "# Indicate the confusion matrix needs to be created.\n",
    "confusion_matrix = confusion_matrix(y_test, y_pred)  \n",
    "\n",
    "# Plot the confusion_matrix.\n",
    "sns.heatmap(confusion_matrix, annot=True, fmt='g')"
   ]
  },
  {
   "cell_type": "code",
   "execution_count": 38,
   "id": "6d15d85e",
   "metadata": {},
   "outputs": [
    {
     "data": {
      "text/html": [
       "<div>\n",
       "<style scoped>\n",
       "    .dataframe tbody tr th:only-of-type {\n",
       "        vertical-align: middle;\n",
       "    }\n",
       "\n",
       "    .dataframe tbody tr th {\n",
       "        vertical-align: top;\n",
       "    }\n",
       "\n",
       "    .dataframe thead th {\n",
       "        text-align: right;\n",
       "    }\n",
       "</style>\n",
       "<table border=\"1\" class=\"dataframe\">\n",
       "  <thead>\n",
       "    <tr style=\"text-align: right;\">\n",
       "      <th></th>\n",
       "      <th>predicted_notchurn</th>\n",
       "      <th>predicted_churn</th>\n",
       "    </tr>\n",
       "  </thead>\n",
       "  <tbody>\n",
       "    <tr>\n",
       "      <th>observed_notchurn</th>\n",
       "      <td>8752</td>\n",
       "      <td>2179</td>\n",
       "    </tr>\n",
       "    <tr>\n",
       "      <th>observed_churn</th>\n",
       "      <td>460</td>\n",
       "      <td>966</td>\n",
       "    </tr>\n",
       "  </tbody>\n",
       "</table>\n",
       "</div>"
      ],
      "text/plain": [
       "                   predicted_notchurn  predicted_churn\n",
       "observed_notchurn                8752             2179\n",
       "observed_churn                    460              966"
      ]
     },
     "execution_count": 38,
     "metadata": {},
     "output_type": "execute_result"
    }
   ],
   "source": [
    "# Create a DataFrame to display the confusion matrix. \n",
    "pd.DataFrame(confusion_matrix, index=['observed_notchurn','observed_churn'],\n",
    "columns=['predicted_notchurn', 'predicted_churn'])"
   ]
  },
  {
   "cell_type": "code",
   "execution_count": 42,
   "id": "27388fd1",
   "metadata": {},
   "outputs": [
    {
     "name": "stdout",
     "output_type": "stream",
     "text": [
      "              precision    recall  f1-score   support\n",
      "\n",
      "           0       0.95      0.80      0.87     10931\n",
      "           1       0.31      0.68      0.42      1426\n",
      "\n",
      "    accuracy                           0.79     12357\n",
      "   macro avg       0.63      0.74      0.65     12357\n",
      "weighted avg       0.88      0.79      0.82     12357\n",
      "\n"
     ]
    }
   ],
   "source": [
    "# Import the necessary package.\n",
    "from sklearn.metrics import classification_report  \n",
    "\n",
    "# Print a report on the model's accuracy.\n",
    "print(classification_report(y_test, y_pred))  "
   ]
  },
  {
   "cell_type": "code",
   "execution_count": null,
   "id": "47edf56f",
   "metadata": {},
   "outputs": [],
   "source": []
  }
 ],
 "metadata": {
  "kernelspec": {
   "display_name": "Python 3 (ipykernel)",
   "language": "python",
   "name": "python3"
  },
  "language_info": {
   "codemirror_mode": {
    "name": "ipython",
    "version": 3
   },
   "file_extension": ".py",
   "mimetype": "text/x-python",
   "name": "python",
   "nbconvert_exporter": "python",
   "pygments_lexer": "ipython3",
   "version": "3.9.13"
  }
 },
 "nbformat": 4,
 "nbformat_minor": 5
}
