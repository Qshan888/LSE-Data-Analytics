{
 "cells": [
  {
   "cell_type": "markdown",
   "id": "48c017c5",
   "metadata": {},
   "source": [
    "### LSE Data Analytics Online Career Accelerator\n",
    "\n",
    "# DA201: Data Analytics using Python"
   ]
  },
  {
   "cell_type": "markdown",
   "id": "d90a5099",
   "metadata": {},
   "source": [
    "# Practical activity: Time-series forecasting"
   ]
  },
  {
   "cell_type": "markdown",
   "id": "a64c16e2",
   "metadata": {},
   "source": [
    "**This is the solution to the practical activity**\n",
    "\n",
    "A real estate developer, Derek, is planning to start a new project to build family homes. He has access to historic data for the region in which he has acquired land for the project. The historic data includes the prices for houses sold in the area over a 10-year period. The data also includes information about the number of bedrooms in each house ranging from one to five rooms. Derek has asked you to analyse the data for any trends that might be evident. He wants to know the optimal number of bedrooms to maximise the profit for the project.\n",
    "\n",
    "In this activity, we will be working with a time-series moving average to forecast the prices of houses by:\n",
    "\n",
    "- plotting the sub-data sets\n",
    "- resampling to remove noise\n",
    "- using a time-series moving average."
   ]
  },
  {
   "cell_type": "markdown",
   "id": "35d625cf",
   "metadata": {},
   "source": [
    "## Prepare your workstation"
   ]
  },
  {
   "cell_type": "code",
   "execution_count": null,
   "id": "af672e81",
   "metadata": {},
   "outputs": [],
   "source": [
    "# Import necessary libraries.\n",
    "import numpy as np\n",
    "import pandas as pd\n",
    "import matplotlib.pyplot as plt\n",
    "import seaborn as sns\n",
    "sns.set()\n",
    "\n",
    "from sklearn.metrics import r2_score, median_absolute_error, mean_absolute_error\n",
    "from sklearn.metrics import median_absolute_error, mean_squared_error, mean_squared_log_error\n",
    "\n",
    "import warnings\n",
    "warnings.filterwarnings('ignore')\n",
    "\n",
    "%matplotlib inline\n",
    "\n",
    "## Get multiple outputs in the same cell.\n",
    "from IPython.core.interactiveshell import InteractiveShell\n",
    "InteractiveShell.ast_node_interactivity = 'all'"
   ]
  },
  {
   "cell_type": "code",
   "execution_count": null,
   "id": "66240593",
   "metadata": {},
   "outputs": [],
   "source": [
    "# Simple hacks to make plots look better: \n",
    "\n",
    "# # Colour pallete to make charts look better.\n",
    "blue, = sns.color_palette(\"muted\", 1) \n",
    "\n",
    "# Darkgrid, white grid, dark, white and ticks.\n",
    "sns.set_style('whitegrid') \n",
    "\n",
    "# Font size of the axes title.\n",
    "plt.rc('axes', titlesize=18) \n",
    "\n",
    "# Font size of the x and y labels.\n",
    "plt.rc('axes', labelsize=14)    \n",
    "\n",
    "# Font size of the tick labels.\n",
    "plt.rc('xtick', labelsize=13,color='#4f4e4e') \n",
    "\n",
    "# Font size of the tick labels.\n",
    "plt.rc('ytick', labelsize=13,color='#4f4e4e')  \n",
    "\n",
    "# Legend font size.\n",
    "plt.rc('legend', fontsize=13)\n",
    "\n",
    "# Controls default text sizes.\n",
    "plt.rc('font', size=13)          "
   ]
  },
  {
   "cell_type": "code",
   "execution_count": null,
   "id": "8d8c3d9a",
   "metadata": {},
   "outputs": [],
   "source": [
    "# Import CSV file with Pandas.\n",
    "data = pd.read_csv('raw_sales.csv', index_col=['datesold'], parse_dates=['datesold'])\n",
    "\n",
    "# View DataFrame.\n",
    "print(data.shape)\n",
    "data.head()"
   ]
  },
  {
   "cell_type": "markdown",
   "id": "a3b42bc7",
   "metadata": {},
   "source": [
    "## Get to know the data"
   ]
  },
  {
   "cell_type": "code",
   "execution_count": null,
   "id": "81e29fff",
   "metadata": {},
   "outputs": [],
   "source": [
    "# Plot house prices as time-series.\n",
    "data.plot(figsize=(12, 4))\n",
    "plt.legend(loc='best')\n",
    "plt.title(\"Housing Prices\")\n",
    "plt.show(block=False);\n",
    "\n",
    "# Check for missing values.\n",
    "data.isna().sum()"
   ]
  },
  {
   "cell_type": "markdown",
   "id": "0efa0206",
   "metadata": {},
   "source": [
    "## Checking the dataset for the count of houses based on their bedrooms"
   ]
  },
  {
   "cell_type": "code",
   "execution_count": null,
   "id": "4f189094",
   "metadata": {},
   "outputs": [],
   "source": [
    "# Count the number of values in a specified column of the DataFrame.\n",
    "print(data['bedrooms'].value_counts())\n",
    "\n",
    "# Create a plot.\n",
    "plt.title(\"Count of number of bedrooms\")\n",
    "\n",
    "sns.despine(left=True);\n",
    "sns.countplot(x='bedrooms', data=data)"
   ]
  },
  {
   "cell_type": "markdown",
   "id": "d0d4280a",
   "metadata": {},
   "source": [
    "## Creating different datasets based on number of bedrooms"
   ]
  },
  {
   "cell_type": "code",
   "execution_count": null,
   "id": "618bc15d",
   "metadata": {},
   "outputs": [],
   "source": [
    "# Create a copy of the original data for convinience. \n",
    "data_sub = data.copy()\n",
    "\n",
    "\n",
    "# Data set cosnsisting of houses with 1 bedroom: \n",
    "df_1 = data_sub[data_sub['bedrooms']==1]\n",
    "print(df_1.shape)\n",
    "\n",
    "\n",
    "# Data set cosnsisting of houses with 2 bedrooms: \n",
    "df_2 = data_sub[data_sub['bedrooms']==2]\n",
    "print(df_2.shape)\n",
    "\n",
    "\n",
    "# Data set cosnsisting of houses with 3 bedrooms: \n",
    "df_3 = data_sub[data_sub['bedrooms']==3]\n",
    "print(df_3.shape)\n",
    "\n",
    "\n",
    "# Data set cosnsisting of houses with 4 bedrooms: \n",
    "df_4 = data_sub[data_sub['bedrooms']==4]\n",
    "print(df_4.shape)\n",
    "\n",
    "\n",
    "# Data set cosnsisting of houses with 5 bedrooms: \n",
    "df_5 = data_sub[data_sub['bedrooms']==5]\n",
    "print(df_5.shape)"
   ]
  },
  {
   "cell_type": "markdown",
   "id": "cbe1b109",
   "metadata": {},
   "source": [
    "## Detect outliers"
   ]
  },
  {
   "cell_type": "code",
   "execution_count": null,
   "id": "e935f4bd",
   "metadata": {},
   "outputs": [],
   "source": [
    "# Set plot size.\n",
    "fig, axes = plt.subplots(nrows=3, ncols=2,figsize=(20,20))\n",
    "\n",
    "# 1 bedroom:\n",
    "axes[0][0].hist(df_1['price'])\n",
    "axes[0][0].title.set_text(\"1 bedroom price histogram\")\n",
    "\n",
    "# 2 bedroom:\n",
    "axes[0][1].hist(df_2['price'])\n",
    "axes[0][1].title.set_text(\"2 bedroom price histogram\")\n",
    "\n",
    "# 3 bedroom:\n",
    "axes[1][0].hist(df_3['price'])\n",
    "axes[1][0].title.set_text(\"3 bedroom price histogram\")\n",
    "\n",
    "# 4 bedroom:\n",
    "axes[1][1].hist(df_4['price'])\n",
    "axes[1][1].title.set_text(\"4 bedroom price histogram\")\n",
    "\n",
    "# 5 bedroom:\n",
    "axes[2][0].hist(df_5['price'])\n",
    "axes[2][0].title.set_text(\"5 bedroom price histogram\")\n",
    "\n",
    "\n",
    "fig.delaxes(axes[2][1])\n",
    "\n",
    "plt.show()"
   ]
  },
  {
   "cell_type": "code",
   "execution_count": null,
   "id": "47233441",
   "metadata": {},
   "outputs": [],
   "source": [
    "# Create a boxplot for 1 bedroom.\n",
    "# Set figure size.\n",
    "fig = plt.figure(figsize=(18, 4))\n",
    "\n",
    "# Create boxplot.\n",
    "ax = sns.boxplot(x=df_1['price'], whis=1.5)"
   ]
  },
  {
   "cell_type": "markdown",
   "id": "8aac1760",
   "metadata": {},
   "source": [
    "## Remove outliers"
   ]
  },
  {
   "cell_type": "code",
   "execution_count": null,
   "id": "4376b071",
   "metadata": {},
   "outputs": [],
   "source": [
    "# The columns you want to search for outliers in.\n",
    "cols = ['price'] \n",
    "\n",
    "# Calculate quantiles and IQR.\n",
    "# Same as np.percentile but maps (0,1) and not (0,100).\n",
    "Q1 = df_1[cols].quantile(0.25) \n",
    "Q3 = df_1[cols].quantile(0.75)\n",
    "IQR = Q3 - Q1\n",
    "IQR\n",
    "\n",
    "# Return a boolean array of the rows with (any) non-outlier column values.\n",
    "condition = ~((df_1[cols] < (Q1 - 1.5 * IQR)) | (df_1[cols] > (Q3 + 1.5 * IQR))).any(axis=1)\n",
    "\n",
    "# Filter our dataframe based on condition.\n",
    "df_1_non_outlier = df_1[condition]\n",
    "df_1_non_outlier.shape"
   ]
  },
  {
   "cell_type": "code",
   "execution_count": null,
   "id": "3fec1cf8",
   "metadata": {},
   "outputs": [],
   "source": [
    "# Plot to see if outliers have been removed: \n",
    "# whis = multiplicative factor\n",
    "fig = plt.subplots(figsize=(12, 2))\n",
    "\n",
    "ax = sns.boxplot(x=df_1_non_outlier['price'],whis=1.5)"
   ]
  },
  {
   "cell_type": "markdown",
   "id": "42ee968c",
   "metadata": {},
   "source": [
    "## Additional code"
   ]
  },
  {
   "cell_type": "markdown",
   "id": "33c43538",
   "metadata": {},
   "source": [
    "### Data set with 2 bedrooms (`df_2`)"
   ]
  },
  {
   "cell_type": "code",
   "execution_count": null,
   "id": "58234881",
   "metadata": {},
   "outputs": [],
   "source": [
    "# whis = multiplicative factor\n",
    "fig = plt.subplots(figsize=(12, 2))\n",
    "ax = sns.boxplot(x=df_2['price'], whis=1.5);"
   ]
  },
  {
   "cell_type": "code",
   "execution_count": null,
   "id": "476fead7",
   "metadata": {},
   "outputs": [],
   "source": [
    "# Histogram plot.\n",
    "fig = df_2.price.hist(figsize = (12, 4))"
   ]
  },
  {
   "cell_type": "code",
   "execution_count": null,
   "id": "c9c846d7",
   "metadata": {},
   "outputs": [],
   "source": [
    "# Outlier removal from houses with 2 bedrooms.\n",
    "# The columns you want to search for outliers.\n",
    "cols = ['price']\n",
    "\n",
    "# Calculate quantiles and IQR.\n",
    "# Same as np.percentile but maps (0,1) and not (0,100).\n",
    "Q1 = df_2[cols].quantile(0.25)\n",
    "Q3 = df_2[cols].quantile(0.75)\n",
    "IQR = Q3 - Q1\n",
    "IQR\n",
    "\n",
    "# Return a boolean array of the rows with (any) non-outlier column values.\n",
    "condition = ~((df_2[cols] < (Q1 - 1.5 * IQR)) | (df_2[cols] > (Q3 + 1.5 * IQR))).any(axis=1)\n",
    "\n",
    "# Filter our dataframe based on condition.\n",
    "df_2_non_outlier = df_2[condition]\n",
    "df_2_non_outlier.shape"
   ]
  },
  {
   "cell_type": "code",
   "execution_count": null,
   "id": "8f48d615",
   "metadata": {},
   "outputs": [],
   "source": [
    "# Plot to see if outliers have been removed: \n",
    "# whis = multiplicative factor\n",
    "fig = plt.subplots(figsize=(12, 2))\n",
    "\n",
    "ax = sns.boxplot(x=df_2_non_outlier['price'],whis=1.5);"
   ]
  },
  {
   "cell_type": "markdown",
   "id": "43f4b34f",
   "metadata": {},
   "source": [
    "### Data set with 3 bedrooms (`df_3`)"
   ]
  },
  {
   "cell_type": "code",
   "execution_count": null,
   "id": "0846c357",
   "metadata": {},
   "outputs": [],
   "source": [
    "# whis = multiplicative factor\n",
    "fig = plt.subplots(figsize=(12, 2))\n",
    "\n",
    "ax = sns.boxplot(x=df_3['price'], whis=1.5);"
   ]
  },
  {
   "cell_type": "code",
   "execution_count": null,
   "id": "4e6b6ab9",
   "metadata": {},
   "outputs": [],
   "source": [
    "# Histogram plot.\n",
    "fig = df_3.price.hist(figsize = (12, 4))"
   ]
  },
  {
   "cell_type": "code",
   "execution_count": null,
   "id": "e6d83851",
   "metadata": {},
   "outputs": [],
   "source": [
    "# Removing outlier from dataset with 3 bedrooms: \n",
    "# The columns you want to search for outliers.\n",
    "cols = ['price'] \n",
    "\n",
    "# Calculate quantiles and IQR.\n",
    "# Same as np.percentile but maps (0,1) and not (0,100).\n",
    "Q1 = df_3[cols].quantile(0.25)\n",
    "Q3 = df_3[cols].quantile(0.75)\n",
    "IQR = Q3 - Q1\n",
    "IQR\n",
    "\n",
    "# Return a boolean array of the rows with (any) non-outlier column values.\n",
    "condition = ~((df_3[cols] < (Q1 - 1.5 * IQR)) | (df_3[cols] > (Q3 + 1.5 * IQR))).any(axis=1)\n",
    "\n",
    "# Filter our dataframe based on condition.\n",
    "df_3_non_outlier = df_3[condition]\n",
    "df_3_non_outlier.shape"
   ]
  },
  {
   "cell_type": "code",
   "execution_count": null,
   "id": "59371b92",
   "metadata": {},
   "outputs": [],
   "source": [
    "# Plot to see if outliers have been removed: \n",
    "# whis = multiplicative factor.\n",
    "fig = plt.subplots(figsize=(12, 2))\n",
    "\n",
    "ax = sns.boxplot(x=df_3_non_outlier['price'],whis=1.5)"
   ]
  },
  {
   "cell_type": "markdown",
   "id": "26d08d0d",
   "metadata": {},
   "source": [
    "### Data set with 4 bedrooms (`df_4`)"
   ]
  },
  {
   "cell_type": "code",
   "execution_count": null,
   "id": "147cc5cc",
   "metadata": {},
   "outputs": [],
   "source": [
    "# whis = multiplicative factor\n",
    "import seaborn as sns\n",
    "fig = plt.subplots(figsize=(12, 2))\n",
    "\n",
    "ax = sns.boxplot(x=df_4['price'],whis=1.5);"
   ]
  },
  {
   "cell_type": "code",
   "execution_count": null,
   "id": "a50979f6",
   "metadata": {},
   "outputs": [],
   "source": [
    "# Histogram plot.\n",
    "fig = df_4.price.hist(figsize = (12, 4))"
   ]
  },
  {
   "cell_type": "code",
   "execution_count": null,
   "id": "ddb5843d",
   "metadata": {},
   "outputs": [],
   "source": [
    "# Removing outlier from dataset with 4 bedrooms.\n",
    "# The columns you want to search for outliers.\n",
    "cols = ['price'] \n",
    "\n",
    "# Calculate quantiles and IQR.\n",
    "# Same as np.percentile but maps (0,1) and not (0,100).\n",
    "Q1 = df_4[cols].quantile(0.25) \n",
    "Q3 = df_4[cols].quantile(0.75)\n",
    "IQR = Q3 - Q1\n",
    "IQR\n",
    "\n",
    "# Return a boolean array of the rows with (any) non-outlier column values.\n",
    "condition = ~((df_4[cols] < (Q1 - 1.5 * IQR)) | (df_4[cols] > (Q3 + 1.5 * IQR))).any(axis=1)\n",
    "\n",
    "# Filter our dataframe based on condition.\n",
    "df_4_non_outlier = df_4[condition]\n",
    "df_4_non_outlier.shape"
   ]
  },
  {
   "cell_type": "code",
   "execution_count": null,
   "id": "5fe38155",
   "metadata": {},
   "outputs": [],
   "source": [
    "# Plot to see if outliers have been removed: \n",
    "# whis = multiplicative factor\n",
    "fig = plt.subplots(figsize=(12, 2))\n",
    "\n",
    "ax = sns.boxplot(x=df_4_non_outlier['price'], whis=1.5);"
   ]
  },
  {
   "cell_type": "markdown",
   "id": "97c9891a",
   "metadata": {},
   "source": [
    "### Data set with 5 bedrooms (`df_5`)"
   ]
  },
  {
   "cell_type": "code",
   "execution_count": null,
   "id": "809cc471",
   "metadata": {},
   "outputs": [],
   "source": [
    "# whis = multiplicative factor\n",
    "fig = plt.subplots(figsize=(12, 2))\n",
    "\n",
    "ax = sns.boxplot(x=df_5['price'], whis=1.5)"
   ]
  },
  {
   "cell_type": "code",
   "execution_count": null,
   "id": "323bab96",
   "metadata": {},
   "outputs": [],
   "source": [
    "# Histogram plot.\n",
    "fig = df_5.price.hist(figsize = (12, 4))"
   ]
  },
  {
   "cell_type": "code",
   "execution_count": null,
   "id": "6f60f5a3",
   "metadata": {},
   "outputs": [],
   "source": [
    "# Removing outlier from dataset with 5 bedrooms: \n",
    "# The columns you want to search for outliers.\n",
    "cols = ['price'] \n",
    "\n",
    "# Calculate quantiles and IQR.\n",
    "# Same as np.percentile but maps (0,1) and not (0,100).\n",
    "Q1 = df_5[cols].quantile(0.25) \n",
    "Q3 = df_5[cols].quantile(0.75)\n",
    "IQR = Q3 - Q1\n",
    "IQR\n",
    "\n",
    "# # Return a boolean array of the rows with (any) non-outlier column values.\n",
    "condition = ~((df_5[cols] < (Q1 - 1.5 * IQR)) | (df_5[cols] > (Q3 + 1.5 * IQR))).any(axis=1)\n",
    "\n",
    "# Filter our dataframe based on condition.\n",
    "df_5_non_outlier = df_5[condition]\n",
    "df_5_non_outlier.shape"
   ]
  },
  {
   "cell_type": "code",
   "execution_count": null,
   "id": "69d14a7c",
   "metadata": {},
   "outputs": [],
   "source": [
    "# Plot to see if outliers have been removed: \n",
    "fig = plt.subplots(figsize=(12, 2))\n",
    "\n",
    "ax = sns.boxplot(x=df_5_non_outlier['price'], whis=1.5)"
   ]
  },
  {
   "cell_type": "markdown",
   "id": "0359c2ff",
   "metadata": {},
   "source": [
    "# "
   ]
  },
  {
   "cell_type": "markdown",
   "id": "ce9d95b7",
   "metadata": {},
   "source": [
    "# "
   ]
  },
  {
   "cell_type": "markdown",
   "id": "298d1cfc",
   "metadata": {},
   "source": [
    "# Time-series forecasting\n",
    "## Plot the subset DataFrames"
   ]
  },
  {
   "cell_type": "code",
   "execution_count": null,
   "id": "68da5838",
   "metadata": {},
   "outputs": [],
   "source": [
    "# Create a plot for 1 bedroom.\n",
    "# Calculate max and min.\n",
    "df_1_non_outlier['price'].min()\n",
    "df_1_non_outlier['price'].max()\n",
    "\n",
    "\n",
    "# Plotting the time series data.\n",
    "df_1_non_outlier.plot(figsize=(12, 4))\n",
    "plt.legend(loc='best')\n",
    "plt.title(\"Time-series plot for house with 1 bedroom\")\n",
    "plt.show(block=False)"
   ]
  },
  {
   "cell_type": "code",
   "execution_count": null,
   "id": "7403b1ab",
   "metadata": {},
   "outputs": [],
   "source": [
    "# Create a plot for 2 bedrooms.\n",
    "# Calculate max and min.\n",
    "df_2_non_outlier['price'].min()\n",
    "df_2_non_outlier['price'].max()\n",
    "\n",
    "\n",
    "# Plotting the time series data.\n",
    "df_2_non_outlier.plot(figsize=(12, 4))\n",
    "plt.legend(loc='best')\n",
    "plt.title(\"Time-series plot for house with 1 bedroom\")\n",
    "plt.show(block=False)"
   ]
  },
  {
   "cell_type": "code",
   "execution_count": null,
   "id": "b06ce3f3",
   "metadata": {},
   "outputs": [],
   "source": [
    "# Create a plot for 3 bedrooms.\n",
    "# Calculate max and min.\n",
    "df_3_non_outlier['price'].min()\n",
    "df_3_non_outlier['price'].max()\n",
    "\n",
    "\n",
    "# Plotting the time series data.\n",
    "df_3_non_outlier.plot(figsize=(12, 4))\n",
    "plt.legend(loc='best')\n",
    "plt.title(\"Time-series plot for house with 1 bedroom\")\n",
    "plt.show(block=False)"
   ]
  },
  {
   "cell_type": "code",
   "execution_count": null,
   "id": "f646adde",
   "metadata": {},
   "outputs": [],
   "source": [
    "# Create a plot for 4 bedrooms.\n",
    "# Calculate max and min.\n",
    "df_4_non_outlier['price'].min()\n",
    "df_4_non_outlier['price'].max()\n",
    "\n",
    "\n",
    "# Plotting the time series data.\n",
    "df_4_non_outlier.plot(figsize=(12, 4))\n",
    "plt.legend(loc='best')\n",
    "plt.title(\"Time-series plot for house with 1 bedroom\")\n",
    "plt.show(block=False)"
   ]
  },
  {
   "cell_type": "code",
   "execution_count": null,
   "id": "977262ed",
   "metadata": {},
   "outputs": [],
   "source": [
    "# Create a plot for 5 bedrooms.\n",
    "# Calculate max and min.\n",
    "df_5_non_outlier['price'].min()\n",
    "df_5_non_outlier['price'].max()\n",
    "\n",
    "\n",
    "# Plotting the time series data.\n",
    "df_5_non_outlier.plot(figsize=(12, 4))\n",
    "plt.legend(loc='best')\n",
    "plt.title(\"Time-series plot for house with 1 bedroom\")\n",
    "plt.show(block=False)"
   ]
  },
  {
   "cell_type": "markdown",
   "id": "63d44baf",
   "metadata": {},
   "source": [
    "## Resample the sub-data sets to remove noise"
   ]
  },
  {
   "cell_type": "code",
   "execution_count": null,
   "id": "6da9d4f9",
   "metadata": {},
   "outputs": [],
   "source": [
    "# 1 bedroom:\n",
    "# Resampling dataset with 1 bedroom:\n",
    "df_1_res = df_1_non_outlier.resample('M').mean()\n",
    "df_1_res.head()\n",
    "\n",
    "\n",
    "# Dropping the missing values: \n",
    "df_1_res.dropna(inplace= True)\n",
    "df_1_res.isna().sum()\n",
    "\n",
    "\n",
    "# Plotting the time series data.\n",
    "df_1_res.plot(figsize=(12, 4))\n",
    "plt.legend(loc='best')\n",
    "plt.title(\"Time-series plot after resampling\")\n",
    "plt.show(block=False)"
   ]
  },
  {
   "cell_type": "code",
   "execution_count": null,
   "id": "d7d52a33",
   "metadata": {},
   "outputs": [],
   "source": [
    "# 2 bedrooms:\n",
    "# Resampling dataset with 2 bedrooms.\n",
    "df_2_res = df_2_non_outlier.resample('M').mean()\n",
    "df_2_res.head()\n",
    "\n",
    "\n",
    "# Dropping the missing values: \n",
    "df_2_res.dropna(inplace= True)\n",
    "df_2_res.isna().sum()\n",
    "\n",
    "\n",
    "# Plotting the time series data.\n",
    "df_2_res.plot(figsize=(12, 4))\n",
    "plt.legend(loc='best')\n",
    "plt.title(\"Time-series plot after resampling\")\n",
    "plt.show(block=False)"
   ]
  },
  {
   "cell_type": "code",
   "execution_count": null,
   "id": "dd3e6a4e",
   "metadata": {},
   "outputs": [],
   "source": [
    "# 3 bedrooms:\n",
    "# Resampling dataset with 1 bedroom.\n",
    "df_3_res = df_3_non_outlier.resample('M').mean()\n",
    "df_3_res.head()\n",
    "\n",
    "# Dropping the missing values: \n",
    "df_3_res.dropna(inplace= True)\n",
    "df_3_res.isna().sum()\n",
    "\n",
    "# Plotting the time series data.\n",
    "df_3_res.plot(figsize=(12, 4))\n",
    "plt.legend(loc='best')\n",
    "plt.title(\"Time-series plot after resampling\")\n",
    "plt.show(block=False)"
   ]
  },
  {
   "cell_type": "code",
   "execution_count": null,
   "id": "a95a9f36",
   "metadata": {},
   "outputs": [],
   "source": [
    "# 4 bedrooms:\n",
    "# Resampling dataset with 4 bedrooms.\n",
    "df_4_res = df_4_non_outlier.resample('M').mean()\n",
    "df_4_res.head()\n",
    "\n",
    "# Dropping the missing values: \n",
    "df_4_res.dropna(inplace= True)\n",
    "df_4_res.isna().sum()\n",
    "\n",
    "# Plotting the time series data.\n",
    "df_4_res.plot(figsize=(12, 4))\n",
    "plt.legend(loc='best')\n",
    "plt.title(\"Time-series plot after resampling\")\n",
    "plt.show(block=False)"
   ]
  },
  {
   "cell_type": "code",
   "execution_count": null,
   "id": "7f891f6f",
   "metadata": {},
   "outputs": [],
   "source": [
    "# 5 bedrooms:\n",
    "# Resampling dataset with 5 bedrooms.\n",
    "df_5_res = df_5_non_outlier.resample('M').mean()\n",
    "df_5_res.head()\n",
    "\n",
    "# Dropping the missing values: \n",
    "df_5_res.dropna(inplace= True)\n",
    "df_5_res.isna().sum()\n",
    "\n",
    "# Plotting the time series data.\n",
    "df_5_res.plot(figsize=(12, 4))\n",
    "plt.legend(loc='best')\n",
    "plt.title(\"Time-series plot after resampling\")\n",
    "plt.show(block=False)"
   ]
  },
  {
   "cell_type": "markdown",
   "id": "9b866033",
   "metadata": {},
   "source": [
    "## Calculate and plot the simple moving average"
   ]
  },
  {
   "cell_type": "code",
   "execution_count": null,
   "id": "ca89a9bb",
   "metadata": {},
   "outputs": [],
   "source": [
    "# As discussed in tutorial video:\n",
    "# This is a function to calculate and plot the simple moving average: \n",
    "def plot_moving_average(series, window, plot_intervals=False, scale=1.96):\n",
    "\n",
    "    rolling_mean = series.rolling(window=window).mean()\n",
    "    \n",
    "    plt.figure(figsize=(12,4))\n",
    "    plt.title(\"Moving average\\n window size = {}\".format(window))\n",
    "    plt.plot(rolling_mean, 'g', label=\"Simple moving average trend\")\n",
    "    \n",
    "    # Plot confidence intervals for smoothed values.\n",
    "    if plot_intervals:\n",
    "        mae = mean_absolute_error(series[window:], rolling_mean[window:])\n",
    "        deviation = np.std(series[window:] - rolling_mean[window:])\n",
    "        lower_bound = rolling_mean - (mae + scale * deviation)\n",
    "        upper_bound = rolling_mean + (mae + scale * deviation)\n",
    "        plt.plot(upper_bound, 'r--', label=\"Upper bound / Lower bound\")\n",
    "        plt.plot(lower_bound, 'r--')\n",
    "            \n",
    "    plt.plot(series[window:], label=\"Actual values\")\n",
    "    plt.legend(loc='best')\n",
    "    plt.grid(True)"
   ]
  },
  {
   "cell_type": "code",
   "execution_count": null,
   "id": "e92d3afd",
   "metadata": {},
   "outputs": [],
   "source": [
    "# 1 bedroom:\n",
    "# 5 days:\n",
    "plot_moving_average(df_1_res.price, 5, plot_intervals=True)\n",
    "\n",
    "# 30-days smoothing:\n",
    "plot_moving_average(df_1_res.price, 30, plot_intervals=True)\n",
    "\n",
    "# 90-days smoothing:\n",
    "plot_moving_average(df_1_res.price, 90, plot_intervals=True)"
   ]
  },
  {
   "cell_type": "code",
   "execution_count": null,
   "id": "2233036f",
   "metadata": {},
   "outputs": [],
   "source": [
    "# 2 bedrooms:\n",
    "# 5 days:\n",
    "plot_moving_average(df_2_res.price, 5, plot_intervals=True)\n",
    "\n",
    "# 30-days smoothing:\n",
    "plot_moving_average(df_2_res.price, 30, plot_intervals=True)\n",
    "\n",
    "# 90-days smoothing:\n",
    "plot_moving_average(df_2_res.price, 90, plot_intervals=True)"
   ]
  },
  {
   "cell_type": "code",
   "execution_count": null,
   "id": "3127d938",
   "metadata": {},
   "outputs": [],
   "source": [
    "# 3 bedrooms:\n",
    "# 5 days:\n",
    "plot_moving_average(df_3_res.price, 5, plot_intervals=True)\n",
    "\n",
    "# 30-days smoothing:\n",
    "plot_moving_average(df_3_res.price, 30, plot_intervals=True)\n",
    "\n",
    "# 90-days smoothing:\n",
    "plot_moving_average(df_3_res.price, 90, plot_intervals=True)"
   ]
  },
  {
   "cell_type": "code",
   "execution_count": null,
   "id": "f78f7a51",
   "metadata": {},
   "outputs": [],
   "source": [
    "# 4 bedrooms:\n",
    "# 5 days:\n",
    "plot_moving_average(df_4_res.price, 5, plot_intervals=True)\n",
    "\n",
    "# 30-days smoothing:\n",
    "plot_moving_average(df_4_res.price, 30, plot_intervals=True)\n",
    "\n",
    "# 90-days smoothing:\n",
    "plot_moving_average(df_4_res.price, 90, plot_intervals=True)"
   ]
  },
  {
   "cell_type": "code",
   "execution_count": null,
   "id": "b430296f",
   "metadata": {},
   "outputs": [],
   "source": [
    "# 5 bedrooms:\n",
    "# 5 days:\n",
    "plot_moving_average(df_5_res.price, 5, plot_intervals=True)\n",
    "\n",
    "# 30-days smoothing:\n",
    "plot_moving_average(df_5_res.price, 30, plot_intervals=True)\n",
    "\n",
    "# 90-days smoothing:\n",
    "plot_moving_average(df_5_res.price, 90, plot_intervals=True)"
   ]
  },
  {
   "cell_type": "code",
   "execution_count": null,
   "id": "708cbf79",
   "metadata": {},
   "outputs": [],
   "source": []
  }
 ],
 "metadata": {
  "kernelspec": {
   "display_name": "Python 3 (ipykernel)",
   "language": "python",
   "name": "python3"
  },
  "language_info": {
   "codemirror_mode": {
    "name": "ipython",
    "version": 3
   },
   "file_extension": ".py",
   "mimetype": "text/x-python",
   "name": "python",
   "nbconvert_exporter": "python",
   "pygments_lexer": "ipython3",
   "version": "3.9.12"
  }
 },
 "nbformat": 4,
 "nbformat_minor": 5
}
