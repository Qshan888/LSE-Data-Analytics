{
 "cells": [
  {
   "cell_type": "markdown",
   "id": "8a50df2c",
   "metadata": {},
   "source": [
    "### LSE Data Analytics Online Career Accelerator \n",
    "\n",
    "# DA201:  Data Analytics with Python"
   ]
  },
  {
   "cell_type": "markdown",
   "id": "88f59c42",
   "metadata": {},
   "source": [
    "## Methods of a tuple (tutorial video)"
   ]
  },
  {
   "cell_type": "markdown",
   "id": "a149b073",
   "metadata": {},
   "source": [
    "This file contains the code snippets that are introduced in the Methods of a tuple video. Follow along with the demonstration to:\n",
    "- check tuple length\n",
    "- use the tuple initiator\n",
    "- access tuple items\n",
    "- combine tuples\n",
    "- return specific items from a tuple.\n",
    "\n",
    "Play and pause the video to follow along with the demonstration."
   ]
  },
  {
   "cell_type": "markdown",
   "id": "fe4f5298",
   "metadata": {},
   "source": [
    "### 1. Create a tuple and check its length"
   ]
  },
  {
   "cell_type": "code",
   "execution_count": 1,
   "id": "2ef26b89",
   "metadata": {},
   "outputs": [
    {
     "name": "stdout",
     "output_type": "stream",
     "text": [
      "('Pepper', 'Thyme', 'Cinnamon', 'Oregano', 'Rosemary')\n"
     ]
    },
    {
     "data": {
      "text/plain": [
       "5"
      ]
     },
     "execution_count": 1,
     "metadata": {},
     "output_type": "execute_result"
    }
   ],
   "source": [
    "# Example of the len() function to check the number of items in a tuple.\n",
    "# Start with a tuple.\n",
    "spices = ('Pepper', 'Thyme', 'Cinnamon', 'Oregano', 'Rosemary')\n",
    "\n",
    "# View the tuple.\n",
    "# Measure the length of the tuple.\n",
    "print(spices)\n",
    "len(spices)"
   ]
  },
  {
   "cell_type": "markdown",
   "id": "fd200eec",
   "metadata": {},
   "source": [
    "### 2. Use the tuple initiator to create a tuple"
   ]
  },
  {
   "cell_type": "code",
   "execution_count": 2,
   "id": "f028600d",
   "metadata": {},
   "outputs": [
    {
     "data": {
      "text/plain": [
       "('Basil', 'Anise')"
      ]
     },
     "execution_count": 2,
     "metadata": {},
     "output_type": "execute_result"
    }
   ],
   "source": [
    "# Example of the tuple() initiator to create a tuple. \n",
    "# Notice the round brackets.\n",
    "tup_1 = tuple(['Basil', 'Anise'])\n",
    "\n",
    "# View the tuple.\n",
    "tup_1"
   ]
  },
  {
   "cell_type": "markdown",
   "id": "161ecd1b",
   "metadata": {},
   "source": [
    "### 3. Accessing tuple items"
   ]
  },
  {
   "cell_type": "code",
   "execution_count": 3,
   "id": "75983ae8",
   "metadata": {},
   "outputs": [
    {
     "name": "stdout",
     "output_type": "stream",
     "text": [
      "Thyme\n"
     ]
    }
   ],
   "source": [
    "# Example of indexing to access a tuple item.\n",
    "# Note: The index position in Python starts at 0.\n",
    "# Locate item at index position 1.\n",
    "spices[1]\n",
    "\n",
    "# View the item.\n",
    "print(spices[1])"
   ]
  },
  {
   "cell_type": "markdown",
   "id": "bcde83bf",
   "metadata": {},
   "source": [
    "### 4. Combining tuples"
   ]
  },
  {
   "cell_type": "code",
   "execution_count": 4,
   "id": "f3105539",
   "metadata": {},
   "outputs": [
    {
     "name": "stdout",
     "output_type": "stream",
     "text": [
      "('Pepper', 'Thyme', 'Cinnamon', 'Oregano', 'Rosemary', 'Basil', 'Anise')\n",
      "7\n"
     ]
    }
   ],
   "source": [
    "# Example of using the + operator to combine tuples.\n",
    "total_spices = spices + tup_1\n",
    "\n",
    "# This will show the concatenated tuple and its length.\n",
    "print(total_spices)\n",
    "print(len(total_spices))"
   ]
  },
  {
   "cell_type": "code",
   "execution_count": 5,
   "id": "fc8c09e2",
   "metadata": {},
   "outputs": [
    {
     "data": {
      "text/plain": [
       "('Pepper',\n",
       " 'Thyme',\n",
       " 'Cinnamon',\n",
       " 'Oregano',\n",
       " 'Rosemary',\n",
       " 'Pepper',\n",
       " 'Thyme',\n",
       " 'Cinnamon',\n",
       " 'Oregano',\n",
       " 'Rosemary',\n",
       " 'Pepper',\n",
       " 'Thyme',\n",
       " 'Cinnamon',\n",
       " 'Oregano',\n",
       " 'Rosemary')"
      ]
     },
     "execution_count": 5,
     "metadata": {},
     "output_type": "execute_result"
    }
   ],
   "source": [
    "# Example of using the * operator to multiply a tuple.\n",
    "# This will make three copies of the tuple.\n",
    "spices * 3"
   ]
  },
  {
   "cell_type": "markdown",
   "id": "c301e381",
   "metadata": {},
   "source": [
    "### 5. Max and min functions"
   ]
  },
  {
   "cell_type": "code",
   "execution_count": 6,
   "id": "4d638bb1",
   "metadata": {},
   "outputs": [
    {
     "name": "stdout",
     "output_type": "stream",
     "text": [
      "500\n",
      "100\n"
     ]
    }
   ],
   "source": [
    "# Example of using max() and min() to return specific items.\n",
    "amount = (500, 250, 333, 450, 100)\n",
    "\n",
    "# This will show the highest value.\n",
    "print(max(amount))\n",
    "\n",
    "# This will show the lowest value.\n",
    "print(min(amount))"
   ]
  },
  {
   "cell_type": "code",
   "execution_count": null,
   "id": "c97975fb",
   "metadata": {},
   "outputs": [],
   "source": []
  }
 ],
 "metadata": {
  "kernelspec": {
   "display_name": "Python 3 (ipykernel)",
   "language": "python",
   "name": "python3"
  },
  "language_info": {
   "codemirror_mode": {
    "name": "ipython",
    "version": 3
   },
   "file_extension": ".py",
   "mimetype": "text/x-python",
   "name": "python",
   "nbconvert_exporter": "python",
   "pygments_lexer": "ipython3",
   "version": "3.9.13"
  }
 },
 "nbformat": 4,
 "nbformat_minor": 5
}
