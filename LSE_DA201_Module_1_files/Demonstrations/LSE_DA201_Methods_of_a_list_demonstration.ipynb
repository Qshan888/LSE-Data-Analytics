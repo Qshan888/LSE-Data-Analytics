{
 "cells": [
  {
   "cell_type": "markdown",
   "id": "29a4ce79",
   "metadata": {},
   "source": [
    "### LSE Data Analytics Online Career Accelerator \n",
    "\n",
    "# DA201:  Data Analytics with Python"
   ]
  },
  {
   "cell_type": "markdown",
   "id": "9e946919",
   "metadata": {},
   "source": [
    "## Methods of a list (tutorial video)"
   ]
  },
  {
   "cell_type": "markdown",
   "id": "fb6e7873",
   "metadata": {},
   "source": [
    "This file contains the code snippets that are introduced in the Methods of a list video. Follow along with the demonstration to:\n",
    "- add and remove elements from a list\n",
    "- join and sort lists.\n",
    "\n",
    "Play and pause the video to follow along with the demonstration."
   ]
  },
  {
   "cell_type": "markdown",
   "id": "553db8cb",
   "metadata": {},
   "source": [
    "### 1. Create a list"
   ]
  },
  {
   "cell_type": "code",
   "execution_count": 4,
   "id": "be2025b0",
   "metadata": {},
   "outputs": [
    {
     "name": "stdout",
     "output_type": "stream",
     "text": [
      "['Brie', 'Mozzarella', 'Feta', 'Edam', 'Gouda', 'Camembert', 'Gruyere', 'Gorgonzola']\n"
     ]
    },
    {
     "data": {
      "text/plain": [
       "8"
      ]
     },
     "execution_count": 4,
     "metadata": {},
     "output_type": "execute_result"
    }
   ],
   "source": [
    "# Start with a list\n",
    "cheese = ['Brie', 'Mozzarella', 'Feta', 'Edam', 'Gouda', 'Camembert', 'Gruyere', 'Gorgonzola']\n",
    "print(cheese)\n",
    "len(cheese)"
   ]
  },
  {
   "cell_type": "markdown",
   "id": "5fd91d81",
   "metadata": {},
   "source": [
    "### 2. Add elements to a list"
   ]
  },
  {
   "cell_type": "code",
   "execution_count": 5,
   "id": "4ace2b7f",
   "metadata": {},
   "outputs": [
    {
     "name": "stdout",
     "output_type": "stream",
     "text": [
      "['Brie', 'Mozzarella', 'Feta', 'Edam', 'Gouda', 'Camembert', 'Gruyere', 'Gorgonzola', 'Blue']\n",
      "9\n"
     ]
    }
   ],
   "source": [
    "# Add a new item at the end of the list using the append() method.\n",
    "cheese.append('Blue')\n",
    "\n",
    "# View the list and its length.\n",
    "print(cheese)\n",
    "print(len(cheese))"
   ]
  },
  {
   "cell_type": "code",
   "execution_count": 6,
   "id": "67d3fd8e",
   "metadata": {},
   "outputs": [
    {
     "name": "stdout",
     "output_type": "stream",
     "text": [
      "['Brie', 'Swiss', 'Mozzarella', 'Feta', 'Edam', 'Gouda', 'Camembert', 'Gruyere', 'Gorgonzola', 'Blue']\n",
      "10\n"
     ]
    }
   ],
   "source": [
    "# Add a new item at the end of the list using the insert() method.\n",
    "# Here \"1\" is the index position.\n",
    "# Note: The index position in Python starts at 0.\n",
    "cheese.insert(1, 'Swiss')\n",
    "\n",
    "# View the list and its length.\n",
    "print(cheese)\n",
    "print(len(cheese))"
   ]
  },
  {
   "cell_type": "code",
   "execution_count": 7,
   "id": "f486ff21",
   "metadata": {},
   "outputs": [
    {
     "name": "stdout",
     "output_type": "stream",
     "text": [
      "['Brie', 'Swiss', 'Mozzarella', 'Feta', 'Edam', 'Gouda', 'Camembert', 'Gruyere', 'Gorgonzola', 'Blue', 'Parmesan']\n",
      "11\n"
     ]
    }
   ],
   "source": [
    "# Example of the extend() method.\n",
    "# Create a second list.\n",
    "new_cheese = ['Parmesan']\n",
    "\n",
    "# Second list is appended to starting list.\n",
    "cheese.extend(new_cheese)\n",
    "\n",
    "# View the list and its length.\n",
    "print(cheese)\n",
    "print(len(cheese))"
   ]
  },
  {
   "cell_type": "markdown",
   "id": "4ba9cfd9",
   "metadata": {},
   "source": [
    "### 3. Remove elements from a list"
   ]
  },
  {
   "cell_type": "code",
   "execution_count": 8,
   "id": "d8a5a443",
   "metadata": {},
   "outputs": [
    {
     "name": "stdout",
     "output_type": "stream",
     "text": [
      "['Brie', 'Mozzarella', 'Feta', 'Edam', 'Gouda', 'Camembert', 'Gruyere', 'Gorgonzola', 'Blue', 'Parmesan']\n",
      "10\n"
     ]
    }
   ],
   "source": [
    "# Example of the remove() method.\n",
    "# Remove the first instance of an item from the list.\n",
    "cheese.remove('Swiss') \n",
    "\n",
    "# View the list and its length.\n",
    "print(cheese)\n",
    "print(len(cheese))"
   ]
  },
  {
   "cell_type": "code",
   "execution_count": 18,
   "id": "76c541f9",
   "metadata": {},
   "outputs": [
    {
     "name": "stdout",
     "output_type": "stream",
     "text": [
      "['Brie', 'Mozzarella', 'Feta', 'Edam', 'Gouda', 'Camembert', 'Gruyere', 'Gorgonzola']\n",
      "8\n"
     ]
    }
   ],
   "source": [
    "# Example of the pop() method\n",
    "# Remove an item at a specific index position from the list.\n",
    "# Note: The index position in Python starts at 0.\n",
    "cheese.pop(8) \n",
    "\n",
    "# View the list and its length.\n",
    "print(cheese)\n",
    "print(len(cheese))"
   ]
  },
  {
   "cell_type": "code",
   "execution_count": null,
   "id": "609b003e",
   "metadata": {},
   "outputs": [],
   "source": [
    "# Example of the pop() method\n",
    "# No index specified\n",
    "cheese.pop()\n",
    "\n",
    "# View the list and its length.\n",
    "print(cheese)\n",
    "print(len(cheese))"
   ]
  },
  {
   "cell_type": "markdown",
   "id": "acee1c59",
   "metadata": {},
   "source": [
    "### 4. Joining two lists (concatenate)"
   ]
  },
  {
   "cell_type": "code",
   "execution_count": 14,
   "id": "9ddf6e38",
   "metadata": {},
   "outputs": [
    {
     "name": "stdout",
     "output_type": "stream",
     "text": [
      "['apple', 'strawberry', 'pear', 'raspberry']\n",
      "['apricot', 'peach', 'fig', 'plum']\n"
     ]
    },
    {
     "data": {
      "text/plain": [
       "4"
      ]
     },
     "execution_count": 14,
     "metadata": {},
     "output_type": "execute_result"
    }
   ],
   "source": [
    "# Create two lists.\n",
    "fruit_1 = ['apple', 'strawberry', 'pear', 'raspberry']\n",
    "fruit_2 = ['apricot', 'peach', 'fig', 'plum']\n",
    "\n",
    "# View the two lists.\n",
    "print(fruit_1)\n",
    "print(fruit_2)\n",
    "len(fruit_1)\n",
    "len(fruit_2)"
   ]
  },
  {
   "cell_type": "code",
   "execution_count": 15,
   "id": "a5e70f61",
   "metadata": {},
   "outputs": [
    {
     "name": "stdout",
     "output_type": "stream",
     "text": [
      "['apple', 'strawberry', 'pear', 'raspberry', 'apricot', 'peach', 'fig', 'plum']\n",
      "8\n"
     ]
    }
   ],
   "source": [
    "# Join the two lists with the + operator.\n",
    "fruit = fruit_1 + fruit_2\n",
    "\n",
    "# View the list and its length.\n",
    "print(fruit)\n",
    "print(len(fruit))"
   ]
  },
  {
   "cell_type": "markdown",
   "id": "c137e73f",
   "metadata": {},
   "source": [
    "### 5. Sorting lists"
   ]
  },
  {
   "cell_type": "code",
   "execution_count": 16,
   "id": "099e3a61",
   "metadata": {},
   "outputs": [
    {
     "name": "stdout",
     "output_type": "stream",
     "text": [
      "['apple', 'apricot', 'fig', 'peach', 'pear', 'plum', 'raspberry', 'strawberry']\n"
     ]
    }
   ],
   "source": [
    "# Example of the sort() method.\n",
    "# The default is to sort in ascending order.\n",
    "fruit.sort()\n",
    "\n",
    "# View the list.\n",
    "print(fruit)"
   ]
  },
  {
   "cell_type": "code",
   "execution_count": 17,
   "id": "844200fb",
   "metadata": {},
   "outputs": [
    {
     "name": "stdout",
     "output_type": "stream",
     "text": [
      "['strawberry', 'raspberry', 'plum', 'pear', 'peach', 'fig', 'apricot', 'apple']\n"
     ]
    }
   ],
   "source": [
    "# Example of the sort() method.\n",
    "# To sort in descending order, the reverse is true.\n",
    "fruit.sort(reverse = True)\n",
    "\n",
    "# View the list.\n",
    "print(fruit)"
   ]
  },
  {
   "cell_type": "code",
   "execution_count": null,
   "id": "52b625d1",
   "metadata": {},
   "outputs": [],
   "source": []
  }
 ],
 "metadata": {
  "kernelspec": {
   "display_name": "Python 3 (ipykernel)",
   "language": "python",
   "name": "python3"
  },
  "language_info": {
   "codemirror_mode": {
    "name": "ipython",
    "version": 3
   },
   "file_extension": ".py",
   "mimetype": "text/x-python",
   "name": "python",
   "nbconvert_exporter": "python",
   "pygments_lexer": "ipython3",
   "version": "3.9.13"
  }
 },
 "nbformat": 4,
 "nbformat_minor": 5
}
