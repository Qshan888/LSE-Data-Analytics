{
 "cells": [
  {
   "cell_type": "markdown",
   "id": "f0383dea",
   "metadata": {},
   "source": [
    "### LSE Data Analytics Online Career Accelerator \n",
    "\n",
    "# DA201:  Data Analytics with Python"
   ]
  },
  {
   "cell_type": "markdown",
   "id": "d73f86d0",
   "metadata": {},
   "source": [
    "## Methods of a dictionary (tutorial video)"
   ]
  },
  {
   "cell_type": "markdown",
   "id": "d328ce8e",
   "metadata": {},
   "source": [
    "This file contains the code snippets that are introduced in the Methods of a dictionary video. Follow along with the demonstration to:\n",
    "- delete an entry from a dictionary\n",
    "- iterate through keys and values\n",
    "- create a dictionary from a sequence.\n",
    "\n",
    "Play and pause the video to follow along with the demonstration."
   ]
  },
  {
   "cell_type": "markdown",
   "id": "d9577ab8",
   "metadata": {},
   "source": [
    "### 1. Create a dictionary"
   ]
  },
  {
   "cell_type": "code",
   "execution_count": 5,
   "id": "2381be86",
   "metadata": {},
   "outputs": [
    {
     "name": "stdout",
     "output_type": "stream",
     "text": [
      "{'key1': 'Name', 'key2': 'Age', 'key3': 'Nationality', 'key4': 'Email'}\n"
     ]
    }
   ],
   "source": [
    "# Create a dictionary\n",
    "d1 = {'key1': \"Name\",\n",
    "     'key2': 'Age',\n",
    "     'key3': 'Nationality',\n",
    "     'key4': 'Email'}\n",
    "\n",
    "print(d1)"
   ]
  },
  {
   "cell_type": "markdown",
   "id": "5fcf031d",
   "metadata": {},
   "source": [
    "### 2. Delete an entry"
   ]
  },
  {
   "cell_type": "code",
   "execution_count": 6,
   "id": "f71a6b14",
   "metadata": {},
   "outputs": [
    {
     "name": "stdout",
     "output_type": "stream",
     "text": [
      "{'key2': 'Age', 'key3': 'Nationality', 'key4': 'Email'}\n"
     ]
    }
   ],
   "source": [
    "# Example of deleting an entry from a dictionary.\n",
    "# Delete an entry.\n",
    "del d1['key1']\n",
    "\n",
    "print(d1)"
   ]
  },
  {
   "cell_type": "code",
   "execution_count": 7,
   "id": "ee51acc6",
   "metadata": {},
   "outputs": [
    {
     "name": "stdout",
     "output_type": "stream",
     "text": [
      "{'key2': 'Age', 'key4': 'Email'}\n"
     ]
    }
   ],
   "source": [
    "# Example of deleting an entry from a dictionary using the pop() method\n",
    "# Delete key 3.\n",
    "d1.pop('key3')\n",
    "\n",
    "print(d1)"
   ]
  },
  {
   "cell_type": "markdown",
   "id": "55dd15d9",
   "metadata": {},
   "source": [
    "### 3. Key and value iterators"
   ]
  },
  {
   "cell_type": "code",
   "execution_count": 8,
   "id": "56e7d23d",
   "metadata": {},
   "outputs": [
    {
     "name": "stdout",
     "output_type": "stream",
     "text": [
      "dict_keys(['key1', 'key2', 'key3'])\n"
     ]
    }
   ],
   "source": [
    "# Example of the keys() method to retrieve keys from a dictionary.\n",
    "# Create a dictionary.\n",
    "d2 = {'key1': 'Name',\n",
    "     'key2': 'Age',\n",
    "     'key3': 'Nationality'}\n",
    "\n",
    "# Show keys only.\n",
    "print(d2.keys())"
   ]
  },
  {
   "cell_type": "code",
   "execution_count": 9,
   "id": "622d7a25",
   "metadata": {},
   "outputs": [
    {
     "name": "stdout",
     "output_type": "stream",
     "text": [
      "dict_values(['Name', 'Age', 'Nationality'])\n"
     ]
    }
   ],
   "source": [
    "# Example of the values() method to retrieve values from a dictionary.\n",
    "# Show values only.\n",
    "print(d2.values())"
   ]
  },
  {
   "cell_type": "markdown",
   "id": "e62c8238",
   "metadata": {},
   "source": [
    "### 4. Create a dictionary from sequence"
   ]
  },
  {
   "cell_type": "code",
   "execution_count": 10,
   "id": "c2cf06e8",
   "metadata": {},
   "outputs": [
    {
     "name": "stdout",
     "output_type": "stream",
     "text": [
      "['key1', 'key2', 'key3', 'key4', 'key5']\n",
      "['Apple', 'Fruit', 'Red', 'Juicy', 'Firm']\n",
      "{'key1': 'Apple', 'key2': 'Fruit', 'key3': 'Red', 'key4': 'Juicy', 'key5': 'Firm'}\n"
     ]
    }
   ],
   "source": [
    "# Example of creating a dictionary from a sequence.\n",
    "# Create two sequences.\n",
    "key_list = ['key1', 'key2', 'key3', 'key4', 'key5']\n",
    "value_list = ['Apple', 'Fruit', 'Red', 'Juicy', 'Firm']\n",
    "\n",
    "# View keys.\n",
    "print(key_list)\n",
    "# View values.\n",
    "print(value_list)\n",
    "\n",
    "# Create a new dictionary.\n",
    "d3 = dict(zip(key_list, value_list))\n",
    "\n",
    "# View dictionary.\n",
    "print(d3)"
   ]
  },
  {
   "cell_type": "code",
   "execution_count": null,
   "id": "011cad09",
   "metadata": {},
   "outputs": [],
   "source": []
  }
 ],
 "metadata": {
  "kernelspec": {
   "display_name": "Python 3 (ipykernel)",
   "language": "python",
   "name": "python3"
  },
  "language_info": {
   "codemirror_mode": {
    "name": "ipython",
    "version": 3
   },
   "file_extension": ".py",
   "mimetype": "text/x-python",
   "name": "python",
   "nbconvert_exporter": "python",
   "pygments_lexer": "ipython3",
   "version": "3.9.13"
  }
 },
 "nbformat": 4,
 "nbformat_minor": 5
}
