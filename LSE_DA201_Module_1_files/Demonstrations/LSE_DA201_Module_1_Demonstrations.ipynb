{
 "cells": [
  {
   "cell_type": "markdown",
   "id": "b9a3ec7a",
   "metadata": {},
   "source": [
    "### LSE Data Analytics Online Career Accelerator \n",
    "\n",
    "# DA201:  Data Analytics using Python"
   ]
  },
  {
   "cell_type": "markdown",
   "id": "1dbdb90d",
   "metadata": {},
   "source": [
    "## Week 1: Introduction to Python programming!"
   ]
  },
  {
   "cell_type": "markdown",
   "id": "a24170c4",
   "metadata": {},
   "source": [
    "The focus this week is on introducing, setting up, and exploring Python. You will use this notebook to follow along with the demonstrations throughout the week. If you are using Jupyter Notebook for the first time, please refer to the documentation to lear about the interface and how best to use your notebook. \n",
    "\n",
    "Learn about using your Jupyter Notebook here: https://jupyter-notebook.readthedocs.io/en/latest/ui_components.html\n",
    "\n",
    "This is your notebook. Use it to follow along with the demonstrations, test ideas and explore what is possible. The hands-on experience of writing your own code will accelerate your learning!"
   ]
  },
  {
   "cell_type": "markdown",
   "id": "11cfebf7",
   "metadata": {},
   "source": [
    "### 1.1 Python for data analysis "
   ]
  },
  {
   "cell_type": "markdown",
   "id": "f04b9be3",
   "metadata": {},
   "source": [
    "There are no Jupyter Notebook demonstrations in this section."
   ]
  },
  {
   "cell_type": "markdown",
   "id": "ca098172",
   "metadata": {},
   "source": [
    "# "
   ]
  },
  {
   "cell_type": "markdown",
   "id": "4dd362eb",
   "metadata": {},
   "source": [
    "### 1.2 Basics of Python programming"
   ]
  },
  {
   "cell_type": "code",
   "execution_count": 1,
   "id": "05c6b44b",
   "metadata": {},
   "outputs": [
    {
     "name": "stdout",
     "output_type": "stream",
     "text": [
      "Luke Skywalker\n",
      "Luke Skywalker\n",
      "Luke Skywalker\n",
      "Luke Skywalker Luke Skywalker Luke Skywalker\n"
     ]
    }
   ],
   "source": [
    "jedi = warrior = saviour = 'Luke Skywalker'\n",
    "\n",
    "print(jedi)\n",
    "print(warrior)\n",
    "print(saviour)\n",
    "print(jedi, warrior, saviour)"
   ]
  },
  {
   "cell_type": "code",
   "execution_count": 2,
   "id": "ca05fefd",
   "metadata": {},
   "outputs": [
    {
     "name": "stdout",
     "output_type": "stream",
     "text": [
      "Darth Vader\n",
      "Darth Vader\n",
      "Darth Vader\n",
      "Darth Vader Darth Vader Darth Vader\n"
     ]
    }
   ],
   "source": [
    "# Question 2:\n",
    "a = b = c = 'Darth Vader'\n",
    "\n",
    "print(a)\n",
    "print(b)\n",
    "print(c)\n",
    "print(a, b, c)"
   ]
  },
  {
   "cell_type": "code",
   "execution_count": 5,
   "id": "07198d41",
   "metadata": {},
   "outputs": [
    {
     "name": "stdout",
     "output_type": "stream",
     "text": [
      "Hello and welcome to the programme\n"
     ]
    }
   ],
   "source": [
    "# Define a function to welcome new members to the programme.\n",
    "# No arguments in the parenthesis, include the colon.\n",
    "def new_member():\n",
    "    # The function code statement.\n",
    "    print(\"Hello and welcome to the programme\") \n",
    "\n",
    "# Call the function.\n",
    "new_member() "
   ]
  },
  {
   "cell_type": "code",
   "execution_count": 6,
   "id": "36fd6c83",
   "metadata": {},
   "outputs": [
    {
     "name": "stdout",
     "output_type": "stream",
     "text": [
      "Hello and welcome to the programme\n"
     ]
    },
    {
     "data": {
      "text/plain": [
       "True"
      ]
     },
     "execution_count": 6,
     "metadata": {},
     "output_type": "execute_result"
    }
   ],
   "source": [
    "# Define an output variable.\n",
    "output = new_member()\n",
    "\n",
    "# Check if the function returns a value.\n",
    "output is None"
   ]
  },
  {
   "cell_type": "code",
   "execution_count": 11,
   "id": "87f17bd7",
   "metadata": {},
   "outputs": [
    {
     "data": {
      "text/plain": [
       "False"
      ]
     },
     "execution_count": 11,
     "metadata": {},
     "output_type": "execute_result"
    }
   ],
   "source": [
    "# Assign the function output to a variable.\n",
    "# Function must return explicitly.\n",
    "def new_member(): \n",
    "    return \"Hello and welcome to the programme\"\n",
    "\n",
    "# Define an output variable.\n",
    "output = new_member()\n",
    "\n",
    "# Check if the function returns a value.\n",
    "output is None"
   ]
  },
  {
   "cell_type": "code",
   "execution_count": 14,
   "id": "078a6737",
   "metadata": {},
   "outputs": [
    {
     "name": "stdout",
     "output_type": "stream",
     "text": [
      "Hello and welcome to the program Cody!\n"
     ]
    }
   ],
   "source": [
    "# Example using f-string interpolation.\n",
    "def new_member(name):\n",
    "    # Notice the \"f\".\n",
    "    return f\"Hello and welcome to the program {name}!\"\n",
    "\n",
    "print(new_member('Cody'))"
   ]
  },
  {
   "cell_type": "code",
   "execution_count": 13,
   "id": "c1c332a6",
   "metadata": {},
   "outputs": [
    {
     "name": "stdout",
     "output_type": "stream",
     "text": [
      "Hello and welcome to the program, Sarah!\n"
     ]
    }
   ],
   "source": [
    "# Example using f-string interpolation.\n",
    "def new_member(name): \n",
    "    # Alternative line for the previous example.\n",
    "    # Note the space before closing the quotation mark after. \n",
    "    return \"Hello and welcome to the program, \" + name + '!'\n",
    "\n",
    "# The print function allows you to easily preview the output.\n",
    "print(new_member('Sarah'))"
   ]
  },
  {
   "cell_type": "code",
   "execution_count": 15,
   "id": "0e5d26ad",
   "metadata": {},
   "outputs": [
    {
     "data": {
      "text/plain": [
       "22"
      ]
     },
     "execution_count": 15,
     "metadata": {},
     "output_type": "execute_result"
    }
   ],
   "source": [
    "# Example of adding two positional arguments and multiple keyword arguments.\n",
    "def add_optional_bonus(a, b, c=0, d=0):\n",
    "    return a + b + c + d\n",
    "\n",
    "# Including both d and c (out of sequence).\n",
    "add_optional_bonus(5, 6, d=6, c=5) "
   ]
  },
  {
   "cell_type": "code",
   "execution_count": 16,
   "id": "1f2166f1",
   "metadata": {},
   "outputs": [
    {
     "name": "stdout",
     "output_type": "stream",
     "text": [
      "6 7 8\n"
     ]
    }
   ],
   "source": [
    "# Returning multiple values\n",
    "def membership_number(x):\n",
    "    a = x + 1\n",
    "    b = x + 2\n",
    "    c = x + 3\n",
    "    return a, b, c\n",
    "\n",
    "# To show the membership numbers\n",
    "x, y, z = membership_number(5)\n",
    "\n",
    "print(x, y, z)"
   ]
  },
  {
   "cell_type": "code",
   "execution_count": 17,
   "id": "aca5caf9",
   "metadata": {},
   "outputs": [
    {
     "name": "stdout",
     "output_type": "stream",
     "text": [
      "Total weekly workout time is 40 minutes.\n",
      "Total weekly workout time is 3.0 hours.\n"
     ]
    }
   ],
   "source": [
    "# Using the * for a variable argument.\n",
    "def workout_time(*reported):\n",
    "    total_minutes = sum(reported) \n",
    "    if total_minutes < 60:\n",
    "        return f\"Total weekly workout time is {total_minutes} minutes.\"\n",
    "    else: \n",
    "        return f\"Total weekly workout time is {total_minutes/60} hours.\" \n",
    "\n",
    "# The function passes any number of minutes.\n",
    "print(workout_time(10, 10, 20))\n",
    "\n",
    "# The function passes any number of minutes.\n",
    "print(workout_time(60, 60, 20, 40))"
   ]
  },
  {
   "cell_type": "code",
   "execution_count": 22,
   "id": "a7caa2f9",
   "metadata": {},
   "outputs": [
    {
     "name": "stdout",
     "output_type": "stream",
     "text": [
      "{'tomato'}\n",
      "{'beetroot', 'leek', 'carrot', 'parsnip', 'tomato'}\n",
      "{'apple', 'leek', 'beetroot', 'watermelon', 'pear', 'carrot', 'parsnip', 'tomato'}\n",
      "{'parsnip', 'beetroot', 'carrot', 'leek'}\n"
     ]
    }
   ],
   "source": [
    "# Find the intersection.\n",
    "fruit = {'apple', 'pear', 'watermelon','tomato'}\n",
    "vegetables = {'carrot', 'tomato', 'parsnip', 'leek'} \n",
    "\n",
    "print(fruit.intersection(vegetables))\n",
    "\n",
    "vegetables.add('beetroot')\n",
    "print(vegetables)\n",
    "\n",
    "edible_plants = vegetables.union(fruit)\n",
    "\n",
    "\n",
    "print(edible_plants)\n",
    "\n",
    "print(edible_plants.difference(fruit))"
   ]
  },
  {
   "cell_type": "code",
   "execution_count": 25,
   "id": "3523234a",
   "metadata": {},
   "outputs": [
    {
     "name": "stdout",
     "output_type": "stream",
     "text": [
      "Hello, the temperature today is 23 and the wind speed is 50mph the direction is north.\n"
     ]
    }
   ],
   "source": [
    "class Weather:\n",
    "    def __init__(self, temperature, wind_speed, direction):\n",
    "        self.temperature = temperature\n",
    "        self.wind_speed = wind_speed\n",
    "        self.direction = direction\n",
    "    def introduce(self):\n",
    "        print(f\"Hello, the temperature today is {self.temperature} and the wind speed is {self.wind_speed} the direction is {self.direction}.\")\n",
    "    \n",
    "today_weather = Weather(\"23\", \"50mph\", \"north\")\n",
    "today_weather.introduce()\n",
    "              "
   ]
  },
  {
   "cell_type": "markdown",
   "id": "72d11285",
   "metadata": {},
   "source": [
    "### 1.3 Python libraries and reproducibility of code"
   ]
  },
  {
   "cell_type": "markdown",
   "id": "19a75485",
   "metadata": {},
   "source": [
    "# "
   ]
  },
  {
   "cell_type": "code",
   "execution_count": null,
   "id": "858e53a9",
   "metadata": {},
   "outputs": [],
   "source": []
  },
  {
   "cell_type": "code",
   "execution_count": null,
   "id": "d7c458df",
   "metadata": {},
   "outputs": [],
   "source": []
  },
  {
   "cell_type": "code",
   "execution_count": null,
   "id": "01029438",
   "metadata": {},
   "outputs": [],
   "source": []
  },
  {
   "cell_type": "code",
   "execution_count": null,
   "id": "52c18b71",
   "metadata": {},
   "outputs": [],
   "source": []
  }
 ],
 "metadata": {
  "kernelspec": {
   "display_name": "Python 3 (ipykernel)",
   "language": "python",
   "name": "python3"
  },
  "language_info": {
   "codemirror_mode": {
    "name": "ipython",
    "version": 3
   },
   "file_extension": ".py",
   "mimetype": "text/x-python",
   "name": "python",
   "nbconvert_exporter": "python",
   "pygments_lexer": "ipython3",
   "version": "3.9.13"
  }
 },
 "nbformat": 4,
 "nbformat_minor": 5
}
