{
 "cells": [
  {
   "cell_type": "markdown",
   "id": "0ec3aaca",
   "metadata": {},
   "source": [
    "### LSE Data Analytics Online Career Accelerator \n",
    "\n",
    "# DA201:  Data Analytics with Python"
   ]
  },
  {
   "cell_type": "markdown",
   "id": "84d27caa",
   "metadata": {},
   "source": [
    "## Methods of a set (tutorial video)"
   ]
  },
  {
   "cell_type": "markdown",
   "id": "c990b657",
   "metadata": {},
   "source": [
    "This file contains the code snippets that are introduced in the Methods of a set video. Follow along with the demonstration to:\n",
    "- add items to a set \n",
    "- add items from one set to another \n",
    "- use the set union method\n",
    "- use the set intersection method\n",
    "- use the set difference method\n",
    "- use the set symmetric difference method.  \n",
    "\n",
    "\n",
    "Play and pause the video to follow along with the demonstration."
   ]
  },
  {
   "cell_type": "markdown",
   "id": "d3bca770",
   "metadata": {},
   "source": [
    "### 1. Create two sets"
   ]
  },
  {
   "cell_type": "code",
   "execution_count": 3,
   "id": "9b964af5",
   "metadata": {},
   "outputs": [
    {
     "name": "stdout",
     "output_type": "stream",
     "text": [
      "{1, 2, 3, 4} {5, 6, 7}\n"
     ]
    }
   ],
   "source": [
    "# Create two sets.\n",
    "set1 = set([1, 2, 3, 4, 4, 2])\n",
    "set2 = {5, 6, 7, 7, 6, 5}\n",
    "print(set1,set2)"
   ]
  },
  {
   "cell_type": "markdown",
   "id": "9c9c1f35",
   "metadata": {},
   "source": [
    "### 2. Add items to a set"
   ]
  },
  {
   "cell_type": "code",
   "execution_count": 4,
   "id": "6f5842dd",
   "metadata": {},
   "outputs": [
    {
     "name": "stdout",
     "output_type": "stream",
     "text": [
      "{1, 2, 3, 4, 'cake'}\n"
     ]
    }
   ],
   "source": [
    "# Example of adding an item to a set\n",
    "# Use the .add() method.\n",
    "set1.add('cake')\n",
    "\n",
    "# View the set.\n",
    "print(set1)"
   ]
  },
  {
   "cell_type": "markdown",
   "id": "98ac42e5",
   "metadata": {},
   "source": [
    "### 3. Add items from one set to another set"
   ]
  },
  {
   "cell_type": "code",
   "execution_count": 5,
   "id": "02d01c85",
   "metadata": {},
   "outputs": [
    {
     "name": "stdout",
     "output_type": "stream",
     "text": [
      "{1, 2, 3, 4, 5, 6, 7, 'cake'}\n"
     ]
    }
   ],
   "source": [
    "# Example of adding an item to a set.\n",
    "# Use the update() method.\n",
    "set1.update(set2)\n",
    "\n",
    "# View the set.\n",
    "print(set1)"
   ]
  },
  {
   "cell_type": "markdown",
   "id": "7fe19019",
   "metadata": {},
   "source": [
    "### 4. The set union method"
   ]
  },
  {
   "cell_type": "code",
   "execution_count": 6,
   "id": "2431219b",
   "metadata": {},
   "outputs": [
    {
     "name": "stdout",
     "output_type": "stream",
     "text": [
      "{1, 2, 3, 4, 5, 6, 7, 'cake'}\n",
      "{'apple', 'banana', 'cherry'}\n",
      "{'google', 'apple', 'microsoft'}\n"
     ]
    }
   ],
   "source": [
    "# Example of the union() method\n",
    "# Create two new sets.\n",
    "set3 = {'apple', 'banana', 'cherry'}\n",
    "set4 = {'google', 'microsoft', 'apple'}\n",
    "\n",
    "# View set1, set3, and set4.\n",
    "print(set1)\n",
    "print(set3)\n",
    "print(set4)"
   ]
  },
  {
   "cell_type": "code",
   "execution_count": 7,
   "id": "d0ced138",
   "metadata": {},
   "outputs": [
    {
     "name": "stdout",
     "output_type": "stream",
     "text": [
      "{1, 2, 3, 4, 5, 6, 7, 'microsoft', 'banana', 'cherry', 'google', 'cake', 'apple'}\n"
     ]
    }
   ],
   "source": [
    "# Syntax: set.union(set1, set2...).\n",
    "set5 = set1.union(set3, set4)\n",
    "\n",
    "# View the set.\n",
    "print(set5)"
   ]
  },
  {
   "cell_type": "markdown",
   "id": "6687fdc0",
   "metadata": {},
   "source": [
    "### 5. The set intersection method"
   ]
  },
  {
   "cell_type": "code",
   "execution_count": 8,
   "id": "5f48e2d0",
   "metadata": {},
   "outputs": [
    {
     "name": "stdout",
     "output_type": "stream",
     "text": [
      "{'apple', 'banana', 'cherry'}\n",
      "{'google', 'apple', 'microsoft'}\n"
     ]
    }
   ],
   "source": [
    "# View the sets.\n",
    "print(set3)\n",
    "print(set4)"
   ]
  },
  {
   "cell_type": "code",
   "execution_count": 9,
   "id": "5a552713",
   "metadata": {},
   "outputs": [
    {
     "name": "stdout",
     "output_type": "stream",
     "text": [
      "{'apple'}\n"
     ]
    }
   ],
   "source": [
    "# Example of the intersection() method.\n",
    "# Use the intersection() method.\n",
    "# Syntax: set.intersection(set1, set2 ... etc).\n",
    "z = set3.intersection(set4)\n",
    "\n",
    "# View the set.\n",
    "print(z)"
   ]
  },
  {
   "cell_type": "markdown",
   "id": "c6f05097",
   "metadata": {},
   "source": [
    "### 6. The set difference method"
   ]
  },
  {
   "cell_type": "code",
   "execution_count": 10,
   "id": "2290c659",
   "metadata": {},
   "outputs": [
    {
     "name": "stdout",
     "output_type": "stream",
     "text": [
      "{'google', 'microsoft'}\n"
     ]
    }
   ],
   "source": [
    "# Example of the .difference() method.\n",
    "# Syntax: set.difference(set).\n",
    "x = set4.difference(set3)\n",
    "\n",
    "# View the set.\n",
    "print(x)"
   ]
  },
  {
   "cell_type": "markdown",
   "id": "f82a9b90",
   "metadata": {},
   "source": [
    "### 7. The set symmetric difference method"
   ]
  },
  {
   "cell_type": "code",
   "execution_count": 11,
   "id": "d440673b",
   "metadata": {},
   "outputs": [
    {
     "name": "stdout",
     "output_type": "stream",
     "text": [
      "{1, 2, 3, 4, 'cake'}\n"
     ]
    }
   ],
   "source": [
    "# Example of the symmetric_difference() method.\n",
    "# Syntax: set.symmetric_difference(set).\n",
    "a = set1.symmetric_difference(set2)\n",
    "\n",
    "# View the set.\n",
    "print(a)"
   ]
  },
  {
   "cell_type": "code",
   "execution_count": null,
   "id": "0ea28879",
   "metadata": {},
   "outputs": [],
   "source": []
  }
 ],
 "metadata": {
  "kernelspec": {
   "display_name": "Python 3 (ipykernel)",
   "language": "python",
   "name": "python3"
  },
  "language_info": {
   "codemirror_mode": {
    "name": "ipython",
    "version": 3
   },
   "file_extension": ".py",
   "mimetype": "text/x-python",
   "name": "python",
   "nbconvert_exporter": "python",
   "pygments_lexer": "ipython3",
   "version": "3.9.13"
  }
 },
 "nbformat": 4,
 "nbformat_minor": 5
}
